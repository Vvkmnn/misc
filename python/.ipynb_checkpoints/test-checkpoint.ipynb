{
 "cells": [
  {
   "cell_type": "markdown",
   "metadata": {},
   "source": [
    "Please revise the provided example in Python, such that the guessing game allows a player at most 10 attempts to guess a random integer between 0 and 100 (inclusive). After each guess the program will say whether the answer is too low, too high, or correct, and after 10 guesses or one correct guess the game will end. At the end of the game the program will say the player has won or lost."
   ]
  },
  {
   "cell_type": "code",
   "execution_count": 5,
   "metadata": {
    "collapsed": false
   },
   "outputs": [
    {
     "name": "stdout",
     "output_type": "stream",
     "text": [
      "34\n",
      "What's your guess?\n",
      "test\n"
     ]
    },
    {
     "ename": "ValueError",
     "evalue": "invalid literal for int() with base 10: 'test'",
     "output_type": "error",
     "traceback": [
      "\u001b[0;31m---------------------------------------------------------------------------\u001b[0m",
      "\u001b[0;31mValueError\u001b[0m                                Traceback (most recent call last)",
      "\u001b[0;32m<ipython-input-5-f4b027f01e20>\u001b[0m in \u001b[0;36m<module>\u001b[0;34m()\u001b[0m\n\u001b[1;32m     32\u001b[0m \u001b[0;34m\u001b[0m\u001b[0m\n\u001b[1;32m     33\u001b[0m \u001b[0;31m# Run the Game\u001b[0m\u001b[0;34m\u001b[0m\u001b[0;34m\u001b[0m\u001b[0m\n\u001b[0;32m---> 34\u001b[0;31m \u001b[0mSecretNumberGame\u001b[0m\u001b[0;34m(\u001b[0m\u001b[0;34m)\u001b[0m\u001b[0;34m\u001b[0m\u001b[0m\n\u001b[0m",
      "\u001b[0;32m<ipython-input-5-f4b027f01e20>\u001b[0m in \u001b[0;36mSecretNumberGame\u001b[0;34m()\u001b[0m\n\u001b[1;32m     18\u001b[0m     \u001b[0;32mwhile\u001b[0m \u001b[0msecret_number\u001b[0m \u001b[0;34m!=\u001b[0m \u001b[0mguess\u001b[0m \u001b[0;32mand\u001b[0m \u001b[0mmax_guesses\u001b[0m \u001b[0;34m>\u001b[0m \u001b[0;36m0\u001b[0m\u001b[0;34m:\u001b[0m\u001b[0;34m\u001b[0m\u001b[0m\n\u001b[1;32m     19\u001b[0m         \u001b[0mprint\u001b[0m\u001b[0;34m(\u001b[0m\u001b[0;34m\"What's your guess?\"\u001b[0m\u001b[0;34m)\u001b[0m\u001b[0;34m\u001b[0m\u001b[0m\n\u001b[0;32m---> 20\u001b[0;31m         \u001b[0mguess\u001b[0m \u001b[0;34m=\u001b[0m \u001b[0mint\u001b[0m\u001b[0;34m(\u001b[0m\u001b[0minput\u001b[0m\u001b[0;34m(\u001b[0m\u001b[0;34m)\u001b[0m\u001b[0;34m)\u001b[0m\u001b[0;34m\u001b[0m\u001b[0m\n\u001b[0m\u001b[1;32m     21\u001b[0m         \u001b[0;32mif\u001b[0m \u001b[0mguess\u001b[0m \u001b[0;34m<\u001b[0m \u001b[0msecret_number\u001b[0m\u001b[0;34m:\u001b[0m\u001b[0;34m\u001b[0m\u001b[0m\n\u001b[1;32m     22\u001b[0m             \u001b[0mmax_guesses\u001b[0m \u001b[0;34m-=\u001b[0m \u001b[0;36m1\u001b[0m\u001b[0;34m\u001b[0m\u001b[0m\n",
      "\u001b[0;31mValueError\u001b[0m: invalid literal for int() with base 10: 'test'"
     ]
    }
   ],
   "source": [
    "#!/usr/bin/env python3\n",
    "\n",
    "# Modules\n",
    "import random\n",
    "\n",
    "def Guesser():\n",
    "    try:\n",
    "        int(input())\n",
    "    except ValueError as err:\n",
    "        print(err.args)\n",
    "\n",
    "# Game Function\n",
    "def SecretNumberGame():\n",
    "    # Variables\n",
    "    secret_number = random.randint(0, 100)    \n",
    "    max_guesses = 10\n",
    "    guess = -1\n",
    "\n",
    "    \n",
    "    # Game Routine\n",
    "    while secret_number != guess and max_guesses > 0:  \n",
    "        print(\"What's your guess?\")\n",
    "        Guesser()\n",
    "        if guess < secret_number:   \n",
    "            max_guesses -= 1\n",
    "            print(\"Your guess was too low. {} guesses remaining.\".format(max_guesses))\n",
    "        elif guess > secret_number:\n",
    "            max_guesses -= 1\n",
    "            print(\"Your guess was too high. {} guesses remaining.\".format(max_guesses))\n",
    "        elif guess == secret_number:   \n",
    "            print(\"You guessed right! You win!\")\n",
    "            break\n",
    "    else:\n",
    "        print(\"You're out of guesses. You lose. :C\")\n",
    "\n",
    "# Run the Game\n",
    "SecretNumberGame()"
   ]
  },
  {
   "cell_type": "markdown",
   "metadata": {},
   "source": [
    "## "
   ]
  }
 ],
 "metadata": {
  "kernelspec": {
   "display_name": "Python 3",
   "language": "python",
   "name": "python3"
  },
  "language_info": {
   "codemirror_mode": {
    "name": "ipython",
    "version": 3
   },
   "file_extension": ".py",
   "mimetype": "text/x-python",
   "name": "python",
   "nbconvert_exporter": "python",
   "pygments_lexer": "ipython3",
   "version": "3.5.2"
  }
 },
 "nbformat": 4,
 "nbformat_minor": 0
}
