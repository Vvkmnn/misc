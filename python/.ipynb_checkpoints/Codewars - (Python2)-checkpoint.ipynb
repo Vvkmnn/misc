{
 "cells": [
  {
   "cell_type": "code",
   "execution_count": null,
   "metadata": {
    "collapsed": true
   },
   "outputs": [],
   "source": [
    "def persistence(n):\n",
    "    i = 0\n",
    "    while len(str(abs(n))) > 1:\n",
    "        i += 1\n",
    "        n = reduce(lambda x, y: x*y, [int(i) for i in str(n)])\n",
    "    return(i)\n",
    "        \n",
    "persistence(4134)"
   ]
  }
 ],
 "metadata": {
  "kernelspec": {
   "display_name": "Python 2",
   "language": "python",
   "name": "python2"
  }
 },
 "nbformat": 4,
 "nbformat_minor": 1
}
