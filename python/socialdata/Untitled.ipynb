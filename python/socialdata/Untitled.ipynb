{
    "cells": [
        {
            "cell_type": "code",
            "execution_count": null,
            "metadata": {
                "collapsed": true,
                "id": "0a67162f-8f26-4f85-961e-6d381ffdae19",
                "focus": true
            },
            "outputs": [],
            "source": [
                "import twitter\n",
                "\n",
                "# XXX: Go to http://dev.twitter.com/apps/new to create an app and get values\n",
                "# for these credentials, which you'll need to provide in place of these\n",
                "# empty string values that are defined as placeholders.\n",
                "# See https://dev.twitter.com/docs/auth/oauth for more information \n",
                "# on Twitter's OAuth implementation.\n",
                "\n",
                "CONSUMER_KEY = ''\n",
                "CONSUMER_SECRET =''\n",
                "OAUTH_TOKEN = ''\n",
                "OAUTH_TOKEN_SECRET = ''\n",
                "\n",
                "auth = twitter.oauth.OAuth(OAUTH_TOKEN, OAUTH_TOKEN_SECRET,\n",
                "                           CONSUMER_KEY, CONSUMER_SECRET)\n",
                "\n",
                "twitter_api = twitter.Twitter(auth=auth)\n",
                "\n",
                "# Nothing to see by displaying twitter_api except that it's now a\n",
                "# defined variable\n",
                "\n",
                "print twitter_api"
            ]
        },
        {
            "cell_type": "code",
            "execution_count": null,
            "metadata": {
                "collapsed": false
            },
            "outputs": [],
            "source": []
        },
        {
            "cell_type": "code",
            "execution_count": null,
            "metadata": {
                "collapsed": false
            },
            "outputs": [],
            "source": []
        }
    ],
    "metadata": {
        "kernelspec": {
            "display_name": "Python 3",
            "language": "python",
            "name": "python3"
        },
        "language_info": {
            "codemirror_mode": {
                "name": "ipython",
                "version": 3
            },
            "file_extension": ".py",
            "mimetype": "text/x-python",
            "name": "python",
            "nbconvert_exporter": "python",
            "pygments_lexer": "ipython3",
            "version": "3.5.1"
        }
    },
    "nbformat": 4,
    "nbformat_minor": 0
}