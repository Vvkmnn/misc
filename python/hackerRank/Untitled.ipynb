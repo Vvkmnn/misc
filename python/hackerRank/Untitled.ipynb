{
 "cells": [
  {
   "cell_type": "code",
   "execution_count": 4,
   "metadata": {
    "collapsed": true,
    "deletable": true,
    "editable": true
   },
   "outputs": [],
   "source": [
    "import numpy as np"
   ]
  },
  {
   "cell_type": "code",
   "execution_count": 13,
   "metadata": {
    "collapsed": false,
    "deletable": true,
    "editable": true
   },
   "outputs": [],
   "source": [
    "x = np.array([[3,-3],[3,-6],[9,-3],[9,-6]])"
   ]
  },
  {
   "cell_type": "code",
   "execution_count": 15,
   "metadata": {
    "collapsed": true,
    "deletable": true,
    "editable": true
   },
   "outputs": [],
   "source": [
    "y = np.array([[-(1/3), 0],[0,(1/3)]] )"
   ]
  },
  {
   "cell_type": "code",
   "execution_count": 18,
   "metadata": {
    "collapsed": false,
    "deletable": true,
    "editable": true
   },
   "outputs": [
    {
     "data": {
      "text/plain": [
       "array([[-1., -1.],\n",
       "       [-1., -2.],\n",
       "       [-3., -1.],\n",
       "       [-3., -2.]])"
      ]
     },
     "execution_count": 18,
     "metadata": {},
     "output_type": "execute_result"
    }
   ],
   "source": [
    "np.dot(x,y)"
   ]
  },
  {
   "cell_type": "code",
   "execution_count": null,
   "metadata": {
    "collapsed": true,
    "deletable": true,
    "editable": true
   },
   "outputs": [],
   "source": [
    "[23, 0.75]\n",
    "[6, 1.75]"
   ]
  },
  {
   "cell_type": "code",
   "execution_count": 10,
   "metadata": {
    "collapsed": false,
    "deletable": true,
    "editable": true,
    "scrolled": true
   },
   "outputs": [
    {
     "ename": "ValueError",
     "evalue": "only 2 non-keyword arguments accepted",
     "output_type": "error",
     "traceback": [
      "\u001b[0;31m---------------------------------------------------------------------------\u001b[0m",
      "\u001b[0;31mValueError\u001b[0m                                Traceback (most recent call last)",
      "\u001b[0;32m<ipython-input-10-0a48883df823>\u001b[0m in \u001b[0;36m<module>\u001b[0;34m()\u001b[0m\n\u001b[0;32m----> 1\u001b[0;31m \u001b[0mx\u001b[0m \u001b[0;34m=\u001b[0m \u001b[0mnp\u001b[0m\u001b[0;34m.\u001b[0m\u001b[0marray\u001b[0m\u001b[0;34m(\u001b[0m \u001b[0;34m(\u001b[0m\u001b[0;36m3\u001b[0m\u001b[0;34m,\u001b[0m\u001b[0;34m-\u001b[0m\u001b[0;36m3\u001b[0m\u001b[0;34m)\u001b[0m\u001b[0;34m,\u001b[0m\u001b[0;34m(\u001b[0m\u001b[0;36m3\u001b[0m\u001b[0;34m,\u001b[0m\u001b[0;34m-\u001b[0m\u001b[0;36m6\u001b[0m\u001b[0;34m)\u001b[0m\u001b[0;34m,\u001b[0m\u001b[0;34m(\u001b[0m\u001b[0;36m9\u001b[0m\u001b[0;34m,\u001b[0m\u001b[0;34m-\u001b[0m\u001b[0;36m3\u001b[0m\u001b[0;34m)\u001b[0m\u001b[0;34m,\u001b[0m\u001b[0;34m(\u001b[0m\u001b[0;36m9\u001b[0m\u001b[0;34m,\u001b[0m\u001b[0;34m-\u001b[0m\u001b[0;36m6\u001b[0m\u001b[0;34m)\u001b[0m \u001b[0;34m)\u001b[0m\u001b[0;34m\u001b[0m\u001b[0m\n\u001b[0m",
      "\u001b[0;31mValueError\u001b[0m: only 2 non-keyword arguments accepted"
     ]
    }
   ],
   "source": [
    "x = np.array( ((2,3), (3, 5)) )"
   ]
  },
  {
   "cell_type": "code",
   "execution_count": 9,
   "metadata": {
    "collapsed": false,
    "deletable": true,
    "editable": true
   },
   "outputs": [
    {
     "data": {
      "text/plain": [
       "matrix([[2, 3],\n",
       "        [3, 5]])"
      ]
     },
     "execution_count": 9,
     "metadata": {},
     "output_type": "execute_result"
    }
   ],
   "source": [
    "np.mat(x)"
   ]
  },
  {
   "cell_type": "code",
   "execution_count": 7,
   "metadata": {
    "collapsed": false,
    "deletable": true,
    "editable": true
   },
   "outputs": [
    {
     "data": {
      "text/plain": [
       "array([0, 0, 1])"
      ]
     },
     "execution_count": 7,
     "metadata": {},
     "output_type": "execute_result"
    }
   ],
   "source": [
    "np.array([0,0,1])"
   ]
  },
  {
   "cell_type": "code",
   "execution_count": 3,
   "metadata": {
    "collapsed": false,
    "deletable": true,
    "editable": true,
    "scrolled": false
   },
   "outputs": [
    {
     "ename": "TypeError",
     "evalue": "can't multiply sequence by non-int of type 'list'",
     "output_type": "error",
     "traceback": [
      "\u001b[0;31m---------------------------------------------------------------------------\u001b[0m",
      "\u001b[0;31mTypeError\u001b[0m                                 Traceback (most recent call last)",
      "\u001b[0;32m<ipython-input-3-a197b4923dd2>\u001b[0m in \u001b[0;36m<module>\u001b[0;34m()\u001b[0m\n\u001b[0;32m----> 1\u001b[0;31m \u001b[0;34m[\u001b[0m\u001b[0;34m[\u001b[0m\u001b[0;36m3\u001b[0m\u001b[0;34m,\u001b[0m\u001b[0;34m-\u001b[0m\u001b[0;36m3\u001b[0m\u001b[0;34m]\u001b[0m\u001b[0;34m,\u001b[0m\u001b[0;34m[\u001b[0m\u001b[0;36m3\u001b[0m\u001b[0;34m,\u001b[0m\u001b[0;34m-\u001b[0m\u001b[0;36m6\u001b[0m\u001b[0;34m]\u001b[0m\u001b[0;34m,\u001b[0m\u001b[0;34m[\u001b[0m\u001b[0;36m9\u001b[0m\u001b[0;34m,\u001b[0m\u001b[0;34m-\u001b[0m\u001b[0;36m3\u001b[0m\u001b[0;34m]\u001b[0m\u001b[0;34m,\u001b[0m\u001b[0;34m[\u001b[0m\u001b[0;36m9\u001b[0m\u001b[0;34m,\u001b[0m\u001b[0;34m-\u001b[0m\u001b[0;36m6\u001b[0m\u001b[0;34m]\u001b[0m\u001b[0;34m]\u001b[0m \u001b[0;34m*\u001b[0m \u001b[0;34m[\u001b[0m\u001b[0;34m[\u001b[0m\u001b[0;34m-\u001b[0m\u001b[0;34m(\u001b[0m\u001b[0;36m1\u001b[0m\u001b[0;34m/\u001b[0m\u001b[0;36m3\u001b[0m\u001b[0;34m)\u001b[0m\u001b[0;34m,\u001b[0m \u001b[0;36m0\u001b[0m\u001b[0;34m]\u001b[0m\u001b[0;34m,\u001b[0m\u001b[0;34m[\u001b[0m\u001b[0;36m0\u001b[0m\u001b[0;34m,\u001b[0m\u001b[0;34m(\u001b[0m\u001b[0;36m1\u001b[0m\u001b[0;34m/\u001b[0m\u001b[0;36m3\u001b[0m\u001b[0;34m)\u001b[0m\u001b[0;34m]\u001b[0m\u001b[0;34m]\u001b[0m\u001b[0;34m\u001b[0m\u001b[0m\n\u001b[0m",
      "\u001b[0;31mTypeError\u001b[0m: can't multiply sequence by non-int of type 'list'"
     ]
    }
   ],
   "source": [
    "[[3,-3],[3,-6],[9,-3],[9,-6]] * [[-(1/3), 0],[0,(1/3)]] "
   ]
  },
  {
   "cell_type": "markdown",
   "metadata": {
    "deletable": true,
    "editable": true
   },
   "source": [
    "1)\tGiven an array of `N` integers and a number `i`, perform `i` left rotations on the array then print the array.\n",
    "\n",
    "\tA left rotation operation on an array shifts each of the array's elements 1 unit to the left.\n",
    "\t\n",
    "    example: array {1, 2, 3, 4} after 2 left shifts would become {3, 4, 1, 2}\n",
    "\n",
    "\tInput format\n",
    "\t1st line contains two space-separated integers denoting the respective values of N (the number of integers) and l (the number of left rotations you must perform). \n",
    "\t2nd line contains N space-separated integers describing the respective elements of the array's initial state.\n",
    "\n",
    "\tOutput/Print a single line of N space-separated integers denoting the final state of the array after performing  left rotations."
   ]
  },
  {
   "cell_type": "code",
   "execution_count": 3,
   "metadata": {
    "collapsed": false,
    "deletable": true,
    "editable": true
   },
   "outputs": [
    {
     "data": {
      "text/plain": [
       "4"
      ]
     },
     "execution_count": 3,
     "metadata": {},
     "output_type": "execute_result"
    }
   ],
   "source": [
    "len(arr)"
   ]
  },
  {
   "cell_type": "code",
   "execution_count": 69,
   "metadata": {
    "collapsed": true,
    "deletable": true,
    "editable": true
   },
   "outputs": [],
   "source": [
    "arr = [1,2,3,4]"
   ]
  },
  {
   "cell_type": "code",
   "execution_count": 70,
   "metadata": {
    "collapsed": false,
    "deletable": true,
    "editable": true,
    "scrolled": true
   },
   "outputs": [
    {
     "data": {
      "text/plain": [
       "[2, 3, 4, 1]"
      ]
     },
     "execution_count": 70,
     "metadata": {},
     "output_type": "execute_result"
    }
   ],
   "source": [
    "\n",
    "def rotate(l, n):\n",
    "    # take last n elements \n",
    "    # append before any elements before n\n",
    "    return(l[-n:] + l[:-n]) if l and n > 0 else print('Invalid inputs.')\n",
    "        \n",
    "rotate(arr, 3)"
   ]
  },
  {
   "cell_type": "code",
   "execution_count": 60,
   "metadata": {
    "collapsed": false,
    "deletable": true,
    "editable": true
   },
   "outputs": [
    {
     "data": {
      "text/plain": [
       "[1, 2, 3]"
      ]
     },
     "execution_count": 60,
     "metadata": {},
     "output_type": "execute_result"
    }
   ],
   "source": [
    "[1,2,3,4][:-1]"
   ]
  },
  {
   "cell_type": "code",
   "execution_count": 1,
   "metadata": {
    "collapsed": true,
    "deletable": true,
    "editable": true
   },
   "outputs": [],
   "source": [
    "if (arr == null || order < 0) {\n",
    "\t    throw new IllegalArgumentException(\"Illegal argument!\");\n",
    "\t}\n",
    " \n",
    "\tfor (int\n",
    "         i = 0; i < order; i++) {\n",
    "\t\tfor (int j = arr.length - 1; j > 0; j--) {\n",
    "\t\t\tint temp = arr[j];\n",
    "\t\t\tarr[j] = arr[j - 1];\n",
    "\t\t\tarr[j - 1] = temp;\n",
    "\t\t}\n",
    "\t}\n",
    "}"
   ]
  },
  {
   "cell_type": "markdown",
   "metadata": {
    "deletable": true,
    "editable": true
   },
   "source": [
    "2)\tGiven N integers , count the total pairs of integers that have a difference of K\n",
    "\t\n",
    "\tInput Format\n",
    "\t1st line contains two space-separated integers denoting the respective values of N (the number of integers) and K (the diffenrence)\n",
    "\t2nd line contains N space-separated integers. All the N numbers are distinct.\n",
    "\t\n",
    "\tOutput/Print the number of pairs having difference equal to K\n",
    "\texample:\n",
    "\tInput:  6 4\n",
    "\t\t\t8 12 16 4 0 20\n",
    "\tOutput: 5\n",
    "\tThere are 5 pairs with difference 4, the pairs are \n",
    "\t{0, 4}, {4, 8}, {8, 12}, {12, 16} and {16, 20} \n",
    "\t//It can be done either by brute force (running 2 loops and finding all possible pairs) or by sorting the input and binary searching"
   ]
  },
  {
   "cell_type": "code",
   "execution_count": 71,
   "metadata": {
    "collapsed": true,
    "deletable": true,
    "editable": true
   },
   "outputs": [],
   "source": [
    "list = [8, 12, 16, 4, 0, 20]"
   ]
  },
  {
   "cell_type": "code",
   "execution_count": 72,
   "metadata": {
    "collapsed": true,
    "deletable": true,
    "editable": true
   },
   "outputs": [],
   "source": [
    "list.sort()"
   ]
  },
  {
   "cell_type": "code",
   "execution_count": 73,
   "metadata": {
    "collapsed": false,
    "deletable": true,
    "editable": true
   },
   "outputs": [
    {
     "data": {
      "text/plain": [
       "[0, 4, 8, 12, 16, 20]"
      ]
     },
     "execution_count": 73,
     "metadata": {},
     "output_type": "execute_result"
    }
   ],
   "source": [
    "list"
   ]
  },
  {
   "cell_type": "code",
   "execution_count": 81,
   "metadata": {
    "collapsed": false,
    "deletable": true,
    "editable": true
   },
   "outputs": [
    {
     "data": {
      "text/plain": [
       "[4, 8, 12, 16, 20]"
      ]
     },
     "execution_count": 81,
     "metadata": {},
     "output_type": "execute_result"
    }
   ],
   "source": [
    "list[1:]"
   ]
  },
  {
   "cell_type": "code",
   "execution_count": 77,
   "metadata": {
    "collapsed": false,
    "deletable": true,
    "editable": true
   },
   "outputs": [
    {
     "ename": "TypeError",
     "evalue": "'list' object cannot be interpreted as an integer",
     "output_type": "error",
     "traceback": [
      "\u001b[0;31m-----------------------------------------------------------\u001b[0m",
      "\u001b[0;31mTypeError\u001b[0m                 Traceback (most recent call last)",
      "\u001b[0;32m<ipython-input-77-a0899b755e1c>\u001b[0m in \u001b[0;36m<module>\u001b[0;34m()\u001b[0m\n\u001b[0;32m----> 1\u001b[0;31m \u001b[0;32mfor\u001b[0m \u001b[0mi\u001b[0m \u001b[0;32min\u001b[0m \u001b[0mrange\u001b[0m\u001b[0;34m(\u001b[0m\u001b[0;36m1\u001b[0m\u001b[0;34m,\u001b[0m\u001b[0mlist\u001b[0m\u001b[0;34m[\u001b[0m\u001b[0;34m:\u001b[0m\u001b[0;36m1\u001b[0m\u001b[0;34m]\u001b[0m\u001b[0;34m)\u001b[0m\u001b[0;34m:\u001b[0m\u001b[0;34m\u001b[0m\u001b[0m\n\u001b[0m\u001b[1;32m      2\u001b[0m     \u001b[0;32mif\u001b[0m \u001b[0mlist\u001b[0m\u001b[0;34m[\u001b[0m\u001b[0mi\u001b[0m\u001b[0;34m]\u001b[0m \u001b[0;34m-\u001b[0m \u001b[0mlist\u001b[0m\u001b[0;34m[\u001b[0m\u001b[0mi\u001b[0m\u001b[0;34m-\u001b[0m\u001b[0;36m1\u001b[0m\u001b[0;34m]\u001b[0m \u001b[0;34m==\u001b[0m \u001b[0;36m4\u001b[0m\u001b[0;34m:\u001b[0m\u001b[0;34m\u001b[0m\u001b[0m\n\u001b[1;32m      3\u001b[0m         \u001b[0mprint\u001b[0m\u001b[0;34m(\u001b[0m\u001b[0mi\u001b[0m\u001b[0;34m,\u001b[0m\u001b[0mi\u001b[0m\u001b[0;34m-\u001b[0m\u001b[0;36m1\u001b[0m\u001b[0;34m)\u001b[0m\u001b[0;34m\u001b[0m\u001b[0m\n",
      "\u001b[0;31mTypeError\u001b[0m: 'list' object cannot be interpreted as an integer"
     ]
    }
   ],
   "source": [
    "for i in list[:1]:\n",
    "    if list[i] - list[i-1] == 4:\n",
    "        print(i,i-1)"
   ]
  },
  {
   "cell_type": "code",
   "execution_count": 5,
   "metadata": {
    "collapsed": false,
    "deletable": true,
    "editable": true
   },
   "outputs": [],
   "source": [
    "arr = [8, 12, 16, 17, 4, 0, 20]\n",
    "diff = 4"
   ]
  },
  {
   "cell_type": "code",
   "execution_count": 6,
   "metadata": {
    "collapsed": false,
    "deletable": true,
    "editable": true
   },
   "outputs": [
    {
     "data": {
      "text/plain": [
       "[0, 4, 8, 12, 16, 17, 20]"
      ]
     },
     "execution_count": 6,
     "metadata": {},
     "output_type": "execute_result"
    }
   ],
   "source": [
    "arr.sort()\n",
    "arr"
   ]
  },
  {
   "cell_type": "code",
   "execution_count": 30,
   "metadata": {
    "collapsed": false,
    "deletable": true,
    "editable": true
   },
   "outputs": [
    {
     "data": {
      "text/plain": [
       "[(4, 0), (8, 4), (12, 8), (16, 12)]"
      ]
     },
     "execution_count": 30,
     "metadata": {},
     "output_type": "execute_result"
    }
   ],
   "source": [
    "def hasDifference(arr, diff):\n",
    "    arr.sort()\n",
    "    answers = []\n",
    "\n",
    "    [answers.append((arr[i],arr[i-1])) for i in range(0,len(arr)) if arr[i]-arr[i-1]==diff]\n",
    "    return(answers)\n",
    "\n",
    "hasDifference(arr, diff)"
   ]
  },
  {
   "cell_type": "code",
   "execution_count": 25,
   "metadata": {
    "collapsed": false,
    "deletable": true,
    "editable": true
   },
   "outputs": [
    {
     "name": "stdout",
     "output_type": "stream",
     "text": [
      "There are % pairs that have a difference of %: %\n"
     ]
    }
   ],
   "source": [
    "\"There are % pairs that have a difference of %: %\".format(len(answers), diff, answers)"
   ]
  },
  {
   "cell_type": "code",
   "execution_count": 36,
   "metadata": {
    "collapsed": false,
    "deletable": true,
    "editable": true
   },
   "outputs": [
    {
     "ename": "SyntaxError",
     "evalue": "invalid syntax (<ipython-input-36-8ca59942dc73>, line 1)",
     "output_type": "error",
     "traceback": [
      "\u001b[0;36m  File \u001b[0;32m\"<ipython-input-36-8ca59942dc73>\"\u001b[0;36m, line \u001b[0;32m1\u001b[0m\n\u001b[0;31m    [1:1:300]\u001b[0m\n\u001b[0m      ^\u001b[0m\n\u001b[0;31mSyntaxError\u001b[0m\u001b[0;31m:\u001b[0m invalid syntax\n"
     ]
    }
   ],
   "source": [
    "[1:1:300]"
   ]
  },
  {
   "cell_type": "code",
   "execution_count": 38,
   "metadata": {
    "collapsed": false,
    "deletable": true,
    "editable": true
   },
   "outputs": [
    {
     "data": {
      "text/plain": [
       "[(4, 0), (8, 4), (12, 8), (16, 12)]"
      ]
     },
     "execution_count": 38,
     "metadata": {},
     "output_type": "execute_result"
    }
   ],
   "source": [
    "    hasDifference([8, 12, 16, 17, 4, 0, 20],4)"
   ]
  },
  {
   "cell_type": "code",
   "execution_count": 1,
   "metadata": {
    "collapsed": true,
    "deletable": true,
    "editable": true
   },
   "outputs": [],
   "source": [
    "def findPairswithDiff(arr, diff):\n",
    "    \"\"\"\n",
    "    Return a set of all values in an array with a given difference.\n",
    "\n",
    "    Parameters\n",
    "    ----------\n",
    "    arr : list\n",
    "        An array of arbitrary length. \n",
    "    diff : int\n",
    "        Defines the amount of difference required. \n",
    "\n",
    "    Returns\n",
    "    -------\n",
    "    list\n",
    "         A list containing the sets themselves that satisfy the condition.\n",
    "\n",
    "    >>> findPairswithDiff([8, 12, 16, 17, 4, 0, 20], 4)\n",
    "    [(4, 0), (8, 4), (12, 8), (16, 12)]\n",
    "    \"\"\"\n",
    "\n",
    "    arr.sort()\n",
    "    pairs = []\n",
    "\n",
    "    [pairs.append((arr[i],arr[i-1])) for i in range(0,len(arr)) if arr[i]-arr[i-1]==diff]\n",
    "    \n",
    "    return(pairs)"
   ]
  },
  {
   "cell_type": "code",
   "execution_count": null,
   "metadata": {
    "collapsed": true,
    "deletable": true,
    "editable": true
   },
   "outputs": [],
   "source": [
    "[1, 2, 5, 7, 13, 14, 15, 16, 19]"
   ]
  },
  {
   "cell_type": "code",
   "execution_count": 5,
   "metadata": {
    "collapsed": false,
    "deletable": true,
    "editable": true
   },
   "outputs": [
    {
     "data": {
      "text/plain": [
       "[(13, 7)]"
      ]
     },
     "execution_count": 5,
     "metadata": {},
     "output_type": "execute_result"
    }
   ],
   "source": [
    "findPairswithDiff([1, 2, 5, 7, 13, 14, 15, 16, 19], 6)"
   ]
  },
  {
   "cell_type": "code",
   "execution_count": 6,
   "metadata": {
    "collapsed": true,
    "deletable": true,
    "editable": true
   },
   "outputs": [],
   "source": [
    "test = [1, 2, 5, 7, 13, 14, 15, 16, 19]\n"
   ]
  },
  {
   "cell_type": "code",
   "execution_count": 12,
   "metadata": {
    "collapsed": false,
    "deletable": true,
    "editable": true
   },
   "outputs": [],
   "source": [
    "test.append(3)"
   ]
  },
  {
   "cell_type": "code",
   "execution_count": 13,
   "metadata": {
    "collapsed": false,
    "deletable": true,
    "editable": true
   },
   "outputs": [
    {
     "data": {
      "text/plain": [
       "[1, 2, 5, 7, 13, 14, 15, 16, 19, 3]"
      ]
     },
     "execution_count": 13,
     "metadata": {},
     "output_type": "execute_result"
    }
   ],
   "source": [
    "test"
   ]
  },
  {
   "cell_type": "code",
   "execution_count": 36,
   "metadata": {
    "collapsed": false,
    "deletable": true,
    "editable": true
   },
   "outputs": [
    {
     "ename": "SyntaxError",
     "evalue": "invalid syntax (<ipython-input-36-1bc4e88a6ecd>, line 15)",
     "output_type": "error",
     "traceback": [
      "\u001b[0;36m  File \u001b[0;32m\"<ipython-input-36-1bc4e88a6ecd>\"\u001b[0;36m, line \u001b[0;32m15\u001b[0m\n\u001b[0;31m    findPairswithDiff(, 6)\u001b[0m\n\u001b[0m                      ^\u001b[0m\n\u001b[0;31mSyntaxError\u001b[0m\u001b[0;31m:\u001b[0m invalid syntax\n"
     ]
    }
   ],
   "source": [
    "test = [1, 2, 5, 7, 13, 14, 15, 16, 19]\n",
    "\n",
    "def findPairswithDiff(alist, diff):\n",
    "    pairs = []\n",
    "    \n",
    "    try:\n",
    "        for i in alist:\n",
    "            for j in alist:\n",
    "                if i - j == diff:\n",
    "                    pairs.append((i,j))\n",
    "    except:\n",
    "        raise InputErr\n",
    "    return(pairs)\n",
    "\n",
    "findPairswithDiff(, 6)"
   ]
  },
  {
   "cell_type": "code",
   "execution_count": null,
   "metadata": {
    "collapsed": true,
    "deletable": true,
    "editable": true
   },
   "outputs": [],
   "source": [
    "test2 = [1,2,3,9]\n",
    "\n",
    "hasPairWithSum(alist, sum):\n",
    "    comp = []\n",
    "    comp.append(diff-i) for i in alist if i not in "
   ]
  },
  {
   "cell_type": "code",
   "execution_count": 39,
   "metadata": {
    "collapsed": false,
    "deletable": true,
    "editable": true
   },
   "outputs": [],
   "source": [
    "def rotate(l, j):\n",
    "    \"\"\"\n",
    "    Rotate an array l by j rotations. \n",
    "\n",
    "    Parameters\n",
    "    ----------\n",
    "    l : list\n",
    "        An array of arbitrary length. \n",
    "    j : int\n",
    "        Defines how many rotations are done. \n",
    "\n",
    "    Returns\n",
    "    -------\n",
    "    list\n",
    "        The array after rotations.    \n",
    "\n",
    "    >>> rotate( [1,2,3,4], 3)\n",
    "    [2, 3, 4, 1]\n",
    "    \"\"\"\n",
    "\n",
    "    return(l[-j:] + l[:-j])\n",
    "\n",
    "        "
   ]
  },
  {
   "cell_type": "code",
   "execution_count": 35,
   "metadata": {
    "collapsed": false,
    "deletable": true,
    "editable": true
   },
   "outputs": [
    {
     "name": "stdout",
     "output_type": "stream",
     "text": [
      "{'records': [{'key1': 'AAA', 'key2': 'BBB', 'key3': 'CCC', 'key4': 'AAA'}]}\n"
     ]
    }
   ],
   "source": [
    "DATA = {\"records\": [{\"key1\": \"AAA\", \"key2\": \"BBB\", \"key3\": \"CCC\", \"key4\": \"AAA\"}]}\n",
    "\n",
    "for datadict in datalist:\n",
    "    for key, value in datadict.items():\n",
    "        if value == \"AAA\":\n",
    "            datadict[key] = \"XXX\"\n",
    "                \n",
    "print (DATA)"
   ]
  },
  {
   "cell_type": "code",
   "execution_count": null,
   "metadata": {
    "collapsed": true,
    "deletable": true,
    "editable": true
   },
   "outputs": [],
   "source": []
  },
  {
   "cell_type": "code",
   "execution_count": 38,
   "metadata": {
    "collapsed": false,
    "deletable": true,
    "editable": true
   },
   "outputs": [
    {
     "name": "stdout",
     "output_type": "stream",
     "text": [
      "{'records': [{'key1': 'XXX', 'key2': 'BBB', 'key3': 'CCC', 'key4': 'XXX'}]}\n"
     ]
    }
   ],
   "source": [
    "DATA = {\"records\": [{\"key1\": \"AAA\", \"key2\": \"BBB\", \"key3\": \"CCC\", \"key4\": \"AAA\"}]}\n",
    "\n",
    "for name, datalist in DATA.items():  # Or items() in Python 3.x\n",
    "    for datadict in datalist:\n",
    "        for key, value in datadict.items():\n",
    "            if value == \"AAA\":\n",
    "                datadict[key] = \"XXX\"\n",
    "\n",
    "print (DATA)"
   ]
  },
  {
   "cell_type": "code",
   "execution_count": 80,
   "metadata": {
    "collapsed": false,
    "deletable": true,
    "editable": true,
    "scrolled": true
   },
   "outputs": [
    {
     "name": "stdout",
     "output_type": "stream",
     "text": [
      "{'key1': 'xxx', 'key2': 'BBB', 'key3': 'CCC', 'key4': 'xxx'}\n"
     ]
    }
   ],
   "source": [
    "DATA = {\"key1\": \"AAA\", \"key2\": \"BBB\", \"key3\": \"CCC\", \"key4\": \"AAA\"}\n",
    "\n",
    "for i, j in DATA.items():       # use iteritems in py2k\n",
    "    if j == 'AAA':\n",
    "        DATA[i] = 'xxx'\n",
    "        \n",
    "print(DATA)"
   ]
  },
  {
   "cell_type": "code",
   "execution_count": 90,
   "metadata": {
    "collapsed": false,
    "deletable": true,
    "editable": true
   },
   "outputs": [
    {
     "name": "stdout",
     "output_type": "stream",
     "text": [
      "[{'key1': 'AAA', 'key2': 'BBB', 'key3': 'CCC', 'key4': 'AAA'}]\n"
     ]
    }
   ],
   "source": [
    "inputdict = {\"records\": [{\"key1\": \"AAA\", \"key2\": \"BBB\", \"key3\": \"CCC\", \"key4\": \"AAA\"}]}\n",
    "\n",
    "for key, value in inputdict.items():\n",
    "    print(inputdict[key])\n",
    "    if inputdict[key] == 'AAA':\n",
    "        inputdict[key] = 'XXX'"
   ]
  },
  {
   "cell_type": "code",
   "execution_count": 42,
   "metadata": {
    "collapsed": true,
    "deletable": true,
    "editable": true
   },
   "outputs": [],
   "source": [
    "board = {'A4': '123456789', 'G9': '123456789', 'D9': '123456789', 'D6': '2', 'F1': '123456789', 'G3': '2', 'A9': '123456789', 'I5': '1', 'G2': '123456789', 'C2': '123456789', 'D8': '123456789', 'E3': '123456789', 'H6': '3', 'E8': '123456789', 'B2': '123456789', 'G8': '123456789', 'H2': '123456789', 'E2': '123456789', 'C5': '123456789', 'C4': '8', 'F4': '7', 'I9': '123456789', 'A8': '123456789', 'C1': '123456789', 'A5': '2', 'F7': '2', 'H1': '8', 'H3': '123456789', 'H5': '123456789', 'F5': '123456789', 'B7': '123456789', 'B3': '123456789', 'B8': '123456789', 'A7': '6', 'D3': '8', 'G6': '9', 'F3': '6', 'G5': '123456789', 'I6': '123456789', 'E5': '123456789', 'D2': '123456789', 'H7': '123456789', 'D7': '9', 'D1': '123456789', 'G4': '6', 'E4': '123456789', 'B1': '9', 'I7': '3', 'G1': '123456789', 'C7': '4', 'F8': '123456789', 'B4': '3', 'F2': '123456789', 'A3': '3', 'H8': '123456789', 'I1': '123456789', 'C9': '123456789', 'I2': '123456789', 'G7': '5', 'B6': '5', 'B9': '1', 'I3': '5', 'C8': '123456789', 'F9': '123456789', 'D5': '123456789', 'I4': '123456789', 'E1': '7', 'F6': '8', 'D4': '1', 'C6': '6', 'C3': '1', 'E7': '123456789', 'A1': '123456789', 'B5': '123456789', 'H9': '9', 'E9': '8', 'A6': '123456789', 'H4': '2', 'E6': '123456789', 'I8': '123456789', 'A2': '123456789'}\n",
    "\n",
    "print(peers)"
   ]
  },
  {
   "cell_type": "code",
   "execution_count": 1,
   "metadata": {
    "collapsed": true,
    "deletable": true,
    "editable": true
   },
   "outputs": [],
   "source": [
    "# Utils\n",
    "rows = 'ABCDEFGHI'\n",
    "cols = '123456789'\n",
    "\n",
    "def cross(a, b):\n",
    "    return [s+t for s in a for t in b]\n",
    "\n",
    "\n",
    "boxes = cross(rows, cols)\n",
    "row_units = [cross(r, cols) for r in rows]\n",
    "column_units = [cross(rows, c) for c in cols]\n",
    "square_units = [cross(rs, cs) for rs in ('ABC','DEF','GHI') for cs in ('123','456','789')]\n",
    "\n",
    "unitlist = row_units + column_units + square_units"
   ]
  },
  {
   "cell_type": "code",
   "execution_count": 2,
   "metadata": {
    "collapsed": false,
    "deletable": true,
    "editable": true,
    "scrolled": false
   },
   "outputs": [],
   "source": [
    "units = dict((s, [u for u in unitlist if s in u]) for s in boxes)\n",
    "peers = dict((s, set(sum(units[s],[]))-set([s])) for s in boxes)"
   ]
  },
  {
   "cell_type": "code",
   "execution_count": 3,
   "metadata": {
    "collapsed": false,
    "deletable": true,
    "editable": true
   },
   "outputs": [],
   "source": [
    "def display(values):\n",
    "    \"\"\"\n",
    "    Display the values as a 2-D grid.\n",
    "    Input: The sudoku in dictionary form\n",
    "    Output: None\n",
    "    \"\"\"\n",
    "    width = 1+max(len(values[s]) for s in boxes)\n",
    "    line = '+'.join(['-'*(width*3)]*3)\n",
    "    for r in rows:\n",
    "        print(''.join(values[r+c].center(width)+('|' if c in '36' else '')\n",
    "                      for c in cols))\n",
    "        if r in 'CF': print(line)\n",
    "    return\n",
    "\n",
    "\n",
    "# WARNING! We've modified this function to return '123456789' instead of '.' for boxes with no value.\n",
    "# Look at the explanation above in the text.\n",
    "\n",
    "def grid_values(grid):\n",
    "    \"\"\"Convert grid string into {<box>: <value>} dict with '123456789' value for empties.\n",
    "\n",
    "    Args:\n",
    "        grid: Sudoku grid in string form, 81 characters long\n",
    "    Returns:\n",
    "        Sudoku grid in dictionary form:\n",
    "        - keys: Box labels, e.g. 'A1'\n",
    "        - values: Value in corresponding box, e.g. '8', or '123456789' if it is empty.\n",
    "    \"\"\"\n",
    "    values = []\n",
    "    all_digits = '123456789'\n",
    "    for c in grid:\n",
    "        if c == '.':\n",
    "            values.append(all_digits)\n",
    "        elif c in all_digits:\n",
    "            values.append(c)\n",
    "    assert len(values) == 81\n",
    "    return dict(zip(boxes, values))"
   ]
  },
  {
   "cell_type": "code",
   "execution_count": 89,
   "metadata": {
    "collapsed": true
   },
   "outputs": [],
   "source": [
    "values = {'F8': '123456789', 'C8': '123456789', 'E8': '123456789', 'F5': '123456789', 'H1': '8', 'B8': '123456789', 'F2': '123456789', 'C7': '4', 'A9': '123456789', 'I1': '123456789', 'D8': '123456789', 'C9': '123456789', 'E1': '7', 'H4': '2', 'C6': '6', 'F4': '7', 'H7': '123456789', 'E7': '123456789', 'H2': '123456789', 'G7': '5', 'B1': '9', 'B6': '5', 'C4': '8', 'F6': '8', 'A2': '123456789', 'H9': '9', 'B5': '123456789', 'E5': '123456789', 'B7': '123456789', 'G5': '123456789', 'B4': '3', 'F9': '123456789', 'D2': '123456789', 'D6': '2', 'H3': '123456789', 'A6': '123456789', 'E9': '8', 'I7': '3', 'E3': '123456789', 'G3': '2', 'G4': '6', 'F7': '2', 'C3': '1', 'E2': '123456789', 'A8': '123456789', 'H5': '123456789', 'G2': '123456789', 'C1': '123456789', 'E6': '123456789', 'I6': '123456789', 'D3': '8', 'G1': '123456789', 'H6': '3', 'B2': '123456789', 'A7': '6', 'E4': '123456789', 'B3': '123456789', 'G9': '123456789', 'I3': '5', 'C2': '123456789', 'I8': '123456789', 'I5': '1', 'I2': '123456789', 'A3': '3', 'D1': '123456789', 'G6': '9', 'A5': '2', 'I9': '123456789', 'C5': '123456789', 'F3': '6', 'A1': '123456789', 'D5': '123456789', 'H8': '123456789', 'D4': '1', 'I4': '123456789', 'D7': '9', 'G8': '123456789', 'A4': '123456789', 'F1': '123456789', 'B9': '1', 'D9': '123456789'}"
   ]
  },
  {
   "cell_type": "code",
   "execution_count": 74,
   "metadata": {
    "collapsed": false,
    "scrolled": true
   },
   "outputs": [],
   "source": [
    "solved = [square for square in values.keys() if len(values[square]) == 1]\n",
    "unsolved = [square for square in values.keys() if len(values[square]) != 1]"
   ]
  },
  {
   "cell_type": "code",
   "execution_count": 86,
   "metadata": {
    "collapsed": false
   },
   "outputs": [
    {
     "name": "stdout",
     "output_type": "stream",
     "text": [
      "123456789 123456789     3     |123456789     2     123456789 |    6     123456789 123456789 \n",
      "    9     123456789 123456789 |    3     123456789     5     |123456789 123456789     1     \n",
      "123456789 123456789     1     |    8     123456789     6     |    4     123456789 123456789 \n",
      "------------------------------+------------------------------+------------------------------\n",
      "123456789 123456789     8     |    1     123456789     2     |    9     123456789 123456789 \n",
      "    7     123456789 123456789 |123456789 123456789 123456789 |123456789 123456789     8     \n",
      "123456789 123456789     6     |    7     123456789     8     |    2     123456789 123456789 \n",
      "------------------------------+------------------------------+------------------------------\n",
      "123456789 123456789     2     |    6     123456789     9     |    5     123456789 123456789 \n",
      "    8     123456789 123456789 |    2     123456789     3     |123456789 123456789     9     \n",
      "123456789 123456789     5     |123456789     1     123456789 |    3     123456789 123456789 \n"
     ]
    }
   ],
   "source": [
    "display(values)"
   ]
  },
  {
   "cell_type": "code",
   "execution_count": 91,
   "metadata": {
    "collapsed": true
   },
   "outputs": [],
   "source": [
    "values = {'F8': '123456789', 'C8': '123456789', 'E8': '123456789', 'F5': '123456789', 'H1': '8', 'B8': '123456789', 'F2': '123456789', 'C7': '4', 'A9': '123456789', 'I1': '123456789', 'D8': '123456789', 'C9': '123456789', 'E1': '7', 'H4': '2', 'C6': '6', 'F4': '7', 'H7': '123456789', 'E7': '123456789', 'H2': '123456789', 'G7': '5', 'B1': '9', 'B6': '5', 'C4': '8', 'F6': '8', 'A2': '123456789', 'H9': '9', 'B5': '123456789', 'E5': '123456789', 'B7': '123456789', 'G5': '123456789', 'B4': '3', 'F9': '123456789', 'D2': '123456789', 'D6': '2', 'H3': '123456789', 'A6': '123456789', 'E9': '8', 'I7': '3', 'E3': '123456789', 'G3': '2', 'G4': '6', 'F7': '2', 'C3': '1', 'E2': '123456789', 'A8': '123456789', 'H5': '123456789', 'G2': '123456789', 'C1': '123456789', 'E6': '123456789', 'I6': '123456789', 'D3': '8', 'G1': '123456789', 'H6': '3', 'B2': '123456789', 'A7': '6', 'E4': '123456789', 'B3': '123456789', 'G9': '123456789', 'I3': '5', 'C2': '123456789', 'I8': '123456789', 'I5': '1', 'I2': '123456789', 'A3': '3', 'D1': '123456789', 'G6': '9', 'A5': '2', 'I9': '123456789', 'C5': '123456789', 'F3': '6', 'A1': '123456789', 'D5': '123456789', 'H8': '123456789', 'D4': '1', 'I4': '123456789', 'D7': '9', 'G8': '123456789', 'A4': '123456789', 'F1': '123456789', 'B9': '1', 'D9': '123456789'}"
   ]
  },
  {
   "cell_type": "code",
   "execution_count": 87,
   "metadata": {
    "collapsed": false,
    "scrolled": false
   },
   "outputs": [],
   "source": [
    "for square in unsolved:\n",
    "    # get that entry\n",
    "    entry = values[square]\n",
    "    # print(square, entry)\n",
    "    \n",
    "    # for every peer\n",
    "    for peer in peers[square]:\n",
    "        #print(values[peer])\n",
    "        \n",
    "        # update that squares value by replacing it with the peer values\n",
    "        values[square] = values[square].replace(values[peer],'')\n",
    "    \n",
    "display(values)"
   ]
  },
  {
   "cell_type": "code",
   "execution_count": 90,
   "metadata": {
    "collapsed": false
   },
   "outputs": [
    {
     "name": "stdout",
     "output_type": "stream",
     "text": [
      "   45    4578    3   |   49     2     147  |   6     5789    57  \n",
      "   9    24678    47  |   3      47     5   |   78    278     1   \n",
      "   25    257     1   |   8      79     6   |   4    23579   2357 \n",
      "---------------------+---------------------+---------------------\n",
      "  345    345     8   |   1     3456    2   |   9    34567  34567 \n",
      "   7    123459   49  |  459   34569    4   |   1    13456    8   \n",
      "  1345  13459    6   |   7     3459    8   |   2     1345   345  \n",
      "---------------------+---------------------+---------------------\n",
      "  134    1347    2   |   6     478     9   |   5     1478    47  \n",
      "   8     1467    47  |   2     457     3   |   17    1467    9   \n",
      "   46    4679    5   |   4      1      47  |   3    24678   2467 \n"
     ]
    }
   ],
   "source": [
    "solved_values = [box for box in values.keys() if len(values[box]) == 1]\n",
    "for box in solved_values:\n",
    "    digit = values[box]\n",
    "    for peer in peers[box]:\n",
    "        values[peer] = values[peer].replace(digit,'')\n",
    "        \n",
    "display(values)"
   ]
  },
  {
   "cell_type": "code",
   "execution_count": 36,
   "metadata": {
    "collapsed": false
   },
   "outputs": [
    {
     "ename": "NameError",
     "evalue": "name 'digit' is not defined",
     "output_type": "error",
     "traceback": [
      "\u001b[0;31m-----------------------------------------------------------\u001b[0m",
      "\u001b[0;31mNameError\u001b[0m                 Traceback (most recent call last)",
      "\u001b[0;32m<ipython-input-36-022ca8412f86>\u001b[0m in \u001b[0;36m<module>\u001b[0;34m()\u001b[0m\n\u001b[1;32m      1\u001b[0m \u001b[0;32mfor\u001b[0m \u001b[0mpeer\u001b[0m \u001b[0;32min\u001b[0m \u001b[0mpeers\u001b[0m\u001b[0;34m[\u001b[0m\u001b[0;34m'F8'\u001b[0m\u001b[0;34m]\u001b[0m\u001b[0;34m:\u001b[0m\u001b[0;34m\u001b[0m\u001b[0m\n\u001b[0;32m----> 2\u001b[0;31m     \u001b[0mvalues\u001b[0m\u001b[0;34m[\u001b[0m\u001b[0mpeer\u001b[0m\u001b[0;34m]\u001b[0m \u001b[0;34m=\u001b[0m \u001b[0mvalues\u001b[0m\u001b[0;34m[\u001b[0m\u001b[0mpeer\u001b[0m\u001b[0;34m]\u001b[0m\u001b[0;34m.\u001b[0m\u001b[0mreplace\u001b[0m\u001b[0;34m(\u001b[0m\u001b[0mdigit\u001b[0m\u001b[0;34m,\u001b[0m\u001b[0;34m''\u001b[0m\u001b[0;34m)\u001b[0m\u001b[0;34m\u001b[0m\u001b[0m\n\u001b[0m",
      "\u001b[0;31mNameError\u001b[0m: name 'digit' is not defined"
     ]
    }
   ],
   "source": [
    "for peer in peers['F8']:\n",
    "    values[peer] = values[peer].replace(digit,'')"
   ]
  },
  {
   "cell_type": "code",
   "execution_count": 26,
   "metadata": {
    "collapsed": false,
    "scrolled": true
   },
   "outputs": [
    {
     "data": {
      "text/plain": [
       "dict_keys(['F8', 'C8', 'E8', 'F5', 'H1', 'B8', 'F2', 'C7', 'A9', 'I1', 'D8', 'C9', 'E1', 'H4', 'C6', 'F4', 'H7', 'E7', 'H2', 'G7', 'B1', 'B6', 'C4', 'F6', 'A2', 'H9', 'B5', 'E5', 'B7', 'G5', 'B4', 'F9', 'D2', 'D6', 'H3', 'A6', 'E9', 'I7', 'E3', 'G3', 'G4', 'F7', 'C3', 'E2', 'A8', 'H5', 'G2', 'C1', 'E6', 'I6', 'D3', 'G1', 'H6', 'B2', 'A7', 'E4', 'B3', 'G9', 'I3', 'C2', 'I8', 'I5', 'I2', 'A3', 'D1', 'G6', 'A5', 'I9', 'C5', 'F3', 'A1', 'D5', 'H8', 'D4', 'I4', 'D7', 'G8', 'A4', 'F1', 'B9', 'D9'])"
      ]
     },
     "execution_count": 26,
     "metadata": {},
     "output_type": "execute_result"
    }
   ],
   "source": [
    "values.keys()"
   ]
  },
  {
   "cell_type": "code",
   "execution_count": 30,
   "metadata": {
    "collapsed": false,
    "scrolled": true
   },
   "outputs": [
    {
     "data": {
      "text/plain": [
       "['123456789',\n",
       " '123456789',\n",
       " '123456789',\n",
       " '123456789',\n",
       " '123456789',\n",
       " '123456789',\n",
       " '123456789',\n",
       " '123456789',\n",
       " '123456789',\n",
       " '123456789',\n",
       " '123456789',\n",
       " '123456789',\n",
       " '123456789',\n",
       " '123456789',\n",
       " '123456789',\n",
       " '123456789',\n",
       " '123456789',\n",
       " '123456789',\n",
       " '123456789',\n",
       " '123456789',\n",
       " '123456789',\n",
       " '123456789',\n",
       " '123456789',\n",
       " '123456789',\n",
       " '123456789',\n",
       " '123456789',\n",
       " '123456789',\n",
       " '123456789',\n",
       " '123456789',\n",
       " '123456789',\n",
       " '123456789',\n",
       " '123456789',\n",
       " '123456789',\n",
       " '123456789',\n",
       " '123456789',\n",
       " '123456789',\n",
       " '123456789',\n",
       " '123456789',\n",
       " '123456789',\n",
       " '123456789',\n",
       " '123456789',\n",
       " '123456789',\n",
       " '123456789',\n",
       " '123456789',\n",
       " '123456789',\n",
       " '123456789',\n",
       " '123456789',\n",
       " '123456789',\n",
       " '123456789']"
      ]
     },
     "execution_count": 30,
     "metadata": {},
     "output_type": "execute_result"
    }
   ],
   "source": [
    "[values[key] for key in unsolved]"
   ]
  },
  {
   "cell_type": "code",
   "execution_count": 17,
   "metadata": {
    "collapsed": false,
    "scrolled": true
   },
   "outputs": [
    {
     "data": {
      "text/plain": [
       "['H1',\n",
       " 'C7',\n",
       " 'E1',\n",
       " 'H4',\n",
       " 'C6',\n",
       " 'F4',\n",
       " 'G7',\n",
       " 'B1',\n",
       " 'B6',\n",
       " 'C4',\n",
       " 'F6',\n",
       " 'H9',\n",
       " 'B4',\n",
       " 'D6',\n",
       " 'E9',\n",
       " 'I7',\n",
       " 'G3',\n",
       " 'G4',\n",
       " 'F7',\n",
       " 'C3',\n",
       " 'D3',\n",
       " 'H6',\n",
       " 'A7',\n",
       " 'I3',\n",
       " 'I5',\n",
       " 'A3',\n",
       " 'G6',\n",
       " 'A5',\n",
       " 'F3',\n",
       " 'D4',\n",
       " 'D7',\n",
       " 'B9']"
      ]
     },
     "execution_count": 17,
     "metadata": {},
     "output_type": "execute_result"
    }
   ],
   "source": [
    "[box for box in values if len(values[box]) == 1]"
   ]
  },
  {
   "cell_type": "code",
   "execution_count": null,
   "metadata": {
    "collapsed": true,
    "deletable": true,
    "editable": true
   },
   "outputs": [],
   "source": [
    "def eliminate(values):\n",
    "    \"\"\"Eliminate values from peers of each box with a single value.\n",
    "\n",
    "    Go through all the boxes, and whenever there is a box with a single value,\n",
    "    eliminate this value from the set of values of all its peers.\n",
    "\n",
    "    Args:\n",
    "        values: Sudoku in dictionary form.\n",
    "    Returns:\n",
    "        Resulting Sudoku in dictionary form after eliminating values.\n",
    "    \"\"\"\n",
    "    print(values)\n",
    "    pass"
   ]
  }
 ],
 "metadata": {
  "kernelspec": {
   "display_name": "Python 3",
   "language": "python",
   "name": "python3"
  },
  "language_info": {
   "codemirror_mode": {
    "name": "ipython",
    "version": 3
   },
   "file_extension": ".py",
   "mimetype": "text/x-python",
   "name": "python",
   "nbconvert_exporter": "python",
   "pygments_lexer": "ipython3",
   "version": "3.6.0"
  }
 },
 "nbformat": 4,
 "nbformat_minor": 1
}
