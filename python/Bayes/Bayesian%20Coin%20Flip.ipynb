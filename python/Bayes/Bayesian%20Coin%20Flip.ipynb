








<!DOCTYPE html>
<html lang="en">

<head>
  <meta charset="utf-8">
  <title>Jupyter Notebook Viewer</title>
  <meta name="viewport" content="width=device-width, initial-scale=1.0">
  <meta name="description" content="">
  <meta name="author" content="">
  
  <meta name="robots" content="noindex,nofollow">
  

  <!--NEW RELIC Start Perf Measurement-->
  
  <!--NREND-->

  <!-- Le styles -->
  <script type="text/javascript">
//<![CDATA[
try{if (!window.CloudFlare) {var CloudFlare=[{verbose:0,p:0,byc:0,owlid:"cf",bag2:1,mirage2:0,oracle:0,paths:{cloudflare:"/cdn-cgi/nexp/dok3v=1613a3a185/"},atok:"663fb0b680542044936654b29600a7f8",petok:"29195877e2bd69508867a4f7869aabce90401c37-1478701431-1800",zone:"jupyter.org",rocket:"0",apps:{"ga_key":{"ua":"UA-52617120-5","ga_bs":"2"}}}];!function(a,b){a=document.createElement("script"),b=document.getElementsByTagName("script")[0],a.async=!0,a.src="//ajax.cloudflare.com/cdn-cgi/nexp/dok3v=088620b277/cloudflare.min.js",b.parentNode.insertBefore(a,b)}()}}catch(e){};
//]]>
</script>
<link href="/static/build/styles.css" rel="stylesheet">

  <!-- Le HTML5 shim, for IE6-8 support of HTML5 elements -->
  <!--[if lt IE 9]>
    <script src="http://html5shim.googlecode.com/svn/trunk/html5.js"></script>
  <![endif]-->

  <!-- Le fav and touch icons -->
  <link rel="shortcut icon" href="/static/ico/ipynb_icon_16x16.png">
  <link rel="apple-touch-icon-precomposed" sizes="144x144"
        href="/static/ico/apple-touch-icon-144-precomposed.png">
  <link rel="apple-touch-icon-precomposed" sizes="114x114"
        href="/static/ico/apple-touch-icon-114-precomposed.png">
  <link rel="apple-touch-icon-precomposed" sizes="72x72"
        href="/static/ico/apple-touch-icon-72-precomposed.png">
  <link rel="apple-touch-icon-precomposed"
        href="/static/ico/apple-touch-icon-57-precomposed.png">
  
  

  

  
  <meta name="twitter:card" content="summary">
  <meta name="twitter:title" content="Notebook on nbviewer">
  <meta name="twitter:description" content="Check out this Jupyter notebook!">

  
  <meta name="twitter:domain" content="nbviewer.ipython.org">
  <meta name="twitter:image:src" content="http://ipython.org/ipython-doc/dev/_images/ipynb_icon_128x128.png">

  
    <link href="/static/build/notebook.css" rel="stylesheet">
  

  

  
    <script src="https://cdn.mathjax.org/mathjax/latest/MathJax.js?config=TeX-AMS_HTML" type="text/javascript">
    </script>
    <script type="text/javascript">
      init_mathjax = function() {
        if (window.MathJax) {
          // MathJax loaded
          MathJax.Hub.Config({
            TeX: {
              equationNumbers: {
                autoNumber: "AMS",
                useLabelIds: true
              }
            },
            tex2jax: {
              inlineMath: [ ['$','$'], ["\\(","\\)"] ],
              displayMath: [ ['$$','$$'], ["\\[","\\]"] ],
              processEscapes: true,
              processEnvironments: true
            },
            displayAlign: 'center',
            "HTML-CSS": {
              styles: {'.MathJax_Display': {"margin": 0}},
              linebreaks: { automatic: true }
            }
          });
          MathJax.Hub.Queue(["Typeset", MathJax.Hub]);
        }
      }
      init_mathjax();
    </script>
  

<script type="text/javascript">
/* <![CDATA[ */
var _gaq = _gaq || [];
_gaq.push(['_setAccount', 'UA-52617120-5']);
_gaq.push(['_trackPageview']);

(function() {
var ga = document.createElement('script'); ga.type = 'text/javascript'; ga.async = true;
ga.src = ('https:' == document.location.protocol ? 'https://ssl' : 'http://www') + '.google-analytics.com/ga.js';
var s = document.getElementsByTagName('script')[0]; s.parentNode.insertBefore(ga, s);
})();

(function(b){(function(a){"__CF"in b&&"DJS"in b.__CF?b.__CF.DJS.push(a):"addEventListener"in b?b.addEventListener("load",a,!1):b.attachEvent("onload",a)})(function(){"FB"in b&&"Event"in FB&&"subscribe"in FB.Event&&(FB.Event.subscribe("edge.create",function(a){_gaq.push(["_trackSocial","facebook","like",a])}),FB.Event.subscribe("edge.remove",function(a){_gaq.push(["_trackSocial","facebook","unlike",a])}),FB.Event.subscribe("message.send",function(a){_gaq.push(["_trackSocial","facebook","send",a])}));"twttr"in b&&"events"in twttr&&"bind"in twttr.events&&twttr.events.bind("tweet",function(a){if(a){var b;if(a.target&&a.target.nodeName=="IFRAME")a:{if(a=a.target.src){a=a.split("#")[0].match(/[^?=&]+=([^&]*)?/g);b=0;for(var c;c=a[b];++b)if(c.indexOf("url")===0){b=unescape(c.split("=")[1]);break a}}b=void 0}_gaq.push(["_trackSocial","twitter","tweet",b])}})})})(window);
/* ]]> */
</script>
</head>

<body class="nbviewer">

  <!-- These are loaded at the top of the body so they are available to
       notebook cells when they are loaded below. -->
  <script src="/static/components/jquery/dist/jquery.min.js"></script>
  <script src="/static/components/requirejs/require.js"></script>
  <script src="/static/components/moment/min/moment.min.js"></script>

<!-- Navbar
================================================== -->
  <nav id="menubar" class="navbar navbar-default navbar-fixed-top" data-spy="affix">
    <div class="container">
      <div class="navbar-header">
        <button type="button" class="navbar-toggle collapsed" data-toggle="collapse" data-target=".navbar-collapse">
          <span class="sr-only">Toggle navigation</span>
          <i class="fa fa-bars"></i>
        </button>
        <a class="navbar-brand" href="/">
          <img src="/static/img/nav_logo.svg" width="159"/>
        </a>
      </div>

      <div class="collapse navbar-collapse">
        <ul class="nav navbar-nav navbar-right">
          <li>
            <a class="active" href="http://jupyter.org">JUPYTER</a>
          </li>
          <li>
    <a href="/faq" title="FAQ" >
      
        <span>FAQ</span>
      
    </a>
  </li>

          
  
    
  
    
      
        <li>
    <a href="/format/script/github/lambdafu/notebook/blob/master/math/Bayesian%20Coin%20Flip.ipynb" title="View as Code" >
      <span class="fa fa- fa-2x menu-icon"></span>
      <span class="menu-text">View as Code</span>
    </a>
  </li>
      
    
  

  

  
    <li>
    <a href="https://github.com/lambdafu/notebook/blob/master/math/Bayesian%20Coin%20Flip.ipynb" title="View on GitHub" >
      <span class="fa fa-github fa-2x menu-icon"></span>
      <span class="menu-text">View on GitHub</span>
    </a>
  </li>
  

  <li>
    <a href="https://raw.githubusercontent.com/lambdafu/notebook/master/math/Bayesian%20Coin%20Flip.ipynb" title="Download Notebook" download>
      <span class="fa fa-download fa-2x menu-icon"></span>
      <span class="menu-text">Download Notebook</span>
    </a>
  </li>

        </ul>
      </div><!-- /.navbar-collapse -->
      
      
    </div>
  </nav>

  <div class="container container-main">
    
  
  <ol class="breadcrumb">
    
      <li>
        <a href="/github/lambdafu/notebook/tree/master">notebook</a>
      </li>
    
      <li>
        <a href="/github/lambdafu/notebook/tree/master/math">math</a>
      </li>
    
  </ol>
  
  <div id="notebook">
    <div id="notebook-container">
      
<div class="cell border-box-sizing text_cell rendered">
<div class="prompt input_prompt">
</div>
<div class="inner_cell">
<div class="text_cell_render border-box-sizing rendered_html">
<h1 id="Bayesian-Coin-Flip">Bayesian Coin Flip<a class="anchor-link" href="#Bayesian-Coin-Flip">&#182;</a></h1>
</div>
</div>
</div>
<div class="cell border-box-sizing text_cell rendered">
<div class="prompt input_prompt">
</div>
<div class="inner_cell">
<div class="text_cell_render border-box-sizing rendered_html">
<h2 id="Introduction">Introduction<a class="anchor-link" href="#Introduction">&#182;</a></h2>
</div>
</div>
</div>
<div class="cell border-box-sizing text_cell rendered">
<div class="prompt input_prompt">
</div>
<div class="inner_cell">
<div class="text_cell_render border-box-sizing rendered_html">
<p>This notebook gives an introduction to Bayesian statistics, using mostly elementary probability theory and mathematics.</p>

</div>
</div>
</div>
<div class="cell border-box-sizing code_cell rendered">
<div class="input">
<div class="prompt input_prompt">In&nbsp;[41]:</div>
<div class="inner_cell">
    <div class="input_area">
<div class=" highlight hl-ipython3"><pre><span></span><span class="kn">from</span> <span class="nn">sympy</span> <span class="k">import</span> <span class="o">*</span>
<span class="kn">from</span> <span class="nn">sympy.stats</span> <span class="k">import</span> <span class="o">*</span>
</pre></div>

</div>
</div>
</div>

</div>
<div class="cell border-box-sizing text_cell rendered">
<div class="prompt input_prompt">
</div>
<div class="inner_cell">
<div class="text_cell_render border-box-sizing rendered_html">
<h2 id="Coin-Flipping">Coin Flipping<a class="anchor-link" href="#Coin-Flipping">&#182;</a></h2>
</div>
</div>
</div>
<div class="cell border-box-sizing text_cell rendered">
<div class="prompt input_prompt">
</div>
<div class="inner_cell">
<div class="text_cell_render border-box-sizing rendered_html">
<p>Imagine we have a coin $c$ with two sides (heads $\mathrm{H}$ and tails $\mathrm{T}$).  The coin may be fair, or it may biased, we don't know.  We will say that $p(c=\mathrm{H})$ is the probability of the coin toss facing heads, and $p(c=\mathrm{T}) = 1 - p(c=\mathrm{H})$ is the probability of tails.  The value of $h := p(c=\mathrm{H})$ itself is uncertain, and can take any value from 0 to 1.  We represent this uncertainty by a probability density function $f(h)$.  $f$ is a distribution of distributions: The value of $f(h)$ determines the bias of the coin, which itself determines the distribution of the coin tosses.  The following image illustrates this distribution of distributions for a factory of fair coins.  Any particular coin may have a bias (although coins with a large bias are rare), but most coins are fair within a margin of error.</p>

</div>
</div>
</div>
<div class="cell border-box-sizing code_cell rendered">
<div class="input">
<div class="prompt input_prompt">In&nbsp;[42]:</div>
<div class="inner_cell">
    <div class="input_area">
<div class=" highlight hl-ipython3"><pre><span></span><span class="n">h</span> <span class="o">=</span> <span class="n">Symbol</span><span class="p">(</span><span class="s2">&quot;h&quot;</span><span class="p">)</span>
<span class="n">f</span> <span class="o">=</span> <span class="n">Beta</span><span class="p">(</span><span class="n">h</span><span class="p">,</span> <span class="mi">10</span><span class="p">,</span> <span class="mi">10</span><span class="p">)</span>
<span class="n">fig</span> <span class="o">=</span> <span class="n">plot</span><span class="p">(</span><span class="n">density</span><span class="p">(</span><span class="n">f</span><span class="p">)(</span><span class="n">h</span><span class="p">),</span> <span class="p">(</span><span class="n">h</span><span class="p">,</span> <span class="mi">0</span><span class="p">,</span> <span class="mi">1</span><span class="p">),</span> <span class="n">title</span><span class="o">=</span><span class="s2">&quot;Probability density function of the probability of heads&quot;</span><span class="p">,</span> <span class="n">xlabel</span><span class="o">=</span><span class="s2">&quot;$h$&quot;</span><span class="p">,</span> <span class="n">ylabel</span><span class="o">=</span><span class="s2">&quot;$f(h)$&quot;</span><span class="p">)</span>
</pre></div>

</div>
</div>
</div>

<div class="output_wrapper">
<div class="output">


<div class="output_area"><div class="prompt"></div>


<div class="output_png output_subarea ">
<img src="data:image/png;base64,iVBORw0KGgoAAAANSUhEUgAAAYwAAAEZCAYAAACEkhK6AAAABHNCSVQICAgIfAhkiAAAAAlwSFlz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==
"
>
</div>

</div>

</div>
</div>

</div>
<div class="cell border-box-sizing text_cell rendered">
<div class="prompt input_prompt">
</div>
<div class="inner_cell">
<div class="text_cell_render border-box-sizing rendered_html">
<p>After sampling a specific coin from $f(h)$, we can then represent the coin toss with a discrete random variable.</p>

</div>
</div>
</div>
<div class="cell border-box-sizing code_cell rendered">
<div class="input">
<div class="prompt input_prompt">In&nbsp;[43]:</div>
<div class="inner_cell">
    <div class="input_area">
<div class=" highlight hl-ipython3"><pre><span></span><span class="n">c</span> <span class="o">=</span> <span class="n">Symbol</span><span class="p">(</span><span class="s2">&quot;c&quot;</span><span class="p">)</span>
<span class="n">bias</span> <span class="o">=</span> <span class="n">sample</span><span class="p">(</span><span class="n">f</span><span class="p">)</span>
<span class="n">C</span> <span class="o">=</span> <span class="n">Coin</span><span class="p">(</span><span class="n">c</span><span class="p">,</span> <span class="n">bias</span><span class="p">)</span>
<span class="nb">print</span> <span class="n">density</span><span class="p">(</span><span class="n">C</span><span class="p">)</span>
<span class="nb">print</span> <span class="p">[</span><span class="n">sample</span><span class="p">(</span><span class="n">C</span><span class="p">)</span> <span class="k">for</span> <span class="n">i</span> <span class="ow">in</span> <span class="nb">range</span><span class="p">(</span><span class="mi">10</span><span class="p">)]</span>
</pre></div>

</div>
</div>
</div>

<div class="output_wrapper">
<div class="output">


<div class="output_area"><div class="prompt"></div>
<div class="output_subarea output_stream output_stdout output_text">
<pre>{H: 0.511884213785308, T: 0.488115786214692}
[H, T, T, T, H, H, H, T, T, H]
</pre>
</div>
</div>

</div>
</div>

</div>
<div class="cell border-box-sizing text_cell rendered">
<div class="prompt input_prompt">
</div>
<div class="inner_cell">
<div class="text_cell_render border-box-sizing rendered_html">
<h2 id="Bayesian-Inference">Bayesian Inference<a class="anchor-link" href="#Bayesian-Inference">&#182;</a></h2>
</div>
</div>
</div>
<div class="cell border-box-sizing text_cell rendered">
<div class="prompt input_prompt">
</div>
<div class="inner_cell">
<div class="text_cell_render border-box-sizing rendered_html">
<p>Our goal is to understand the consequences of observing tosses of a coin with unknown bias $\hat{h}$.  Ultimately, we want to know the bias of the coin itself, but to answer that, we look at a much bigger question: What is the probability density function $f(h)$ of a coin factory that produces coins with this bias?  Of course, any factory that assigns a non-zero probability mass to $\hat{h}$ is a possible answer, but as we will see in the next section, some are more reasonable than others.  Let's first assume that by some kind of trick we came up with a guess of such a <em>prior distribution</em> $f_n$ for our factory.  Then the Bayesian inference process allows us to improve this guess, based on an observed coin toss $c_n$ (heads or tails).  The resulting <em>posterior distribution</em> $f_{n+1}$ is the best estimate for the probability density function of our hypothetical factory, given the prior distribution and the observed data.  It is derived by Bayes' theorem for conditional propabilities:</p>
$$
f_{n+1}(\hat{h}) := f_n(h=\hat{h}|c=c_n) = \frac{p(c=c_n|h=\hat{h}) f_n(h=\hat{h})}{p(c=c_n)}, \hat{h}\in [0, 1]
$$<p>The left hand side is the posterior distribution after one Bayesian update at step $n$ (there are as many steps as there are observed data points).  It represents the updated probability of the coin bias being $\hat{h}$ after observing $c_n$.  The parameter $\hat{h}$ varies over the whole range $[0,1]$, giving us a probability mass for each possible bias of the coin.  On the right hand side, we have the <em>likelihood</em> $p(c=c_n|h=\hat{h})$ of the observed data $c_n$, assuming that the bias of the coin is $\hat{h}$, and the prior distribution for $h$.  To get a proper probability density function, we have to make sure that the right hand side sums to $1$ over all possible values for $\hat{h}$.  For this, we divide by the <em>normalizing constant</em>, which is easily expressed by the sum over all possible numerators:</p>
$$
p(c=c_n) = \int_0^1 p(c=c_n|h) f_n(h) \thinspace dh
$$<p>Don't panic.  We will do these calculations several times for specific values of $f_n$ and $c_n$, which will give you plenty of time to review how the Bayesian update process works and what its effects are on the probability density function of the coin bias.</p>

</div>
</div>
</div>
<div class="cell border-box-sizing text_cell rendered">
<div class="prompt input_prompt">
</div>
<div class="inner_cell">
<div class="text_cell_render border-box-sizing rendered_html">
<h2 id="Prior-Distribution">Prior Distribution<a class="anchor-link" href="#Prior-Distribution">&#182;</a></h2>
</div>
</div>
</div>
<div class="cell border-box-sizing text_cell rendered">
<div class="prompt input_prompt">
</div>
<div class="inner_cell">
<div class="text_cell_render border-box-sizing rendered_html">
<p>To get started with Bayesian inference, we need a prior distribution of the probability function of our coin factory.  If we had complete knowledge of the bias of the coin, this would be a simple Dirac delta function:</p>

</div>
</div>
</div>
<div class="cell border-box-sizing code_cell rendered">
<div class="input">
<div class="prompt input_prompt">In&nbsp;[44]:</div>
<div class="inner_cell">
    <div class="input_area">
<div class=" highlight hl-ipython3"><pre><span></span><span class="n">f_exact</span> <span class="o">=</span> <span class="n">DiracDelta</span><span class="p">(</span><span class="n">h</span><span class="o">-</span><span class="n">bias</span><span class="p">)</span>
<span class="c1"># Note: DiracDelta is not a Sympy distribution, so we can not plot the density function or sample it.</span>
<span class="n">integrate</span><span class="p">(</span><span class="n">f_exact</span><span class="p">,</span> <span class="p">(</span><span class="n">h</span><span class="p">,</span> <span class="mi">0</span><span class="p">,</span> <span class="mi">1</span><span class="p">))</span>
</pre></div>

</div>
</div>
</div>

<div class="output_wrapper">
<div class="output">


<div class="output_area"><div class="prompt output_prompt">Out[44]:</div>


<div class="output_text output_subarea output_execute_result">
<pre>1</pre>
</div>

</div>

</div>
</div>

</div>
<div class="cell border-box-sizing text_cell rendered">
<div class="prompt input_prompt">
</div>
<div class="inner_cell">
<div class="text_cell_render border-box-sizing rendered_html">
<p>If we lack any information, we can assume that the coin comes from a uniform distribution:</p>

</div>
</div>
</div>
<div class="cell border-box-sizing code_cell rendered">
<div class="input">
<div class="prompt input_prompt">In&nbsp;[45]:</div>
<div class="inner_cell">
    <div class="input_area">
<div class=" highlight hl-ipython3"><pre><span></span><span class="n">f_uniform</span> <span class="o">=</span> <span class="n">Uniform</span><span class="p">(</span><span class="n">h</span><span class="p">,</span> <span class="mi">0</span><span class="p">,</span> <span class="mi">1</span><span class="p">)</span>
<span class="n">sample</span><span class="p">(</span><span class="n">f_uniform</span><span class="p">)</span>
<span class="c1"># This craps out on me.</span>
<span class="c1"># plot(density(f_uniform)(h), (h, 0, 1))</span>
</pre></div>

</div>
</div>
</div>

<div class="output_wrapper">
<div class="output">


<div class="output_area"><div class="prompt output_prompt">Out[45]:</div>


<div class="output_text output_subarea output_execute_result">
<pre>0.583601108813623</pre>
</div>

</div>

</div>
</div>

</div>
<div class="cell border-box-sizing text_cell rendered">
<div class="prompt input_prompt">
</div>
<div class="inner_cell">
<div class="text_cell_render border-box-sizing rendered_html">
<p>Choosing the uniform distribution is not as random as it may appear.  The uniform distribution has maximum entropy.  In this sense it ensures that the prior does not include any hidden assumptions that are not justified by the model.  However, sometimes it can be useful to choose other priors, and in general it may be a good idea to verify that the inference process is not overly sensitive to different reasonable choices for the prior.  We will revisit this question at the very end.</p>

</div>
</div>
</div>
<div class="cell border-box-sizing text_cell rendered">
<div class="prompt input_prompt">
</div>
<div class="inner_cell">
<div class="text_cell_render border-box-sizing rendered_html">
<h2 id="Step-1:-The-Uniform-Prior">Step 1: The Uniform Prior<a class="anchor-link" href="#Step-1:-The-Uniform-Prior">&#182;</a></h2>
</div>
</div>
</div>
<div class="cell border-box-sizing text_cell rendered">
<div class="prompt input_prompt">
</div>
<div class="inner_cell">
<div class="text_cell_render border-box-sizing rendered_html">
<p>Because we assume no knowledge about the bias of the coin in question, we use a uniform prior:</p>
$$
f_1(h) := 1
$$
</div>
</div>
</div>
<div class="cell border-box-sizing code_cell rendered">
<div class="input">
<div class="prompt input_prompt">In&nbsp;[46]:</div>
<div class="inner_cell">
    <div class="input_area">
<div class=" highlight hl-ipython3"><pre><span></span><span class="n">f1</span> <span class="o">=</span> <span class="mi">1</span>
</pre></div>

</div>
</div>
</div>

</div>
<div class="cell border-box-sizing text_cell rendered">
<div class="prompt input_prompt">
</div>
<div class="inner_cell">
<div class="text_cell_render border-box-sizing rendered_html">
<h2 id="Step-2:-The-First-Coin-Toss">Step 2: The First Coin Toss<a class="anchor-link" href="#Step-2:-The-First-Coin-Toss">&#182;</a></h2>
</div>
</div>
</div>
<div class="cell border-box-sizing text_cell rendered">
<div class="prompt input_prompt">
</div>
<div class="inner_cell">
<div class="text_cell_render border-box-sizing rendered_html">
<h3 id="Heads">Heads<a class="anchor-link" href="#Heads">&#182;</a></h3>
</div>
</div>
</div>
<div class="cell border-box-sizing text_cell rendered">
<div class="prompt input_prompt">
</div>
<div class="inner_cell">
<div class="text_cell_render border-box-sizing rendered_html">
<p>We toss the coin and get heads:</p>
$$
c_1 = H
$$<p>We now want to perform the first Bayesian update.  For this, let's look at the individual components of Bayes Theorem.  Clearly, the prior probability of any bias $\hat{h}$ is $1$, because of the chosen uniform distribution:</p>
$$
f_1(\hat{h}) = 1 \text{ (uniform prior)}
$$<p>The likelihood of observing heads, given the bias $\hat{h}$, is simply $\hat{h}$, because this is how we defined the bias.  Note that the likelihood of tails would be $1-\hat{h}$.  These are the only two possible outcomes for the likelihood in this example.</p>
$$
p(c=H|h=\hat{h}) = \hat{h} \text{ (by definition)}
$$<p>Now we only need to calculate the normalization constant.  Luckily, we already did most of the work above:</p>
$$
\int_0^1 p(c=H|h) \cdot f_1(h) \thinspace dh = \int_0^1 h \cdot 1 \thinspace dh = \left. \frac{1}{2} h^2 \right |_0^1 = \frac{1}{2}
$$<p>Putting it all together, we get the posterior distribution:</p>
$$
f_2(\hat{h}) := f_1(h=\hat{h}|c=H) = \frac{\hat{h} \cdot 1}{\frac{1}{2}} = 2\hat{h}
$$<p>or simply: $f_2(h) = 2h$</p>

</div>
</div>
</div>
<div class="cell border-box-sizing code_cell rendered">
<div class="input">
<div class="prompt input_prompt">In&nbsp;[47]:</div>
<div class="inner_cell">
    <div class="input_area">
<div class=" highlight hl-ipython3"><pre><span></span><span class="n">f2</span> <span class="o">=</span> <span class="n">h</span> <span class="o">*</span> <span class="n">f1</span> <span class="o">/</span> <span class="n">integrate</span><span class="p">(</span><span class="n">h</span> <span class="o">*</span> <span class="n">f1</span><span class="p">,</span> <span class="p">(</span><span class="n">h</span><span class="p">,</span> <span class="mi">0</span><span class="p">,</span> <span class="mi">1</span><span class="p">))</span>
<span class="n">plot</span><span class="p">(</span><span class="n">f2</span><span class="p">,</span> <span class="p">(</span><span class="n">h</span><span class="p">,</span> <span class="mi">0</span><span class="p">,</span> <span class="mi">1</span><span class="p">),</span> <span class="n">title</span><span class="o">=</span><span class="s2">&quot;Posterior distribution after observing $c=(\mathrm</span><span class="si">{H}</span><span class="s2">)$.&quot;</span><span class="p">,</span> <span class="n">xlabel</span><span class="o">=</span><span class="s2">&quot;$h$&quot;</span><span class="p">,</span> <span class="n">ylabel</span><span class="o">=</span><span class="s2">&quot;$f_2(h)$&quot;</span><span class="p">)</span>
<span class="n">f2</span>
</pre></div>

</div>
</div>
</div>

<div class="output_wrapper">
<div class="output">


<div class="output_area"><div class="prompt"></div>


<div class="output_png output_subarea ">
<img src="data:image/png;base64,iVBORw0KGgoAAAANSUhEUgAAAYsAAAEcCAYAAAA2g5hwAAAABHNCSVQICAgIfAhkiAAAAAlwSFlz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"
>
</div>

</div>

<div class="output_area"><div class="prompt output_prompt">Out[47]:</div>


<div class="output_text output_subarea output_execute_result">
<pre>2*h</pre>
</div>

</div>

</div>
</div>

</div>
<div class="cell border-box-sizing text_cell rendered">
<div class="prompt input_prompt">
</div>
<div class="inner_cell">
<div class="text_cell_render border-box-sizing rendered_html">
<p>We can see that the posterior distribution favors heads-biased coins over tails-biased coins, in stark contrast to the uniform distribution.  However, even extremely tails-biased coins are still possible, with one exception: Coins that exclusively show tails are now excluded ($f_2(0) = 0$).  This makes sense, because we already observed heads once.</p>

</div>
</div>
</div>
<div class="cell border-box-sizing text_cell rendered">
<div class="prompt input_prompt">
</div>
<div class="inner_cell">
<div class="text_cell_render border-box-sizing rendered_html">
<h3 id="Tails">Tails<a class="anchor-link" href="#Tails">&#182;</a></h3>
</div>
</div>
</div>
<div class="cell border-box-sizing text_cell rendered">
<div class="prompt input_prompt">
</div>
<div class="inner_cell">
<div class="text_cell_render border-box-sizing rendered_html">
<p>Because of the symmetry of the problem, we would get the same result if we had seen tails, but flipped horizontally (due to the transformation $p(c=\mathrm{T}) = 1 - h$).</p>

</div>
</div>
</div>
<div class="cell border-box-sizing code_cell rendered">
<div class="input">
<div class="prompt input_prompt">In&nbsp;[48]:</div>
<div class="inner_cell">
    <div class="input_area">
<div class=" highlight hl-ipython3"><pre><span></span><span class="n">plot</span><span class="p">(</span><span class="n">f2</span><span class="o">.</span><span class="n">subs</span><span class="p">(</span><span class="n">h</span><span class="p">,</span> <span class="mi">1</span><span class="o">-</span><span class="n">h</span><span class="p">),</span> <span class="p">(</span><span class="n">h</span><span class="p">,</span> <span class="mi">0</span><span class="p">,</span> <span class="mi">1</span><span class="p">),</span> <span class="n">title</span><span class="o">=</span><span class="s2">&quot;Posterior distribution after observing $c=(\mathrm</span><span class="si">{T}</span><span class="s2">)$.&quot;</span><span class="p">,</span> <span class="n">xlabel</span><span class="o">=</span><span class="s2">&quot;$h$&quot;</span><span class="p">,</span> <span class="n">ylabel</span><span class="o">=</span><span class="s2">&quot;$f_2(h)$&quot;</span><span class="p">)</span>
<span class="n">f2</span><span class="o">.</span><span class="n">subs</span><span class="p">(</span><span class="n">h</span><span class="p">,</span><span class="mi">1</span><span class="o">-</span><span class="n">h</span><span class="p">)</span>
</pre></div>

</div>
</div>
</div>

<div class="output_wrapper">
<div class="output">


<div class="output_area"><div class="prompt"></div>


<div class="output_png output_subarea ">
<img src="data:image/png;base64,iVBORw0KGgoAAAANSUhEUgAAAYsAAAEcCAYAAAA2g5hwAAAABHNCSVQICAgIfAhkiAAAAAlwSFlz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"
>
</div>

</div>

<div class="output_area"><div class="prompt output_prompt">Out[48]:</div>


<div class="output_text output_subarea output_execute_result">
<pre>-2*h + 2</pre>
</div>

</div>

</div>
</div>

</div>
<div class="cell border-box-sizing text_cell rendered">
<div class="prompt input_prompt">
</div>
<div class="inner_cell">
<div class="text_cell_render border-box-sizing rendered_html">
<h2 id="Step-3:-The-Second-Coin-Toss">Step 3: The Second Coin Toss<a class="anchor-link" href="#Step-3:-The-Second-Coin-Toss">&#182;</a></h2>
</div>
</div>
</div>
<div class="cell border-box-sizing text_cell rendered">
<div class="prompt input_prompt">
</div>
<div class="inner_cell">
<div class="text_cell_render border-box-sizing rendered_html">
<h3 id="Heads-again">Heads again<a class="anchor-link" href="#Heads-again">&#182;</a></h3>
</div>
</div>
</div>
<div class="cell border-box-sizing text_cell rendered">
<div class="prompt input_prompt">
</div>
<div class="inner_cell">
<div class="text_cell_render border-box-sizing rendered_html">
<p>We toss the coin a second time, and we get heads again.  Now we repeat the process.  The previous posterior distribution now becomes the new prior, which requires recalculating the normalization constant.  However, the likelihood is the same as in the previous step.</p>
$$
\int_0^1 p(c=H|h) \cdot f_2(h) \thinspace dh = \int_0^1 h \cdot 2\hat{h} \thinspace dh = \left. \frac{2}{3} h^3 \right |_0^1 = \frac{2}{3}
$$<p>Which yields:</p>
$$
f_3(\hat{h}) := f_2(h=\hat{h}|c=H) = \frac{\hat{h} \cdot 2\hat{h}}{\frac{2}{3}} = 3\hat{h}^2
$$<p>or simply: $f_3(h) = 3h^2$</p>

</div>
</div>
</div>
<div class="cell border-box-sizing code_cell rendered">
<div class="input">
<div class="prompt input_prompt">In&nbsp;[49]:</div>
<div class="inner_cell">
    <div class="input_area">
<div class=" highlight hl-ipython3"><pre><span></span><span class="n">f3</span> <span class="o">=</span> <span class="n">h</span> <span class="o">*</span> <span class="n">f2</span> <span class="o">/</span> <span class="n">integrate</span><span class="p">(</span><span class="n">h</span> <span class="o">*</span> <span class="n">f2</span><span class="p">,</span> <span class="p">(</span><span class="n">h</span><span class="p">,</span> <span class="mi">0</span><span class="p">,</span> <span class="mi">1</span><span class="p">))</span>
<span class="n">fig</span> <span class="o">=</span> <span class="n">plot</span><span class="p">(</span><span class="n">f3</span><span class="p">,</span> <span class="p">(</span><span class="n">h</span><span class="p">,</span> <span class="mi">0</span><span class="p">,</span> <span class="mi">1</span><span class="p">),</span> <span class="n">title</span><span class="o">=</span><span class="s2">&quot;Posterior distribution after observing $c=(\mathrm</span><span class="si">{HH}</span><span class="s2">)$.&quot;</span><span class="p">,</span> <span class="n">xlabel</span><span class="o">=</span><span class="s2">&quot;$h$&quot;</span><span class="p">,</span> <span class="n">ylabel</span><span class="o">=</span><span class="s2">&quot;$f_3(h)$&quot;</span><span class="p">)</span>
<span class="n">f3</span>
</pre></div>

</div>
</div>
</div>

<div class="output_wrapper">
<div class="output">


<div class="output_area"><div class="prompt"></div>


<div class="output_png output_subarea ">
<img src="data:image/png;base64,iVBORw0KGgoAAAANSUhEUgAAAYsAAAEcCAYAAAA2g5hwAAAABHNCSVQICAgIfAhkiAAAAAlwSFlz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"
>
</div>

</div>

<div class="output_area"><div class="prompt output_prompt">Out[49]:</div>


<div class="output_text output_subarea output_execute_result">
<pre>3*h**2</pre>
</div>

</div>

</div>
</div>

</div>
<div class="cell border-box-sizing text_cell rendered">
<div class="prompt input_prompt">
</div>
<div class="inner_cell">
<div class="text_cell_render border-box-sizing rendered_html">
<p>We can see that the distribution now favors heads-biased coins even more strongly.  Considering that two heads in a row is a common event even for fair coins, this may seem strange.  But recall that we used a uniform prior at the very beginning, and did not favor fair coins over strongly biased coins at all.  Consequently, the Bayesian inference process choses the most favorable distribution based on the uniform prior and the observed data.  Had we chosen a prior that preferred fair coins over biased ones (incorporating external knowledge about the world, coin tossing, and gravity), we would see a more moderate result here.  We will see in the folowing sections that, as more data comes in, the choice of the prior becomes less dominant on the overall result.</p>

</div>
</div>
</div>
<div class="cell border-box-sizing text_cell rendered">
<div class="prompt input_prompt">
</div>
<div class="inner_cell">
<div class="text_cell_render border-box-sizing rendered_html">
<h3 id="...-or-Tails">... or Tails<a class="anchor-link" href="#...-or-Tails">&#182;</a></h3>
</div>
</div>
</div>
<div class="cell border-box-sizing text_cell rendered">
<div class="prompt input_prompt">
</div>
<div class="inner_cell">
<div class="text_cell_render border-box-sizing rendered_html">
<p>Had we observed tails in the second toss, we would get a very different distribution.  The integrals are easy to solve, so we will just give the result here as computed with Sympy.  Now that tails is observed, the distribution misses the strong leaning towards heads-biased coins, as it must vanish at $h=1$ (i.e. all-heads).</p>

</div>
</div>
</div>
<div class="cell border-box-sizing code_cell rendered">
<div class="input">
<div class="prompt input_prompt">In&nbsp;[50]:</div>
<div class="inner_cell">
    <div class="input_area">
<div class=" highlight hl-ipython3"><pre><span></span><span class="n">f3_</span> <span class="o">=</span> <span class="p">(</span><span class="mi">1</span><span class="o">-</span><span class="n">h</span><span class="p">)</span> <span class="o">*</span> <span class="n">f2</span> <span class="o">/</span> <span class="n">integrate</span><span class="p">((</span><span class="mi">1</span><span class="o">-</span><span class="n">h</span><span class="p">)</span> <span class="o">*</span> <span class="n">f2</span><span class="p">,</span> <span class="p">(</span><span class="n">h</span><span class="p">,</span> <span class="mi">0</span><span class="p">,</span> <span class="mi">1</span><span class="p">))</span>
<span class="n">plot</span><span class="p">(</span><span class="n">f3_</span><span class="p">,</span> <span class="p">(</span><span class="n">h</span><span class="p">,</span> <span class="mi">0</span><span class="p">,</span> <span class="mi">1</span><span class="p">),</span> <span class="n">title</span><span class="o">=</span><span class="s2">&quot;Posterior distribution after observing $c=(\mathrm</span><span class="si">{HT}</span><span class="s2">)$.&quot;</span><span class="p">,</span> <span class="n">xlabel</span><span class="o">=</span><span class="s2">&quot;$h$&quot;</span><span class="p">,</span> <span class="n">ylabel</span><span class="o">=</span><span class="s2">&quot;$f_3(h)$&quot;</span><span class="p">)</span>
<span class="n">f3_</span>
</pre></div>

</div>
</div>
</div>

<div class="output_wrapper">
<div class="output">


<div class="output_area"><div class="prompt"></div>


<div class="output_png output_subarea ">
<img src="data:image/png;base64,iVBORw0KGgoAAAANSUhEUgAAAYwAAAEcCAYAAADUX4MJAAAABHNCSVQICAgIfAhkiAAAAAlwSFlz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"
>
</div>

</div>

<div class="output_area"><div class="prompt output_prompt">Out[50]:</div>


<div class="output_text output_subarea output_execute_result">
<pre>6*h*(-h + 1)</pre>
</div>

</div>

</div>
</div>

</div>
<div class="cell border-box-sizing text_cell rendered">
<div class="prompt input_prompt">
</div>
<div class="inner_cell">
<div class="text_cell_render border-box-sizing rendered_html">
<h2 id="Step-4:-The-Third-Coin-Toss">Step 4: The Third Coin Toss<a class="anchor-link" href="#Step-4:-The-Third-Coin-Toss">&#182;</a></h2>
</div>
</div>
</div>
<div class="cell border-box-sizing text_cell rendered">
<div class="prompt input_prompt">
</div>
<div class="inner_cell">
<div class="text_cell_render border-box-sizing rendered_html">
<p>We give the results for three coin tosses (apart from identities and symmetries):</p>

</div>
</div>
</div>
<div class="cell border-box-sizing code_cell rendered">
<div class="input">
<div class="prompt input_prompt">In&nbsp;[51]:</div>
<div class="inner_cell">
    <div class="input_area">
<div class=" highlight hl-ipython3"><pre><span></span><span class="n">f4</span> <span class="o">=</span> <span class="n">h</span> <span class="o">*</span> <span class="n">f3</span> <span class="o">/</span> <span class="n">integrate</span><span class="p">(</span><span class="n">h</span> <span class="o">*</span> <span class="n">f3</span><span class="p">,</span> <span class="p">(</span><span class="n">h</span><span class="p">,</span> <span class="mi">0</span><span class="p">,</span> <span class="mi">1</span><span class="p">))</span>
<span class="n">fig</span> <span class="o">=</span> <span class="n">plot</span><span class="p">(</span><span class="n">f4</span><span class="p">,</span> <span class="p">(</span><span class="n">h</span><span class="p">,</span> <span class="mi">0</span><span class="p">,</span> <span class="mi">1</span><span class="p">),</span> <span class="n">title</span><span class="o">=</span><span class="s2">&quot;Posterior distribution after observing $c=(\mathrm</span><span class="si">{HHH}</span><span class="s2">)$.&quot;</span><span class="p">,</span> <span class="n">xlabel</span><span class="o">=</span><span class="s2">&quot;$h$&quot;</span><span class="p">,</span> <span class="n">ylabel</span><span class="o">=</span><span class="s2">&quot;$f_4(h)$&quot;</span><span class="p">)</span>
<span class="n">f4</span>
</pre></div>

</div>
</div>
</div>

<div class="output_wrapper">
<div class="output">


<div class="output_area"><div class="prompt"></div>


<div class="output_png output_subarea ">
<img src="data:image/png;base64,iVBORw0KGgoAAAANSUhEUgAAAYwAAAEcCAYAAADUX4MJAAAABHNCSVQICAgIfAhkiAAAAAlwSFlz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"
>
</div>

</div>

<div class="output_area"><div class="prompt output_prompt">Out[51]:</div>


<div class="output_text output_subarea output_execute_result">
<pre>4*h**3</pre>
</div>

</div>

</div>
</div>

</div>
<div class="cell border-box-sizing code_cell rendered">
<div class="input">
<div class="prompt input_prompt">In&nbsp;[52]:</div>
<div class="inner_cell">
    <div class="input_area">
<div class=" highlight hl-ipython3"><pre><span></span><span class="n">f4_</span> <span class="o">=</span> <span class="p">(</span><span class="mi">1</span><span class="o">-</span><span class="n">h</span><span class="p">)</span> <span class="o">*</span> <span class="n">f3</span> <span class="o">/</span> <span class="n">integrate</span><span class="p">((</span><span class="mi">1</span><span class="o">-</span><span class="n">h</span><span class="p">)</span> <span class="o">*</span> <span class="n">f3</span><span class="p">,</span> <span class="p">(</span><span class="n">h</span><span class="p">,</span> <span class="mi">0</span><span class="p">,</span> <span class="mi">1</span><span class="p">))</span>
<span class="n">fig</span> <span class="o">=</span> <span class="n">plot</span><span class="p">(</span><span class="n">f4_</span><span class="p">,</span> <span class="p">(</span><span class="n">h</span><span class="p">,</span> <span class="mi">0</span><span class="p">,</span> <span class="mi">1</span><span class="p">),</span> <span class="n">title</span><span class="o">=</span><span class="s2">&quot;Posterior distribution after observing $c=(\mathrm</span><span class="si">{HHT}</span><span class="s2">)$.&quot;</span><span class="p">,</span> <span class="n">xlabel</span><span class="o">=</span><span class="s2">&quot;$h$&quot;</span><span class="p">,</span> <span class="n">ylabel</span><span class="o">=</span><span class="s2">&quot;$f_4(h)$&quot;</span><span class="p">)</span>
<span class="n">f4_</span>
</pre></div>

</div>
</div>
</div>

<div class="output_wrapper">
<div class="output">


<div class="output_area"><div class="prompt"></div>


<div class="output_png output_subarea ">
<img src="data:image/png;base64,iVBORw0KGgoAAAANSUhEUgAAAYwAAAEcCAYAAADUX4MJAAAABHNCSVQICAgIfAhkiAAAAAlwSFlz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"
>
</div>

</div>

<div class="output_area"><div class="prompt output_prompt">Out[52]:</div>


<div class="output_text output_subarea output_execute_result">
<pre>12*h**2*(-h + 1)</pre>
</div>

</div>

</div>
</div>

</div>
<div class="cell border-box-sizing text_cell rendered">
<div class="prompt input_prompt">
</div>
<div class="inner_cell">
<div class="text_cell_render border-box-sizing rendered_html">
<h2 id="Arbitrary-Number-of-Coin-Tosses">Arbitrary Number of Coin Tosses<a class="anchor-link" href="#Arbitrary-Number-of-Coin-Tosses">&#182;</a></h2>
</div>
</div>
</div>
<div class="cell border-box-sizing text_cell rendered">
<div class="prompt input_prompt">
</div>
<div class="inner_cell">
<div class="text_cell_render border-box-sizing rendered_html">
<p>The final posterior distribution of a Bayesian update process does not depend on the order of the updates, or even if we do the updates incrementally one after another, or all at once.  We can use this to calculate the posterior after any number of coin tosses $c_1, \..., c_n$.  Assume that the number of heads is $H$ and the number of tails is $T$, then, choosing the uniform prior and any order of the data, we have:</p>
$$
f_1(\hat{h}) = 1
$$$$
p(c_{1,\...,n}|h=\hat{h}) = h^H (1-h)^T
$$$$
\int_0^1 h^H (1-h)^T \cdot 1 \thinspace dh = \text{ ?}
$$<p>Unfortunately, we now have to calculate the integral, which is a bit tricky using only elementary methods (try it, if you are up for a challenge!).  Luckily, Sympy can spit out an acceptable answer in a couple of minutes.  Note that we simplify the expression, and also move the expression to the denominator, where it will end up anyway:</p>

</div>
</div>
</div>
<div class="cell border-box-sizing code_cell rendered">
<div class="input">
<div class="prompt input_prompt">In&nbsp;[53]:</div>
<div class="inner_cell">
    <div class="input_area">
<div class=" highlight hl-ipython3"><pre><span></span><span class="n">H</span> <span class="o">=</span> <span class="n">Symbol</span><span class="p">(</span><span class="s2">&quot;H&quot;</span><span class="p">,</span> <span class="n">positive</span><span class="o">=</span><span class="kc">True</span><span class="p">,</span> <span class="n">integer</span><span class="o">=</span><span class="kc">True</span><span class="p">)</span>
<span class="n">T</span> <span class="o">=</span> <span class="n">Symbol</span><span class="p">(</span><span class="s2">&quot;T&quot;</span><span class="p">,</span> <span class="n">positive</span><span class="o">=</span><span class="kc">True</span><span class="p">,</span> <span class="n">integer</span><span class="o">=</span><span class="kc">True</span><span class="p">)</span>
<span class="c1"># Warning, slow!</span>
<span class="c1">#expr = integrate(h**H*(1-h)**T, (h, 0, 1))</span>
<span class="n">expr</span> <span class="o">=</span> <span class="n">gamma</span><span class="p">(</span><span class="n">H</span> <span class="o">+</span> <span class="mi">1</span><span class="p">)</span><span class="o">*</span><span class="n">hyper</span><span class="p">((</span><span class="o">-</span><span class="n">T</span><span class="p">,</span> <span class="n">H</span> <span class="o">+</span> <span class="mi">1</span><span class="p">),</span> <span class="p">(</span><span class="n">H</span> <span class="o">+</span> <span class="mi">2</span><span class="p">,),</span> <span class="n">exp_polar</span><span class="p">(</span><span class="mi">2</span><span class="o">*</span><span class="n">I</span><span class="o">*</span><span class="n">pi</span><span class="p">))</span><span class="o">/</span><span class="n">gamma</span><span class="p">(</span><span class="n">H</span> <span class="o">+</span> <span class="mi">2</span><span class="p">)</span>
<span class="n">beta</span> <span class="o">=</span> <span class="n">expr</span><span class="o">.</span><span class="n">simplify</span><span class="p">()</span>
<span class="n">beta</span>
</pre></div>

</div>
</div>
</div>

<div class="output_wrapper">
<div class="output">


<div class="output_area"><div class="prompt output_prompt">Out[53]:</div>


<div class="output_text output_subarea output_execute_result">
<pre>gamma(H + 1)*gamma(T + 1)/gamma(H + T + 2)</pre>
</div>

</div>

</div>
</div>

</div>
<div class="cell border-box-sizing text_cell rendered">
<div class="prompt input_prompt">
</div>
<div class="inner_cell">
<div class="text_cell_render border-box-sizing rendered_html">
<p>So, we end up with:</p>
$$
\int_0^1 h^H (1-h)^T \cdot 1 \thinspace dh = \frac{1}{B(H+1,T+1)}
$$<p>with</p>
$$
B(p, q) := \frac{\Gamma(p) \Gamma(q)}{\Gamma(p+q)}
$$<p>and consequently:</p>
$$
f(h) = \frac{1}{B(H+1,T+1)}h^H(1-h)^T
$$<p>Please say hello to the <a href="http://en.wikipedia.org/wiki/Beta_distribution">Beta-Distribution</a>!</p>
<p>Let's look at this function for a couple of examples:</p>

</div>
</div>
</div>
<div class="cell border-box-sizing code_cell rendered">
<div class="input">
<div class="prompt input_prompt">In&nbsp;[58]:</div>
<div class="inner_cell">
    <div class="input_area">
<div class=" highlight hl-ipython3"><pre><span></span><span class="n">f</span> <span class="o">=</span> <span class="p">(</span><span class="mi">1</span><span class="o">/</span><span class="n">beta</span><span class="p">)</span> <span class="o">*</span> <span class="n">h</span><span class="o">**</span><span class="n">H</span> <span class="o">*</span> <span class="p">(</span><span class="mi">1</span><span class="o">-</span><span class="n">h</span><span class="p">)</span><span class="o">**</span><span class="n">T</span>
<span class="n">fig</span> <span class="o">=</span> <span class="n">plot</span><span class="p">(</span><span class="n">f</span><span class="o">.</span><span class="n">subs</span><span class="p">({</span><span class="n">H</span><span class="p">:</span><span class="mi">2</span><span class="p">,</span><span class="n">T</span><span class="p">:</span><span class="mi">1</span><span class="p">}),</span> <span class="p">(</span><span class="n">h</span><span class="p">,</span> <span class="mi">0</span><span class="p">,</span> <span class="mi">1</span><span class="p">),</span> <span class="n">title</span><span class="o">=</span><span class="s2">&quot;Posterior distribution after observing $c=(\mathrm</span><span class="si">{HHT}</span><span class="s2">)$.&quot;</span><span class="p">,</span> <span class="n">xlabel</span><span class="o">=</span><span class="s2">&quot;$h$&quot;</span><span class="p">,</span> <span class="n">ylabel</span><span class="o">=</span><span class="s2">&quot;$f(h)$&quot;</span><span class="p">)</span>
<span class="n">fig</span> <span class="o">=</span> <span class="n">plot</span><span class="p">(</span><span class="n">f</span><span class="o">.</span><span class="n">subs</span><span class="p">({</span><span class="n">H</span><span class="p">:</span><span class="mi">10</span><span class="p">,</span><span class="n">T</span><span class="p">:</span><span class="mi">1</span><span class="p">}),</span> <span class="p">(</span><span class="n">h</span><span class="p">,</span> <span class="mi">0</span><span class="p">,</span> <span class="mi">1</span><span class="p">),</span> <span class="n">title</span><span class="o">=</span><span class="s2">&quot;Posterior distribution after observing $c=(H=10,T)$.&quot;</span><span class="p">,</span> <span class="n">xlabel</span><span class="o">=</span><span class="s2">&quot;$h$&quot;</span><span class="p">,</span> <span class="n">ylabel</span><span class="o">=</span><span class="s2">&quot;$f(h)$&quot;</span><span class="p">)</span>
<span class="n">fig</span> <span class="o">=</span> <span class="n">plot</span><span class="p">(</span><span class="n">f</span><span class="o">.</span><span class="n">subs</span><span class="p">({</span><span class="n">H</span><span class="p">:</span><span class="mi">10</span><span class="p">,</span><span class="n">T</span><span class="p">:</span><span class="mi">10</span><span class="p">}),</span> <span class="p">(</span><span class="n">h</span><span class="p">,</span> <span class="mi">0</span><span class="p">,</span> <span class="mi">1</span><span class="p">),</span> <span class="n">title</span><span class="o">=</span><span class="s2">&quot;Posterior distribution after observing $c=(H=10,T=10)$.&quot;</span><span class="p">,</span> <span class="n">xlabel</span><span class="o">=</span><span class="s2">&quot;$h$&quot;</span><span class="p">,</span> <span class="n">ylabel</span><span class="o">=</span><span class="s2">&quot;$f(h)$&quot;</span><span class="p">)</span>
<span class="n">fig</span> <span class="o">=</span> <span class="n">plot</span><span class="p">(</span><span class="n">f</span><span class="o">.</span><span class="n">subs</span><span class="p">({</span><span class="n">H</span><span class="p">:</span><span class="mi">100</span><span class="p">,</span><span class="n">T</span><span class="p">:</span><span class="mi">50</span><span class="p">}),</span> <span class="p">(</span><span class="n">h</span><span class="p">,</span> <span class="mi">0</span><span class="p">,</span> <span class="mi">1</span><span class="p">),</span> <span class="n">title</span><span class="o">=</span><span class="s2">&quot;Posterior distribution after observing $c=(H=100,T=50)$.&quot;</span><span class="p">,</span> <span class="n">xlabel</span><span class="o">=</span><span class="s2">&quot;$h$&quot;</span><span class="p">,</span> <span class="n">ylabel</span><span class="o">=</span><span class="s2">&quot;$f(h)$&quot;</span><span class="p">)</span>
</pre></div>

</div>
</div>
</div>

<div class="output_wrapper">
<div class="output">


<div class="output_area"><div class="prompt"></div>


<div class="output_png output_subarea ">
<img src="data:image/png;base64,iVBORw0KGgoAAAANSUhEUgAAAYwAAAEcCAYAAADUX4MJAAAABHNCSVQICAgIfAhkiAAAAAlwSFlz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==
"
>
</div>

</div>

<div class="output_area"><div class="prompt"></div>


<div class="output_png output_subarea ">
<img src="data:image/png;base64,iVBORw0KGgoAAAANSUhEUgAAAYIAAAEcCAYAAADKlrO6AAAABHNCSVQICAgIfAhkiAAAAAlwSFlz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"
>
</div>

</div>

<div class="output_area"><div class="prompt"></div>


<div class="output_png output_subarea ">
<img src="data:image/png;base64,iVBORw0KGgoAAAANSUhEUgAAAYwAAAEcCAYAAADUX4MJAAAABHNCSVQICAgIfAhkiAAAAAlwSFlz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=
"
>
</div>

</div>

<div class="output_area"><div class="prompt"></div>


<div class="output_png output_subarea ">
<img src="data:image/png;base64,iVBORw0KGgoAAAANSUhEUgAAAYgAAAEcCAYAAADdtCNzAAAABHNCSVQICAgIfAhkiAAAAAlwSFlz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=
"
>
</div>

</div>

</div>
</div>

</div>
<div class="cell border-box-sizing text_cell rendered">
<div class="prompt input_prompt">
</div>
<div class="inner_cell">
<div class="text_cell_render border-box-sizing rendered_html">
<h2 id="Prior-Distribution,-revisited">Prior Distribution, revisited<a class="anchor-link" href="#Prior-Distribution,-revisited">&#182;</a></h2>
</div>
</div>
</div>
<div class="cell border-box-sizing text_cell rendered">
<div class="prompt input_prompt">
</div>
<div class="inner_cell">
<div class="text_cell_render border-box-sizing rendered_html">
<p>To illustrate what can go wrong if an unreasonable prior distribution is chosen, imagine we were to use the Dirac delta function $f(h) = \delta(h_0 - h)$ as prior distribution.  In this case, the integral in the denominator would collaps to $p(c|h=\hat{h})$, which would cancel out with the likelihood, leaving the prior distribution unchanged in the posterior.  We can understand this intuitively: The delta function represents an absolute prejudice in the value of $h$, and this belief is so strong that no factual data can change it.  In this sense, the Bayesian inference process works as expected.  To avoid such a situation, the prior should give at least some probability mass to any reasonable outcome, and let the data speak for itself.  We could see above that after a coin toss facing heads, the posterior vanishes at $0$, which means that the Bayesian inference process excluded the possibility for an all-tails coin.  Likewise, after a coin toss facing tails, all-heads coins are excluded.  No harm was done by including those possibilities in the prior, and the inference process quickly adapted to the data and excluded impossible choices.</p>

</div>
</div>
</div>
<div class="cell border-box-sizing text_cell rendered">
<div class="prompt input_prompt">
</div>
<div class="inner_cell">
<div class="text_cell_render border-box-sizing rendered_html">
<h2 id="What-just-happened">What just happened<a class="anchor-link" href="#What-just-happened">&#182;</a></h2>
</div>
</div>
</div>
<div class="cell border-box-sizing text_cell rendered">
<div class="prompt input_prompt">
</div>
<div class="inner_cell">
<div class="text_cell_render border-box-sizing rendered_html">
<p>We saw that starting with a uniform prior, the Baysian inference process can give us a lot of information about the certainty of a random variable, even after just a couple of observations.  The result can be improved incrementally when new data arrives, or in batches.  For a coin flip, the result is a Beta distribution, where the parameters indicate the number of heads and tails in the data.  The choice of the prior is significant, but as more data arrives, it fades into the background.  A strong bias in the prior that is not justified by the model may be hard to overcome.</p>
<p>A limitation of the process is that it assumes i.i.d. (independent and identically distributed) random variables.  If there was some correlation in the data, or the bias of the coin changes over time, we would prefer to look at some other method (for example Markov Chain).</p>
<p>Bayesian inference is one of the foundations of machine learning, where it has many applications, for example <a href="http://en.wikipedia.org/wiki/Bayesian_spam_filtering">testing emails for spam</a>.</p>

</div>
</div>
</div>
<div class="cell border-box-sizing code_cell rendered">
<div class="input">
<div class="prompt input_prompt">In&nbsp;[&nbsp;]:</div>
<div class="inner_cell">
    <div class="input_area">
<div class=" highlight hl-ipython3"><pre><span></span> 
</pre></div>

</div>
</div>
</div>

</div>
    </div>
  </div>

  </div>


  
    <footer class="footer hidden-print">
      <div class="container">
        <div class="col-md-4">
          <p>
            This website does not host notebooks, it only renders notebooks
            available on other websites.
          </p>
        </div>

        <div class="col-md-4">
          <p>
            Delivered by <a href="http://www.fastly.com/">Fastly</a>,
            Rendered by <a href="https://developer.rackspace.com/?nbviewer=awesome">Rackspace</a>
          </p>
          <p>
            nbviewer GitHub <a href="https://github.com/jupyter/nbviewer">repository</a>.
          </p>
        </div>

        <div class="col-md-4">
          
  
            
              <p>
                nbviewer version:
                <a href="https://github.com/jupyter/nbviewer/commit/0bf9258c078c4b09eec914172d10524e644cdb4e">
                  0bf9258
                </a>
              </p>
            
          
  
  <p>
    nbconvert version: <a href="https://github.com/jupyter/nbconvert/releases/tag/4.2.0">
      4.2.0
    </a>
  </p>
  

          
  
  
  <p>
    Rendered
    <span class='date' data-date='Wed, 09 Nov 2016 14:22:11 UTC' title='Wed, 09 Nov 2016 14:22:11 UTC'>(Wed, 09 Nov 2016 14:22:11 UTC)</span>
  </p>
  

        </div>
      </div>
    </footer>
  

  <script src="/static/components/bootstrap/js/bootstrap.min.js"></script>
  <script src="/static/components/headroom.js/dist/headroom.min.js"></script>
  <script src="/static/components/headroom.js/dist/jQuery.headroom.min.js"></script>

  
  
  <script>
    $(function(){ $("#menubar").headroom({
      tolerance: 5,
      offset: 205,
      classes: {
        initial: "animated",
        pinned: "slideInDown",
        unpinned: "slideOutUp"
      }
    })});
  </script>


  <script>
    (function(i,s,o,g,r,a,m){i['GoogleAnalyticsObject']=r;i[r]=i[r]||function(){
      (i[r].q=i[r].q||[]).push(arguments)},i[r].l=1*new Date();a=s.createElement(o),
      m=s.getElementsByTagName(o)[0];a.async=1;a.src=g;m.parentNode.insertBefore(a,m)
    })(window,document,'script','//www.google-analytics.com/analytics.js','ga');
    ga('create', 'UA-38683231-2', 'auto');
    ga('send', 'pageview');
  </script>
  <script>
    require({
        paths: {
          moment: "/static/components/moment/min/moment.min.js"
        }
      }, ["moment"], function(moment){
      var date = $("footer .date"),
        m = moment(new Date(date.data('date'))),
        update = function(){ date.text(m.fromNow()); };
      setInterval(update, 61*1000);
      update();
      var w = $(window).scroll(function(event){
        $("body").toggleClass("scrolled", w.scrollTop() > 0);
      });
    });
  </script>
  <!--NEW RELIC Stop Perf Measurement-->
  
  <!--NEW RELIC End-->
</body>
</html>