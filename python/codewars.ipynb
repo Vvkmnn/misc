{
 "cells": [
  {
   "cell_type": "markdown",
   "metadata": {
    "focus": true,
    "id": "a1b42846-606e-44ca-9ac3-0ed520348d28"
   },
   "source": [
    "# Codewars \n",
    "## [vvkmnn](https://www.codewars.com/users/Vvkmnn)"
   ]
  },
  {
   "cell_type": "markdown",
   "metadata": {
    "focus": false,
    "id": "07b4bc0c-f6df-44c7-bd86-321a422e9030"
   },
   "source": [
    "### Find the odd int"
   ]
  },
  {
   "cell_type": "code",
   "execution_count": 16,
   "metadata": {
    "collapsed": true,
    "focus": false,
    "id": "0fac60c9-1884-46cf-8a42-90d659c23f33"
   },
   "outputs": [],
   "source": [
    "A = [ 20, 1, -1, 2, -2, 3, 3, 5, 5, 1, 2, 4, 20, 4, -1, -2, 5 ]\n",
    "n =  5\n",
    "\n",
    "def find_it(seq):\n",
    "    \"\"\"\n",
    "    Given a sequence of numbers, find the original binary representation of the first number, then compare it with\n",
    "    all the other numbers one by one using bitwise xor, which will return 1 if the bits are the same and 0 if the bits\n",
    "    are different. Therefore, to find the binary sequence that appears most often, we find the bits that return 1,\n",
    "    which will be leftover after every xor flip.\n",
    "    \"\"\"\n",
    "    res = 0\n",
    "    for element in seq:\n",
    "        print(\"Comparing {} to {}\".format(bin(res),bin(element)))\n",
    "        res = res ^ element\n",
    "        print(\"New res is {}\".format(bin(res)))\n",
    "    return res\n",
    "\n",
    "find_it(A)"
   ]
  },
  {
   "cell_type": "markdown",
   "metadata": {
    "focus": false,
    "id": "5159e960-cb70-4a14-a751-dad59b9ad83e"
   },
   "source": [
    "### Who Likes It?"
   ]
  },
  {
   "cell_type": "code",
   "execution_count": 98,
   "metadata": {
    "collapsed": false,
    "focus": false,
    "id": "5ec622ed-9098-460f-a661-005989dfe72a"
   },
   "outputs": [],
   "source": [
    "def likes(names):\n",
    "    \"\"\"\n",
    "    My version, which is inelegant compared to the best practice version below. \n",
    "    \"\"\"\n",
    "    if len(names) == 0:\n",
    "        print(\"no one likes this\")\n",
    "    if len(names) == 1:\n",
    "        print(\"{} likeS this\".format(names[0]))\n",
    "    if len(names) == 2:\n",
    "        print(\"{} and {} likes this\".format(names[0],names[1]))\n",
    "    if len(names) > 2:\n",
    "        print(\"{}, {} and {} others like this\".format(names[0],names[1],len(names[2:])))"
   ]
  },
  {
   "cell_type": "code",
   "execution_count": 148,
   "metadata": {
    "collapsed": false,
    "focus": false,
    "id": "02e3f3ce-ab2f-4062-ac08-68096c09a695"
   },
   "outputs": [
    {
     "data": {
      "text/plain": [
       "'Jane, James and 2 others like this'"
      ]
     },
     "execution_count": 148,
     "metadata": {},
     "output_type": "execute_result"
    }
   ],
   "source": [
    "names = ['Jane','James','Jimmy','Mark']\n",
    "\n",
    "def likes(names):\n",
    "    \"\"\"\n",
    "    Given a list of names, generate a dictionary of pre-formmated strings, and pull the keys from the function defined\n",
    "    after the dictionary. The key takes the form (min(4,n) ensures the maximum response you can get is 4, and\n",
    "    the '.format(*names[:3], others=n-3)` function formats the resulting dictionary with multiple name arguments \n",
    "    up to the third argument (*names[:3]) then uses others=n-3 for all invidiuals outside of 3 names to \n",
    "    fill the {others} key \n",
    "    \"\"\"\n",
    "    n = len(names)\n",
    "    \n",
    "    # Generate a dictionary of pre-formmated strings, and pull the keys from below \n",
    "    # The key takes the form (min(4,n) ensures the maximum response you can get is 4)\n",
    "    # .format formats the resulting dictionary with multiple name arguments up to the third argument (*names[:3])\n",
    "    # then uses n-2 for all invidiuals outside of 2 names to fill the {others} key, if its necessary\n",
    "    return {\n",
    "        0: 'no one likes this',\n",
    "        1: '{} likes this', \n",
    "        2: '{} and {} like this', \n",
    "        3: '{}, {} and {} like this', \n",
    "        4: '{}, {} and {others} others like this'\n",
    "    }[min(4, n)].format(*names[:3], others=n-2)\n",
    "\n",
    "likes(names)"
   ]
  },
  {
   "cell_type": "markdown",
   "metadata": {
    "focus": false,
    "id": "2f794a1c-4ccf-4f7b-a43d-45cfbd0c40df"
   },
   "source": [
    "### Square Every Digit"
   ]
  },
  {
   "cell_type": "code",
   "execution_count": 178,
   "metadata": {
    "collapsed": false,
    "focus": false,
    "id": "fbe95eda-ddd9-4b68-803f-fb0445ba6095"
   },
   "outputs": [
    {
     "data": {
      "text/plain": [
       "811181"
      ]
     },
     "execution_count": 178,
     "metadata": {},
     "output_type": "execute_result"
    }
   ],
   "source": [
    "test = 9119\n",
    "ans = 811181\n",
    "\n",
    "def square_digits(num):\n",
    "    \"\"\" \n",
    "    My solution\n",
    "    \"\"\"\n",
    "    newnum = \"\"\n",
    "    for i in str(num):\n",
    "        newnum += str(int(i)**2)\n",
    "    return(int(newnum))\n",
    "        \n",
    "def square_digits(num):\n",
    "    \"\"\" \n",
    "    Cleverer solution that joins a string using the same loop as above but in one line\n",
    "    \"\"\"\n",
    "    return int(''.join(str(int(d)**2) for d in str(num)))\n",
    "\n",
    "square_digits(test)"
   ]
  },
  {
   "cell_type": "markdown",
   "metadata": {
    "focus": false,
    "id": "69319abe-4cf9-41be-b98d-d39bdf68556b"
   },
   "source": [
    "### Stop gninnipS My sdroW!"
   ]
  },
  {
   "cell_type": "code",
   "execution_count": 213,
   "metadata": {
    "collapsed": false,
    "focus": false,
    "id": "d9582bd1-3886-4345-9b4f-9fba56b4c3c1"
   },
   "outputs": [
    {
     "data": {
      "text/plain": [
       "'present included letters word only all the all letter in than in letter like in like is that of five than the and or'"
      ]
     },
     "execution_count": 213,
     "metadata": {},
     "output_type": "execute_result"
    }
   ],
   "source": [
    "def spin_words(sentence):\n",
    "    words = sentence.split()\n",
    "    newsentence = \"\"\n",
    "    for word in words:\n",
    "        if len(word) < 5:\n",
    "            newsentence += word + \" \"\n",
    "        if len(word) > 5:\n",
    "            newsentence += str(''.join(d for d in reversed(word))) + \" \" \n",
    "    return newsentence.rstrip()\n",
    "\n",
    "spin_words(\"This is a test\")\n",
    "spin_words(\"tneserp dedulcni srettel word only all the all rettel in than in rettel like in like is that of five than the and or\")"
   ]
  },
  {
   "cell_type": "code",
   "execution_count": 159,
   "metadata": {
    "collapsed": true,
    "focus": false,
    "id": "7e7ccc81-29e3-4e76-a081-1c4f1898bb63"
   },
   "outputs": [],
   "source": [
    "  Random testing  \n",
    "✔   Test Passed  \n",
    "✘   'Just than in is than more or in and srettel secapS secapS the all of dessap of dedulcni sgnirtS more and with than this' should equal 'Just than in is than more or in and srettel secapS secapS the all etirW of dessap of dedulcni sgnirtS more etirW and sekat with etirW than this'  \n",
    "✘   'the tsisnoc one of srettel one desrever a desrever in when of gnirts a only tneserp' should equal 'sekat the tsisnoc one of sekat srettel one desrever a desrever in when of sdrow sekat gnirts a only tneserp'  "
   ]
  },
  {
   "cell_type": "markdown",
   "metadata": {
    "focus": false,
    "id": "26efa09b-6aab-4ff6-875b-c1ee8df0544e"
   },
   "source": [
    "### Largest 5 digit number in a series"
   ]
  },
  {
   "cell_type": "code",
   "execution_count": null,
   "metadata": {
    "collapsed": true,
    "focus": false,
    "id": "8567ed67-80be-4f52-8983-7c0ccf6fa859"
   },
   "outputs": [],
   "source": [
    "def solution(dd):\n",
    "    return max(int(dd[i:i+5]) for i in range(len(dd) - 4))\n",
    "\n",
    "solution = lambda digits: max(int(digits[i:i + 5]) for i in xrange(len(digits)))"
   ]
  },
  {
   "cell_type": "code",
   "execution_count": 284,
   "metadata": {
    "collapsed": false,
    "focus": false,
    "id": "7ff920bd-b5d4-4f91-ba27-62c380903114"
   },
   "outputs": [
    {
     "name": "stdout",
     "output_type": "stream",
     "text": [
      "[73167, 31671, 16717, 67176, 71765, 17653, 76531, 65313, 53133, 31330, 13306, 33062, 30624, 6249, 62491, 24919, 49192, 91922, 19225, 92251, 22511, 25119, 51196, 11967, 19674, 96744, 67442, 74426, 44265, 42657, 26574, 65747, 57474, 74742, 47423, 74235, 42355, 23553, 35534, 55349, 53491, 34919, 49194, 91949, 19493, 94934, 49349, 93496, 34969, 49698, 96983, 69835, 98352, 83520, 35203, 52036, 20368, 3685, 36854, 68542, 85425, 54250, 42506, 25063, 50632, 6326, 63262, 32623, 26239, 62395, 23957, 39578, 95783, 57831, 78318, 83180, 31801, 18016, 80169, 1698, 16984, 69848, 98480, 84801, 48018, 80186, 1869, 18694, 86947, 69478, 94788, 47885, 78851, 88518, 85184, 51843, 18438, 84385, 43858, 38586, 85861, 58615, 86156, 61560, 15607, 56078, 60789, 7891, 78911, 89112, 91129, 11294, 12949, 29494, 94949, 49495, 94954, 49545, 95459, 54595, 45950, 59501, 95017, 50173, 1737, 17379, 73795, 37958, 79583, 95833, 58331, 83319, 33195, 31952, 19528, 95285, 52853, 28532, 85320, 53208, 32088, 20880, 8805, 88055, 80551, 5511, 55111, 51112, 11125, 11254, 12540, 25406, 54069, 40698, 6987, 69874, 98747, 87471, 74715, 47158, 71585, 15852, 58523, 85238, 52386, 23863, 38630, 86305, 63050, 30507, 5071, 50715, 7156, 71569, 15693, 56932, 69329, 93290, 32909, 29096, 90963, 9632, 96329, 63295, 32952, 29522, 95227, 52274, 22744, 27443, 74430, 44304, 43043, 30435, 4355, 43557, 35576, 55766, 57668, 76689, 66896, 68966, 89664, 96648, 66489, 64895, 48950, 89504, 95044, 50445, 4452, 44524, 45244, 52445, 24452, 44523, 45231, 52316, 23161, 31617, 16173, 61731, 17318, 73185, 31856, 18564, 85640, 56403, 64030, 40309, 3098, 30987, 9871, 98711, 87111, 71112, 11121, 11217, 12172, 21722, 17223, 72238, 22383, 23831, 38311, 83113, 31136, 11362, 13622, 36222, 62229, 22298, 22989, 29893, 98934, 89342, 93423, 34233, 42338, 23380, 33803, 38030, 80308, 3081, 30813, 8135, 81353, 13533, 35336, 53362, 33627, 36276, 62766, 27661, 76614, 66142, 61428, 14282, 42828, 28280, 82806, 28064, 80644, 6444, 64444, 44448, 44486, 44866, 48664, 86645, 66452, 64523, 45238, 52387, 23874, 38749, 87493, 74930, 49303, 93035, 30358, 3589, 35890, 58907, 89072, 90729, 7296, 72962, 29629, 96290, 62904, 29049, 90491, 4915, 49156, 91560, 15604, 56044, 60440, 4407, 44077, 40772, 7723, 77239, 72390, 23907, 39071, 90713, 7138, 71381, 13810, 38105, 81051, 10515, 5158, 51585, 15859, 58593, 85930, 59307, 93079, 30796, 7960, 79608, 96086, 60866, 8667, 86670, 66701, 67017, 70172, 1724, 17242, 72427, 24271, 42712, 27121, 71218, 12188, 21883, 18839, 88399, 83998, 39987, 99879, 98797, 87979, 79790, 97908, 79087, 90879, 8792, 87922, 79227, 92274, 22749, 27492, 74921, 49219, 92190, 21901, 19016, 90169, 1699, 16997, 69972, 99720, 97208, 72088, 20888, 8880, 88809, 88093, 80937, 9377, 93776, 37766, 77665, 76657, 66572, 65727, 57273, 72733, 27333, 73330, 33300, 33001, 30010, 105, 1053, 10533, 5336, 53367, 33678, 36788, 67881, 78812, 88122, 81220, 12202, 22023, 20235, 2354, 23542, 35421, 54218, 42180, 21809, 18097, 80975, 9751, 97512, 75125, 51254, 12545, 25454, 54540, 45405, 54059, 40594, 5947, 59475, 94752, 47522, 75224, 52243, 22435, 24352, 43525, 35258, 52584, 25849, 58490, 84907, 49077, 90771, 7711, 77116, 71167, 11670, 16705, 67055, 70556, 5560, 55601, 56013, 60136, 1360, 13604, 36048, 60483, 4839, 48395, 83958, 39586, 95864, 58644, 86446, 64467, 44670, 46706, 67063, 70632, 6324, 63244, 32441, 24415, 44157, 41572, 15722, 57221, 72215, 22155, 21553, 15539, 55397, 53975, 39753, 97531, 75312, 53123, 31234, 12345, 23457, 34579, 45797, 57977, 79778, 97784, 77846, 78461, 84617, 46174, 61740, 17406, 74064, 40649, 6495, 64955, 49551, 95514, 55149, 51492, 14929, 49290, 92908, 29086, 90862, 8625, 86256, 62569, 25693, 56932, 69321, 93219, 32197, 21978, 19784, 97846, 78468, 84686, 46862, 68622, 86224, 62248, 22482, 24828, 48283, 82839, 28397, 83972, 39722, 97224, 72241, 22413, 24137, 41375, 13756, 37565, 75657, 56570, 65705, 57056, 70560, 5605, 56057, 60574, 5749, 57490, 74902, 49026, 90261, 2614, 26140, 61407, 14079, 40797, 7972, 79729, 97296, 72968, 29686, 96865, 68652, 86524, 65241, 52414, 24145, 41453, 14535, 45351, 53510, 35100, 51004, 10047, 474, 4748, 47482, 74821, 48216, 82166, 21663, 16637, 66370, 63704, 37048, 70484, 4844, 48440, 84403, 44031, 40319, 3199, 31998, 19989, 99890, 98900, 89000, 90008, 88, 889, 8895, 88952, 89524, 95243, 52434, 24345, 43450, 34506, 45065, 50658, 6585, 65854, 58541, 85412, 54122, 41227, 12275, 22758, 27588, 75886, 58866, 88666, 86668, 66688, 66881, 68811, 88116, 81164, 11642, 16427, 64271, 42717, 27171, 71714, 17147, 71479, 14799, 47992, 79924, 99244, 92444, 24442, 44429, 44292, 42928, 29282, 92823, 28230, 82308, 23086, 30863, 8634, 86346, 63465, 34656, 46567, 65674, 56748, 67481, 74813, 48139, 81391, 13919, 39191, 91912, 19123, 91231, 12316, 23162, 31628, 16282, 62824, 28245, 82458, 24586, 45861, 58617, 86178, 61786, 17866, 78664, 86645, 66458, 64583, 45835, 58359, 83591, 35912, 59124, 91245, 12456, 24566, 45665, 56652, 66529, 65294, 52947, 29476, 94765, 47654, 76545, 65456, 54568, 45682, 56828, 68284, 82848, 28489, 84891, 48912, 89128, 91288, 12883, 28831, 88314, 83142, 31426, 14260, 42607, 26076, 60769, 7690, 76900, 69004, 90042, 422, 4224, 42242, 22421, 24219, 42190, 21902, 19022, 90226, 2267, 22671, 26710, 67105, 71055, 10556, 5562, 55626, 56263, 62632, 26321, 63211, 32111, 21111, 11111, 11110, 11109, 11093, 10937, 9370, 93705, 37054, 70544, 5442, 54421, 44217, 42175, 21750, 17506, 75069, 50694, 6941, 69416, 94165, 41658, 16589, 65896, 58960, 89604, 96040, 60408, 4080, 40807, 8071, 80719, 7198, 71984, 19840, 98403, 84038, 40385, 3850, 38509, 85096, 50962, 9624, 96245, 62455, 24554, 45544, 55444, 54443, 44436, 44362, 43629, 36298, 62981, 29812, 98123, 81230, 12309, 23098, 30987, 9878, 98787, 87879, 78799, 87992, 79927, 99272, 92724, 27244, 72442, 24428, 44284, 42849, 28490, 84909, 49091, 90918, 9188, 91888, 18884, 88845, 88458, 84580, 45801, 58015, 80156, 1561, 15616, 56166, 61660, 16609, 66097, 60979, 9791, 97919, 79191, 91913, 19133, 91338, 13387, 33875, 38754, 87549, 75499, 54992, 49920, 99200, 92005, 20052, 524, 5240, 52406, 24063, 40636, 6368, 63689, 36899, 68991, 89912, 99125, 91256, 12560, 25607, 56071, 60717, 7176, 71760, 17606, 76060, 60605, 6058, 60588, 5886, 58861, 88611, 86116, 61164, 11646, 16467, 64671, 46710, 67109, 71094, 10940, 9405, 94050, 40507, 5077, 50775, 7754, 77541, 75410, 54100, 41002, 10022, 225, 2256, 22569, 25698, 56983, 69831, 98315, 83155, 31552, 15520, 55200, 52000, 20005, 55, 559, 5593, 55935, 59357, 93572, 35729, 57297, 72972, 29725, 97257, 72571, 25716, 57163, 71636, 16362, 63626, 36269, 62695, 26956, 69561, 95618, 56188, 61882, 18826, 88267, 82670, 26704, 67042, 70428, 4282, 42825, 28252, 82524, 25248, 52483, 24836, 48360, 83600, 36008, 60082, 823, 8232, 82325, 23257, 32575, 25754, 57540, 75409, 54092, 40920, 9207, 92075, 20752, 7529, 75296, 52963, 29634, 96345, 63450, 3450, 450, 50, 0]\n"
     ]
    },
    {
     "data": {
      "text/plain": [
       "99890"
      ]
     },
     "execution_count": 284,
     "metadata": {},
     "output_type": "execute_result"
    }
   ],
   "source": [
    "number = \"7316717653133062491922511967442657474235534919493496983520368542506326239578318016984801869478851843858615607891129494954595017379583319528532088055111254069874715852386305071569329096329522744304355766896648950445244523161731856403098711121722383113622298934233803081353362766142828064444866452387493035890729629049156044077239071381051585930796086670172427121883998797908792274921901699720888093776657273330010533678812202354218097512545405947522435258490771167055601360483958644670632441572215539753123457977846174064955149290862569321978468622482839722413756570560574902614079729686524145351004748216637048440319989000889524345065854122758866688116427171479924442928230863465674813919123162824586178664583591245665294765456828489128831426076900422421902267105562632111110937054421750694165896040807198403850962455444362981230987879927244284909188845801561660979191338754992005240636899125607176060588611646710940507754100225698315520005593572972571636269561882670428252483600823257540920752963450\"\n",
    "\n",
    "def solution(digits):\n",
    "    chunksize = 5\n",
    "    chunks = [int(digits[i:i+chunksize]) for i in range(0,len(digits),1)]\n",
    "    print(chunks)\n",
    "\n",
    "    bestchunk = 0\n",
    "    for j in range(0,len(chunks),1):\n",
    "        if chunks[j] > bestchunk:\n",
    "            bestchunk = chunks[j]\n",
    "        else:\n",
    "            pass\n",
    "    return bestchunk\n",
    "\n",
    "solution(number)"
   ]
  },
  {
   "cell_type": "markdown",
   "metadata": {
    "focus": false,
    "id": "ddcf86ef-8171-4dcb-975a-7a21035ee679"
   },
   "source": [
    "### Give me Diamond"
   ]
  },
  {
   "cell_type": "code",
   "execution_count": 24,
   "metadata": {
    "collapsed": false
   },
   "outputs": [
    {
     "ename": "TypeError",
     "evalue": "can't multiply sequence by non-int of type 'float'",
     "output_type": "error",
     "traceback": [
      "\u001b[0;31m---------------------------------------------------------------------------\u001b[0m",
      "\u001b[0;31mTypeError\u001b[0m                                 Traceback (most recent call last)",
      "\u001b[0;32m<ipython-input-24-917bb0f2b12b>\u001b[0m in \u001b[0;36m<module>\u001b[0;34m()\u001b[0m\n\u001b[1;32m     18\u001b[0m         \u001b[0;32mreturn\u001b[0m \u001b[0;32mNone\u001b[0m\u001b[0;34m\u001b[0m\u001b[0m\n\u001b[1;32m     19\u001b[0m \u001b[0;34m\u001b[0m\u001b[0m\n\u001b[0;32m---> 20\u001b[0;31m \u001b[0mdiamond\u001b[0m\u001b[0;34m(\u001b[0m\u001b[0;36m3\u001b[0m\u001b[0;34m)\u001b[0m\u001b[0;34m\u001b[0m\u001b[0m\n\u001b[0m",
      "\u001b[0;32m<ipython-input-24-917bb0f2b12b>\u001b[0m in \u001b[0;36mdiamond\u001b[0;34m(n)\u001b[0m\n\u001b[1;32m     11\u001b[0m         \u001b[0mdiamond\u001b[0m \u001b[0;34m=\u001b[0m \u001b[0;34m\"\"\u001b[0m\u001b[0;34m\u001b[0m\u001b[0m\n\u001b[1;32m     12\u001b[0m         \u001b[0;32mfor\u001b[0m \u001b[0mi\u001b[0m \u001b[0;32min\u001b[0m \u001b[0mrange\u001b[0m\u001b[0;34m(\u001b[0m\u001b[0mn\u001b[0m\u001b[0;34m)\u001b[0m\u001b[0;34m:\u001b[0m\u001b[0;34m\u001b[0m\u001b[0m\n\u001b[0;32m---> 13\u001b[0;31m             \u001b[0mdiamond\u001b[0m \u001b[0;34m+=\u001b[0m \u001b[0;34m\" \"\u001b[0m \u001b[0;34m*\u001b[0m \u001b[0mabs\u001b[0m\u001b[0;34m(\u001b[0m\u001b[0;34m(\u001b[0m\u001b[0mn\u001b[0m\u001b[0;34m/\u001b[0m\u001b[0;36m2\u001b[0m\u001b[0;34m)\u001b[0m \u001b[0;34m-\u001b[0m \u001b[0mi\u001b[0m\u001b[0;34m)\u001b[0m\u001b[0;34m\u001b[0m\u001b[0m\n\u001b[0m\u001b[1;32m     14\u001b[0m             \u001b[0mdiamond\u001b[0m \u001b[0;34m+=\u001b[0m \u001b[0;34m\"*\"\u001b[0m \u001b[0;34m*\u001b[0m \u001b[0;34m(\u001b[0m\u001b[0mn\u001b[0m \u001b[0;34m-\u001b[0m \u001b[0mabs\u001b[0m\u001b[0;34m(\u001b[0m\u001b[0;34m(\u001b[0m\u001b[0mn\u001b[0m\u001b[0;34m-\u001b[0m\u001b[0;36m1\u001b[0m\u001b[0;34m)\u001b[0m \u001b[0;34m-\u001b[0m \u001b[0;36m2\u001b[0m \u001b[0;34m*\u001b[0m \u001b[0mi\u001b[0m\u001b[0;34m)\u001b[0m\u001b[0;34m)\u001b[0m\u001b[0;34m\u001b[0m\u001b[0m\n\u001b[1;32m     15\u001b[0m             \u001b[0mdiamond\u001b[0m \u001b[0;34m+=\u001b[0m \u001b[0;34m\"\\n\"\u001b[0m\u001b[0;34m\u001b[0m\u001b[0m\n",
      "\u001b[0;31mTypeError\u001b[0m: can't multiply sequence by non-int of type 'float'"
     ]
    }
   ],
   "source": [
    "def diamond(n):\n",
    "    \"\"\"\n",
    "    Smrater code that does the same loop for line generation, skips\n",
    "    checking for strings, and uses n%2 == 1 to test for odd numbers.\n",
    "    \n",
    "    The string uses half the length for spaces, but apppends the string \n",
    "    by accounting for spaces as well. Only seems to work for Python 2. \n",
    "    \n",
    "    \"\"\"\n",
    "    if n > 0 and n % 2 == 1:\n",
    "        diamond = \"\"\n",
    "        for i in range(n):\n",
    "            diamond += \" \" * abs((n/2) - i)\n",
    "            diamond += \"*\" * (n - abs((n-1) - 2 * i))\n",
    "            diamond += \"\\n\"\n",
    "        return diamond\n",
    "    else:\n",
    "        return None\n",
    "    \n",
    "diamond(3)"
   ]
  },
  {
   "cell_type": "code",
   "execution_count": 20,
   "metadata": {
    "collapsed": false,
    "focus": false,
    "id": "29cce6e7-532b-43bc-9d46-9320e2f013e8",
    "scrolled": false
   },
   "outputs": [
    {
     "name": "stdout",
     "output_type": "stream",
     "text": [
      "None\n"
     ]
    }
   ],
   "source": [
    "def diamond(n):\n",
    "    Lines = []\n",
    "    diamondLines = []\n",
    "    diamond = \"\"\n",
    "    \n",
    "    if type(n) != int :\n",
    "        return(None)\n",
    "    elif n%2 != 0 and n > 0:\n",
    "            Lines = list(filter(lambda x: x % 2 !=0, list(range(0,n+1,1))))\n",
    "            diamondLines = Lines + list(reversed(Lines[:-1:]))   \n",
    "            diamondString = \"\"\n",
    "            for i in diamondLines:\n",
    "                diamondString += (' ' * int(((n-i)/2)))+(i * \"*\")+\"\\n\"\n",
    "            return(diamondString)\n",
    "    else:\n",
    "        return(None)\n",
    "\n",
    "print(diamond(5))"
   ]
  },
  {
   "cell_type": "code",
   "execution_count": 84,
   "metadata": {
    "collapsed": false,
    "focus": false,
    "id": "a5804a46-7e7d-4605-84b9-44934cb548f4"
   },
   "outputs": [
    {
     "data": {
      "text/plain": [
       "''"
      ]
     },
     "execution_count": 84,
     "metadata": {},
     "output_type": "execute_result"
    }
   ],
   "source": [
    "''"
   ]
  },
  {
   "cell_type": "markdown",
   "metadata": {
    "focus": false,
    "id": "13a08097-95ba-4b4f-a4ce-fed6cb12768f"
   },
   "source": [
    "### Money, Money, Money\n",
    "\n"
   ]
  },
  {
   "cell_type": "code",
   "execution_count": 4,
   "metadata": {
    "collapsed": false,
    "focus": false,
    "id": "cd38a4f8-f4e5-477b-868d-7658ac97d864"
   },
   "outputs": [
    {
     "data": {
      "text/plain": [
       "0"
      ]
     },
     "execution_count": 4,
     "metadata": {},
     "output_type": "execute_result"
    }
   ],
   "source": [
    "def calculate_years(principal, interest, tax, desired):\n",
    "    years = 0\n",
    "    while (principal < desired):\n",
    "        principal += (principal * (interest) * (1-tax))\n",
    "        years += 1\n",
    "    return(years)\n",
    "\n",
    "calculate_years(1000,0.05,0.18,1000)"
   ]
  },
  {
   "cell_type": "markdown",
   "metadata": {
    "collapsed": true,
    "focus": false,
    "id": "c173edbf-9a9f-4b5b-992d-93479fec23a9"
   },
   "source": [
    "### Checking Groups"
   ]
  },
  {
   "cell_type": "code",
   "execution_count": 183,
   "metadata": {
    "collapsed": false,
    "focus": false,
    "id": "66f46e6d-4279-4bb0-bfae-5b963127133b"
   },
   "outputs": [
    {
     "name": "stdout",
     "output_type": "stream",
     "text": [
      "[[]()]\n",
      "])(][[\n",
      "])(][[\n"
     ]
    }
   ],
   "source": [
    "s = '[[]()]'\n",
    "rs = s\n",
    "print(s)\n",
    "print(rs)\n",
    "\n",
    "rs.replace(']','[')\n",
    "print(rs)"
   ]
  },
  {
   "cell_type": "code",
   "execution_count": 148,
   "metadata": {
    "collapsed": false,
    "focus": false,
    "id": "35cab03d-c487-4993-adc9-12e04cde9f97"
   },
   "outputs": [
    {
     "name": "stdout",
     "output_type": "stream",
     "text": [
      "[\n",
      "[\n",
      "]\n",
      "(\n",
      ")\n",
      "]\n"
     ]
    }
   ],
   "source": [
    "for entry in range(0,len(openOrder),1):\n",
    "        if (openOrder[entry] + closeOrder[entry] == (len(s)-1)):\n",
    "            valid = True\n",
    "        else:\n",
    "            valid = False\n",
    "    print(valid)\n",
    "    "
   ]
  },
  {
   "cell_type": "code",
   "execution_count": 179,
   "metadata": {
    "collapsed": false,
    "focus": false,
    "id": "bab7bfc6-6cfb-433e-a859-7fb7c79baaaf"
   },
   "outputs": [
    {
     "name": "stdout",
     "output_type": "stream",
     "text": [
      "[\n"
     ]
    },
    {
     "ename": "TypeError",
     "evalue": "slice indices must be integers or None or have an __index__ method",
     "output_type": "error",
     "traceback": [
      "\u001b[0;31m---------------------------------------------------------------------------\u001b[0m",
      "\u001b[0;31mTypeError\u001b[0m                                 Traceback (most recent call last)",
      "\u001b[0;32m<ipython-input-179-e158cb14d5a5>\u001b[0m in \u001b[0;36m<module>\u001b[0;34m()\u001b[0m\n\u001b[1;32m     30\u001b[0m     \u001b[0mprint\u001b[0m\u001b[0;34m(\u001b[0m\u001b[0mcloseOrder\u001b[0m\u001b[0;34m)\u001b[0m\u001b[0;34m\u001b[0m\u001b[0m\n\u001b[1;32m     31\u001b[0m \u001b[0;34m\u001b[0m\u001b[0m\n\u001b[0;32m---> 32\u001b[0;31m \u001b[0mgroup_check\u001b[0m\u001b[0;34m(\u001b[0m\u001b[0;34m'[[]()]'\u001b[0m\u001b[0;34m)\u001b[0m\u001b[0;34m\u001b[0m\u001b[0m\n\u001b[0m",
      "\u001b[0;32m<ipython-input-179-e158cb14d5a5>\u001b[0m in \u001b[0;36mgroup_check\u001b[0;34m(s)\u001b[0m\n\u001b[1;32m     16\u001b[0m             \u001b[0mCharacters\u001b[0m\u001b[0;34m.\u001b[0m\u001b[0mremove\u001b[0m\u001b[0;34m(\u001b[0m\u001b[0mi\u001b[0m\u001b[0;34m)\u001b[0m\u001b[0;34m\u001b[0m\u001b[0m\n\u001b[1;32m     17\u001b[0m         \u001b[0;32mif\u001b[0m \u001b[0mi\u001b[0m \u001b[0;34m==\u001b[0m \u001b[0;34m'['\u001b[0m\u001b[0;34m:\u001b[0m\u001b[0;34m\u001b[0m\u001b[0m\n\u001b[0;32m---> 18\u001b[0;31m             \u001b[0mopenOrder\u001b[0m\u001b[0;34m.\u001b[0m\u001b[0mappend\u001b[0m\u001b[0;34m(\u001b[0m\u001b[0ms\u001b[0m\u001b[0;34m.\u001b[0m\u001b[0mfind\u001b[0m\u001b[0;34m(\u001b[0m\u001b[0;34m'['\u001b[0m\u001b[0;34m,\u001b[0m\u001b[0mi\u001b[0m\u001b[0;34m)\u001b[0m\u001b[0;34m)\u001b[0m\u001b[0;34m\u001b[0m\u001b[0m\n\u001b[0m\u001b[1;32m     19\u001b[0m             \u001b[0mcloseOrder\u001b[0m\u001b[0;34m.\u001b[0m\u001b[0mappend\u001b[0m\u001b[0;34m(\u001b[0m\u001b[0ms\u001b[0m\u001b[0;34m.\u001b[0m\u001b[0mfind\u001b[0m\u001b[0;34m(\u001b[0m\u001b[0;34m']'\u001b[0m\u001b[0;34m,\u001b[0m\u001b[0mi\u001b[0m\u001b[0;34m)\u001b[0m\u001b[0;34m)\u001b[0m\u001b[0;34m\u001b[0m\u001b[0m\n\u001b[1;32m     20\u001b[0m             \u001b[0mCharacters\u001b[0m\u001b[0;34m.\u001b[0m\u001b[0mremove\u001b[0m\u001b[0;34m(\u001b[0m\u001b[0mi\u001b[0m\u001b[0;34m)\u001b[0m\u001b[0;34m\u001b[0m\u001b[0m\n",
      "\u001b[0;31mTypeError\u001b[0m: slice indices must be integers or None or have an __index__ method"
     ]
    }
   ],
   "source": [
    "def group_check(s):\n",
    "    valid = False\n",
    "    # loop through the entire string and find every instance of (, {, [ and see if they are matched with a close. \n",
    "    # if they are all closed, then switch to valid, else, not valid \n",
    "    # HAVE TO FIND THEM BEFORE ANOTHER ONE CLOSES; finding the next close in the stirng\n",
    "    # Possible solution: find a way to drop the discovered character from the list (which breaks the range function)\n",
    "    Characters = list(s)\n",
    "    openOrder = []\n",
    "    closeOrder = []\n",
    "    \n",
    "    for i in Characters[:]:\n",
    "        print(i)\n",
    "        if i == '(':\n",
    "            openOrder.append(s.find('(',i))\n",
    "            closeOrder.append(s.find(')',i)) \n",
    "            Characters.remove(i)\n",
    "        if i == '[':\n",
    "            openOrder.append(s.find('[',i))\n",
    "            closeOrder.append(s.find(']',i))\n",
    "            Characters.remove(i)\n",
    "        if i == '{':\n",
    "            openOrder.append(s.find('{',i))\n",
    "            closeOrder.append(s.find('}',i))\n",
    "            Characters.remove(i)\n",
    "        print(openOrder)\n",
    "        print(closeOrder)\n",
    "        \n",
    "\n",
    "    print(openOrder)\n",
    "    print(closeOrder)\n",
    "\n",
    "group_check('[[]()]')"
   ]
  },
  {
   "cell_type": "code",
   "execution_count": 177,
   "metadata": {
    "collapsed": false,
    "focus": false,
    "id": "c3caa186-0fb6-48d5-86c8-280bed730b66"
   },
   "outputs": [
    {
     "name": "stdout",
     "output_type": "stream",
     "text": [
      "5\n"
     ]
    }
   ],
   "source": [
    "s = '(test)'\n",
    "print(s.find(')',s.find('(')))"
   ]
  },
  {
   "cell_type": "markdown",
   "metadata": {
    "focus": false,
    "id": "728f1d4c-0704-47c2-8357-ccd65e8fb572"
   },
   "source": [
    "### [Pascal's Triangle #2](https://www.codewars.com/kata/52945ce49bb38560fe0001d9/train/python)\n"
   ]
  },
  {
   "cell_type": "code",
   "execution_count": 94,
   "metadata": {
    "collapsed": false,
    "focus": false,
    "id": "4c3dd830-85d0-40fa-9030-43ee94fa05c6"
   },
   "outputs": [
    {
     "ename": "TypeError",
     "evalue": "unsupported operand type(s) for +=: 'int' and 'list'",
     "output_type": "error",
     "traceback": [
      "\u001b[0;31m---------------------------------------------------------------------------\u001b[0m",
      "\u001b[0;31mTypeError\u001b[0m                                 Traceback (most recent call last)",
      "\u001b[0;32m<ipython-input-94-83891ee89370>\u001b[0m in \u001b[0;36m<module>\u001b[0;34m()\u001b[0m\n\u001b[1;32m     19\u001b[0m \u001b[0;34m\u001b[0m\u001b[0m\n\u001b[1;32m     20\u001b[0m \u001b[0;34m\u001b[0m\u001b[0m\n\u001b[0;32m---> 21\u001b[0;31m \u001b[0mpascal\u001b[0m\u001b[0;34m(\u001b[0m\u001b[0;36m5\u001b[0m\u001b[0;34m)\u001b[0m\u001b[0;34m\u001b[0m\u001b[0m\n\u001b[0m",
      "\u001b[0;32m<ipython-input-94-83891ee89370>\u001b[0m in \u001b[0;36mpascal\u001b[0;34m(p)\u001b[0m\n\u001b[1;32m      5\u001b[0m    \u001b[0mtriangle\u001b[0m \u001b[0;34m=\u001b[0m \u001b[0;34m[\u001b[0m\u001b[0;34m[\u001b[0m\u001b[0;36m1\u001b[0m\u001b[0;34m]\u001b[0m\u001b[0;34m]\u001b[0m\u001b[0;34m\u001b[0m\u001b[0m\n\u001b[1;32m      6\u001b[0m    \u001b[0;32mfor\u001b[0m \u001b[0mrow\u001b[0m \u001b[0;32min\u001b[0m \u001b[0mrange\u001b[0m\u001b[0;34m(\u001b[0m\u001b[0;36m0\u001b[0m\u001b[0;34m,\u001b[0m\u001b[0mp\u001b[0m\u001b[0;34m,\u001b[0m\u001b[0;36m1\u001b[0m\u001b[0;34m)\u001b[0m\u001b[0;34m:\u001b[0m\u001b[0;34m\u001b[0m\u001b[0m\n\u001b[0;32m----> 7\u001b[0;31m        \u001b[0mrow\u001b[0m \u001b[0;34m+=\u001b[0m \u001b[0;34m[\u001b[0m\u001b[0;36m1\u001b[0m\u001b[0;34m]\u001b[0m\u001b[0;34m\u001b[0m\u001b[0m\n\u001b[0m\u001b[1;32m      8\u001b[0m \u001b[0;34m\u001b[0m\u001b[0m\n\u001b[1;32m      9\u001b[0m \u001b[0;34m\u001b[0m\u001b[0m\n",
      "\u001b[0;31mTypeError\u001b[0m: unsupported operand type(s) for +=: 'int' and 'list'"
     ]
    }
   ],
   "source": [
    " # http://stackoverflow.com/questions/15580291/how-to-efficiently-calculate-a-row-in-pascals-triangle\n",
    "\n",
    "def pascal(p):\n",
    "    #p is the depth of the triangle\n",
    "    triangle = [[1]]\n",
    "    for row in range(0,p,1):\n",
    "        row += [1]\n",
    "        \n",
    "        \n",
    "        row += [1]\n",
    "        \n",
    "        for i in range(1,len(row)-1):\n",
    "            print(row[i])\n",
    "            nextrow += [(row[i] + row[i-1])]\n",
    "            \n",
    "            print(nextrow)\n",
    "            #newrow += []\n",
    "    #print(triangle)\n",
    "        \n",
    "        \n",
    "pascal(5)"
   ]
  },
  {
   "cell_type": "markdown",
   "metadata": {
    "focus": false,
    "id": "97ec2366-0680-4158-a991-cf242aaba916"
   },
   "source": [
    "### [Does my number look big in this?](https://www.codewars.com/kata/5287e858c6b5a9678200083c/train/python)\n"
   ]
  },
  {
   "cell_type": "code",
   "execution_count": 3,
   "metadata": {
    "collapsed": false,
    "focus": false,
    "id": "b52f0771-cd56-4fc9-8898-9f72a5ba2516"
   },
   "outputs": [
    {
     "data": {
      "text/plain": [
       "False"
      ]
     },
     "execution_count": 3,
     "metadata": {},
     "output_type": "execute_result"
    }
   ],
   "source": [
    "def narcissistic(value):\n",
    "    given_value = value\n",
    "    digit_value = 0\n",
    "    if value < 10:                                          # All numbers less than 10 are vain by default\n",
    "        digit_value = value\n",
    "    else:\n",
    "        while value:                                        # while value > 0\n",
    "            digit = value % 10                              # Find the remainder mod 10 (always last digit)\n",
    "            digit_value += digit**len(str(given_value))     # Raise that to the length of the number\n",
    "            value //= 10                                    # Use floor division to divide the number by 10\n",
    "    return True if digit_value == given_value else False    # use ternary condition"
   ]
  },
  {
   "cell_type": "code",
   "execution_count": null,
   "metadata": {
    "collapsed": true,
    "focus": false,
    "id": "2d392ec6-a8b0-455a-86ab-79b716499efd"
   },
   "outputs": [],
   "source": [
    "def narcissistic(value):\n",
    "    \"\"\" \n",
    "    Use the bool() function to return True if value is not ommitted or false, then sum a list generated with the \n",
    "    the [int(a) ** len(str(value)) for a in str(value)] which makes an integer for every character in stringified\n",
    "    value, and also raises that to the length of the entire stringified value. \n",
    "    \"\"\"\n",
    "    return bool(value==sum([int(a) ** len(str(value)) for a in str(value)]))"
   ]
  },
  {
   "cell_type": "markdown",
   "metadata": {
    "focus": false,
    "id": "d8d86c69-fa70-42f0-b32e-44cc2c7c546b"
   },
   "source": [
    "### [RGB To Hex Conversion](https://www.codewars.com/kata/rgb-to-hex-conversion/train/python)"
   ]
  },
  {
   "cell_type": "code",
   "execution_count": null,
   "metadata": {
    "collapsed": true,
    "focus": false,
    "id": "c02b15c5-1bfa-45fb-90fd-df0c304d3282"
   },
   "outputs": [],
   "source": [
    "def rgb(r, g, b):\n",
    "    \"\"\"\n",
    "    Demonstrates how to use a lambda properly; attempted to run a generic lambda multiple times, \n",
    "    could've just used this, also note the {:02X} * 3, which minimzes the string itself. \n",
    "    Should always use lambdas (especially named ones) more often. \n",
    "    \n",
    "    Of the form f(x) = some function involving x\n",
    "    Can also do f(x,y,z) = some function involving x,y,z\n",
    "    \"\"\"\n",
    "    round = lambda x: min(255, max(x, 0))\n",
    "    return (\"{:02X}\" * 3).format(round(r), round(g), round(b))"
   ]
  },
  {
   "cell_type": "code",
   "execution_count": 32,
   "metadata": {
    "collapsed": false,
    "focus": false,
    "id": "7e48fb7f-ceeb-464d-b93e-035071305be1"
   },
   "outputs": [
    {
     "data": {
      "text/plain": [
       "'010203'"
      ]
     },
     "execution_count": 32,
     "metadata": {},
     "output_type": "execute_result"
    }
   ],
   "source": [
    "def rgb(r,g,b):\n",
    "    return('{:02X}{:02X}{:02X}'.format(\n",
    "            max(min(255, r), 0),\n",
    "            max(min(255, g), 0),\n",
    "            max(min(255, b), 0)))\n",
    "\n",
    "rgb(1,2,3)"
   ]
  },
  {
   "cell_type": "markdown",
   "metadata": {
    "focus": false,
    "id": "7374cb64-379a-4549-bd61-697ebbfc8615"
   },
   "source": [
    "### [Delete occurrences of an element if it occurs more than n times](https://www.codewars.com/kata/5m54ca54ffa7d91b236000023/train/python)"
   ]
  },
  {
   "cell_type": "code",
   "execution_count": 25,
   "metadata": {
    "collapsed": false,
    "focus": false,
    "id": "2bc604d2-7db1-48ec-8b74-eeb7f02a2688"
   },
   "outputs": [
    {
     "name": "stdout",
     "output_type": "stream",
     "text": [
      "[1, 1, 2, 2, 2, 3, 3, 7]\n"
     ]
    }
   ],
   "source": [
    "def delete_nth(order,max_e):\n",
    "    \"\"\"\n",
    "    Show numbers in a list up to n times.\n",
    "    \"\"\"\n",
    "    neworder = []\n",
    "    for x in set(order): neworder += [x] * min(order.count(x),max_e)\n",
    "    return(neworder)\n",
    "    #print(filter(lambda x: x in set(order), order))\n",
    "print(delete_nth([1, 1, 3, 3, 7, 2, 2, 2], 3))\n",
    "#print([1, 1, 3, 3, 7, 2, 2, 2, 2])\n"
   ]
  },
  {
   "cell_type": "code",
   "execution_count": 27,
   "metadata": {
    "collapsed": false,
    "focus": false,
    "id": "cf9f6ae2-d6aa-4550-a6b4-644f87f17668"
   },
   "outputs": [
    {
     "data": {
      "text/plain": [
       "{1, 2, 3, 9}"
      ]
     },
     "execution_count": 27,
     "metadata": {},
     "output_type": "execute_result"
    }
   ],
   "source": [
    "while neworder.count(x) <= min(order.count(x),max_e)\n",
    "    neworder += "
   ]
  },
  {
   "cell_type": "code",
   "execution_count": 31,
   "metadata": {
    "collapsed": false
   },
   "outputs": [
    {
     "data": {
      "text/plain": [
       "[1, 1, 3, 3, 7, 2, 2, 2]"
      ]
     },
     "execution_count": 31,
     "metadata": {},
     "output_type": "execute_result"
    }
   ],
   "source": [
    "list(filter(lambda x: x in set([1, 1, 3, 3, 7, 2, 2, 2]), [1, 1, 3, 3, 7, 2, 2, 2]))"
   ]
  },
  {
   "cell_type": "code",
   "execution_count": 14,
   "metadata": {
    "collapsed": false,
    "focus": false,
    "id": "e2a3d10b-9b5b-4aba-ae9a-982ae01192fe"
   },
   "outputs": [
    {
     "data": {
      "text/plain": [
       "[-5, -4, -3, -2, -1]"
      ]
     },
     "execution_count": 14,
     "metadata": {},
     "output_type": "execute_result"
    }
   ],
   "source": [
    "lessthan = (lambda x: x < 0)\n",
    "\n",
    "list(filter(lessthan, range(-5,5)))"
   ]
  },
  {
   "cell_type": "markdown",
   "metadata": {
    "collapsed": true,
    "focus": false,
    "id": "e4c07337-08ae-44ca-aceb-b79cf583dfcc"
   },
   "source": [
    "### [Sum consecutives](https://www.codewars.com/kata/55eeddff3f64c954c2000059/train/python)"
   ]
  },
  {
   "cell_type": "code",
   "execution_count": 96,
   "metadata": {
    "collapsed": false
   },
   "outputs": [
    {
     "name": "stdout",
     "output_type": "stream",
     "text": [
      "1\n",
      "[1]\n",
      "4\n",
      "[1, 4]\n",
      "4\n",
      "[1, 8]\n",
      "4\n",
      "[1, 12]\n",
      "0\n",
      "[1, 12, 0]\n",
      "4\n",
      "[1, 12, 0, 4]\n",
      "3\n",
      "[1, 12, 0, 4, 3]\n",
      "3\n",
      "[1, 12, 0, 4, 6]\n",
      "1\n",
      "[1, 12, 0, 4, 6, 1]\n"
     ]
    },
    {
     "data": {
      "text/plain": [
       "[1, 12, 0, 4, 6, 1]"
      ]
     },
     "execution_count": 96,
     "metadata": {},
     "output_type": "execute_result"
    }
   ],
   "source": [
    "def sum_consecutives(s):\n",
    "    \"\"\"\n",
    "    Forfeited challenge; turns out you were close. Instead of summing\n",
    "    to the current list position of new list (x), just sum it to the \n",
    "    last value (x[-1]) since that is where it would be going anyway.\n",
    "    Then add the new value to it if it matches previous, and update\n",
    "    previous with the new value at the end of the loop.\n",
    "    \"\"\"\n",
    "    prev = None\n",
    "    x = []\n",
    "    for i in s:\n",
    "        print(i)\n",
    "        if i == prev:\n",
    "            x[-1] += i\n",
    "        else:\n",
    "            x += [i]\n",
    "        print(x)\n",
    "        prev = i\n",
    "    return x\n",
    "\n",
    "sum_consecutives([1,4,4,4,0,4,3,3,1])"
   ]
  },
  {
   "cell_type": "code",
   "execution_count": 84,
   "metadata": {
    "collapsed": false,
    "scrolled": false
   },
   "outputs": [
    {
     "name": "stdout",
     "output_type": "stream",
     "text": [
      "16\n",
      "16\n",
      "6\n"
     ]
    },
    {
     "ename": "IndexError",
     "evalue": "list index out of range",
     "output_type": "error",
     "traceback": [
      "\u001b[0;31m---------------------------------------------------------------------------\u001b[0m",
      "\u001b[0;31mIndexError\u001b[0m                                Traceback (most recent call last)",
      "\u001b[0;32m<ipython-input-84-996446edddce>\u001b[0m in \u001b[0;36m<module>\u001b[0;34m()\u001b[0m\n\u001b[1;32m     10\u001b[0m         \u001b[0mc\u001b[0m \u001b[0;34m+=\u001b[0m \u001b[0;34m[\u001b[0m\u001b[0mvalue\u001b[0m\u001b[0;34m]\u001b[0m\u001b[0;34m\u001b[0m\u001b[0m\n\u001b[1;32m     11\u001b[0m     \u001b[0mprint\u001b[0m\u001b[0;34m(\u001b[0m\u001b[0mc\u001b[0m\u001b[0;34m)\u001b[0m\u001b[0;34m\u001b[0m\u001b[0m\n\u001b[0;32m---> 12\u001b[0;31m \u001b[0msum_consecutives\u001b[0m\u001b[0;34m(\u001b[0m\u001b[0;34m[\u001b[0m\u001b[0;36m1\u001b[0m\u001b[0;34m,\u001b[0m\u001b[0;36m4\u001b[0m\u001b[0;34m,\u001b[0m\u001b[0;36m4\u001b[0m\u001b[0;34m,\u001b[0m\u001b[0;36m4\u001b[0m\u001b[0;34m,\u001b[0m\u001b[0;36m0\u001b[0m\u001b[0;34m,\u001b[0m\u001b[0;36m4\u001b[0m\u001b[0;34m,\u001b[0m\u001b[0;36m3\u001b[0m\u001b[0;34m,\u001b[0m\u001b[0;36m3\u001b[0m\u001b[0;34m,\u001b[0m\u001b[0;36m1\u001b[0m\u001b[0;34m]\u001b[0m\u001b[0;34m)\u001b[0m\u001b[0;34m\u001b[0m\u001b[0m\n\u001b[0m\u001b[1;32m     13\u001b[0m \u001b[0;31m#print([1,12,0,4,6,1])\u001b[0m\u001b[0;34m\u001b[0m\u001b[0;34m\u001b[0m\u001b[0m\n",
      "\u001b[0;32m<ipython-input-84-996446edddce>\u001b[0m in \u001b[0;36msum_consecutives\u001b[0;34m(s)\u001b[0m\n\u001b[1;32m      3\u001b[0m     \u001b[0;32mfor\u001b[0m \u001b[0mi\u001b[0m \u001b[0;32min\u001b[0m \u001b[0mrange\u001b[0m \u001b[0;34m(\u001b[0m\u001b[0;36m1\u001b[0m\u001b[0;34m,\u001b[0m\u001b[0mlen\u001b[0m\u001b[0;34m(\u001b[0m\u001b[0ms\u001b[0m\u001b[0;34m)\u001b[0m\u001b[0;34m)\u001b[0m\u001b[0;34m:\u001b[0m\u001b[0;34m\u001b[0m\u001b[0m\n\u001b[1;32m      4\u001b[0m         \u001b[0mvalue\u001b[0m \u001b[0;34m=\u001b[0m \u001b[0;36m0\u001b[0m\u001b[0;34m\u001b[0m\u001b[0m\n\u001b[0;32m----> 5\u001b[0;31m         \u001b[0;32mif\u001b[0m \u001b[0ms\u001b[0m\u001b[0;34m[\u001b[0m\u001b[0mi\u001b[0m\u001b[0;34m]\u001b[0m \u001b[0;34m==\u001b[0m \u001b[0ms\u001b[0m\u001b[0;34m[\u001b[0m\u001b[0mi\u001b[0m\u001b[0;34m+\u001b[0m\u001b[0;36m1\u001b[0m\u001b[0;34m]\u001b[0m\u001b[0;34m:\u001b[0m\u001b[0;34m\u001b[0m\u001b[0m\n\u001b[0m\u001b[1;32m      6\u001b[0m             \u001b[0mvalue\u001b[0m \u001b[0;34m+=\u001b[0m \u001b[0ms\u001b[0m\u001b[0;34m[\u001b[0m\u001b[0mi\u001b[0m\u001b[0;34m]\u001b[0m \u001b[0;34m*\u001b[0m \u001b[0ms\u001b[0m\u001b[0;34m.\u001b[0m\u001b[0mcount\u001b[0m\u001b[0;34m(\u001b[0m\u001b[0ms\u001b[0m\u001b[0;34m[\u001b[0m\u001b[0mi\u001b[0m\u001b[0;34m]\u001b[0m\u001b[0;34m)\u001b[0m\u001b[0;34m\u001b[0m\u001b[0m\n\u001b[1;32m      7\u001b[0m             \u001b[0mprint\u001b[0m\u001b[0;34m(\u001b[0m\u001b[0mvalue\u001b[0m\u001b[0;34m)\u001b[0m\u001b[0;34m\u001b[0m\u001b[0m\n",
      "\u001b[0;31mIndexError\u001b[0m: list index out of range"
     ]
    }
   ],
   "source": [
    "def sum_consecutives(s):\n",
    "    c = [s[0]]\n",
    "    for i in range (1,len(s)):\n",
    "        value = 0\n",
    "        if s[i] == s[i+1]:\n",
    "            value += s[i] * s.count(s[i])\n",
    "            print(value)\n",
    "        else:\n",
    "            value = s[i]\n",
    "        c += [value]\n",
    "    print(c)\n",
    "sum_consecutives([1,4,4,4,0,4,3,3,1])\n",
    "#print([1,12,0,4,6,1])"
   ]
  },
  {
   "cell_type": "markdown",
   "metadata": {},
   "source": [
    "### [Extract the domain name from a URL](https://www.codewars.com/kata/514a024011ea4fb54200004b/train/python)"
   ]
  },
  {
   "cell_type": "code",
   "execution_count": 122,
   "metadata": {
    "collapsed": false
   },
   "outputs": [
    {
     "data": {
      "text/plain": [
       "True"
      ]
     },
     "execution_count": 122,
     "metadata": {},
     "output_type": "execute_result"
    }
   ],
   "source": [
    "def domain_name(url):\n",
    "    import re\n",
    "    \"\"\"\n",
    "    There are a bunch of re functions that use regex, but findall is probably the easiest; search a raw string (no\n",
    "    extra backslashes except the minimum required for notation (\\w, etc.), and return a list of matches, which can be\n",
    "    accessed via the index (here, 0)\n",
    "    \"\"\"\n",
    "    return(re.findall(r\"\\/{2}w{3}\\.?(.+)\\.\",url)[0])\n",
    "\n",
    "\n",
    "domain_name(\"https://www.cnet.com\") == \"cnet\""
   ]
  },
  {
   "cell_type": "markdown",
   "metadata": {},
   "source": [
    "### [Hamming Numbers](https://www.codewars.com/kata/526d84b98f428f14a60008da/train/python)"
   ]
  },
  {
   "cell_type": "code",
   "execution_count": 144,
   "metadata": {
    "collapsed": false
   },
   "outputs": [
    {
     "name": "stdout",
     "output_type": "stream",
     "text": [
      "2.584962500721156 1.6309297535714573 1.1132827525593785\n"
     ]
    }
   ],
   "source": [
    "def hamming(n):\n",
    "    import math\n",
    "    \"\"\"Returns the nth hamming number\"\"\"\n",
    "    if math.log(n,2) % 2 == 0 \n",
    "    n = i + j + k\n",
    "    \n",
    "    #print(math.log(n,2), math.log(n,3), math.log(n,5))\n",
    "    \n",
    "hamming(6)"
   ]
  },
  {
   "cell_type": "markdown",
   "metadata": {},
   "source": [
    "###  [Primes in numbers](https://www.codewars.com/kata/54d512e62a5e54c96200019e/train/python)"
   ]
  },
  {
   "cell_type": "code",
   "execution_count": 166,
   "metadata": {
    "collapsed": false
   },
   "outputs": [
    {
     "name": "stdout",
     "output_type": "stream",
     "text": [
      "While factor 2 squared (4) is less than 9, check the following:\n",
      "9 mod 2 is not 0; increase the factor by 1 until we get a factor that is mod 0\n",
      "While factor 3 squared (9) is less than 9, check the following:\n",
      "9 is floor divided (no float) by 3, yielding new n 3\n"
     ]
    },
    {
     "data": {
      "text/plain": [
       "[3, 3]"
      ]
     },
     "execution_count": 166,
     "metadata": {},
     "output_type": "execute_result"
    }
   ],
   "source": [
    "def prime_factors(n):\n",
    "    i = 2\n",
    "    factors = []\n",
    "    while i * i <= n:\n",
    "        print('While factor {} squared ({}) is less than {}, check the following:'.format(i, i ** 2, n))\n",
    "        if n % i: \n",
    "            print('{} mod {} is not 0; increase the factor by 1 until we get a factor that is mod 0'.format(n, i, n % i))\n",
    "            i += 1\n",
    "        else:\n",
    "            print('{} mod {} is 0, so we floor divide {} by {}, yielding new n {}'.format(n, i, n // i))\n",
    "            n //= i\n",
    "            factors.append(i)\n",
    "    if n > 1:\n",
    "        factors.append(n)\n",
    "    return factors\n",
    "\n",
    "prime_factors(9)"
   ]
  },
  {
   "cell_type": "code",
   "execution_count": 157,
   "metadata": {
    "collapsed": false,
    "scrolled": true
   },
   "outputs": [
    {
     "name": "stdout",
     "output_type": "stream",
     "text": [
      "this\n"
     ]
    }
   ],
   "source": [
    "if 1:\n",
    "    print('this')"
   ]
  },
  {
   "cell_type": "markdown",
   "metadata": {},
   "source": [
    "### [Base Conversion](https://www.codewars.com/kata/526a569ca578d7e6e300034e/train/python)"
   ]
  },
  {
   "cell_type": "code",
   "execution_count": 168,
   "metadata": {
    "collapsed": false
   },
   "outputs": [],
   "source": [
    "bin='01'\n",
    "oct='01234567'\n",
    "dec='0123456789'\n",
    "hex='0123456789abcdef'\n",
    "allow='abcdefghijklmnopqrstuvwxyz'\n",
    "allup='ABCDEFGHIJKLMNOPQRSTUVWXYZ'\n",
    "alpha='abcdefghijklmnopqrstuvwxyzABCDEFGHIJKLMNOPQRSTUVWXYZ'\n",
    "alphanum='0123456789abcdefghijklmnopqrstuvwxyzABCDEF'\n",
    "\n",
    "def convert(input, source, target):\n",
    "    \n",
    "    \"\"\"BEGIN\"\"\"\n",
    "    \n",
    "#convert(\"15\", dec, bin) #should return \"1111\""
   ]
  },
  {
   "cell_type": "code",
   "execution_count": 176,
   "metadata": {
    "collapsed": false
   },
   "outputs": [
    {
     "data": {
      "text/plain": [
       "8"
      ]
     },
     "execution_count": 176,
     "metadata": {},
     "output_type": "execute_result"
    }
   ],
   "source": [
    "8 ** 1"
   ]
  },
  {
   "cell_type": "code",
   "execution_count": null,
   "metadata": {
    "collapsed": true
   },
   "outputs": [],
   "source": [
    "#convert(\"15\", dec, oct) #should return \"17\"\n",
    "\n",
    "# 15 = 1* 10, 5 * 1 in decimal notation (0123456789)\n",
    "# 15 = 7 * 1, 1 * 5\n",
    "\n",
    "oct[]"
   ]
  }
 ],
 "metadata": {
  "kernelspec": {
   "display_name": "Python 3",
   "language": "python",
   "name": "python3"
  },
  "language_info": {
   "codemirror_mode": {
    "name": "ipython",
    "version": 3
   },
   "file_extension": ".py",
   "mimetype": "text/x-python",
   "name": "python",
   "nbconvert_exporter": "python",
   "pygments_lexer": "ipython3",
   "version": "3.5.2"
  }
 },
 "nbformat": 4,
 "nbformat_minor": 0
}
