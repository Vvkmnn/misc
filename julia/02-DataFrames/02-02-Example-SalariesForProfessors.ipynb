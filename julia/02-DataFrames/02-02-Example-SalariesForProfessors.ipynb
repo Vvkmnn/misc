{
 "cells": [
  {
   "cell_type": "markdown",
   "metadata": {
    "collapsed": true
   },
   "source": [
    "# Example 02-02: Salaries for Professors"
   ]
  },
  {
   "cell_type": "markdown",
   "metadata": {},
   "source": [
    "[R documentation](http://finzi.psych.upenn.edu/R/library/car/html/Salaries.html)"
   ]
  },
  {
   "cell_type": "code",
   "execution_count": null,
   "metadata": {
    "collapsed": false
   },
   "outputs": [],
   "source": [
    "using DataFramesMeta\n",
    "using Gadfly\n",
    "using KernelDensity\n",
    "using RDatasets"
   ]
  },
  {
   "cell_type": "markdown",
   "metadata": {},
   "source": [
    "## Exploring contents of RDatasets package"
   ]
  },
  {
   "cell_type": "code",
   "execution_count": null,
   "metadata": {
    "collapsed": false
   },
   "outputs": [],
   "source": [
    "RDatasets.packages()"
   ]
  },
  {
   "cell_type": "code",
   "execution_count": null,
   "metadata": {
    "collapsed": false
   },
   "outputs": [],
   "source": [
    "RDatasets.datasets()"
   ]
  },
  {
   "cell_type": "code",
   "execution_count": null,
   "metadata": {
    "collapsed": false
   },
   "outputs": [],
   "source": [
    "RDatasets.datasets(\"car\")"
   ]
  },
  {
   "cell_type": "code",
   "execution_count": null,
   "metadata": {
    "collapsed": false
   },
   "outputs": [],
   "source": [
    "@where(RDatasets.datasets(), :Package .== \"car\")"
   ]
  },
  {
   "cell_type": "code",
   "execution_count": null,
   "metadata": {
    "collapsed": false
   },
   "outputs": [],
   "source": [
    "@where(RDatasets.datasets(), :Package .== \"car\", :Dataset .== \"Salaries\")"
   ]
  },
  {
   "cell_type": "markdown",
   "metadata": {},
   "source": [
    "## Loading a datasets from RDatasets"
   ]
  },
  {
   "cell_type": "code",
   "execution_count": null,
   "metadata": {
    "collapsed": false
   },
   "outputs": [],
   "source": [
    "SalariesFrame = dataset(\"car\", \"Salaries\")"
   ]
  },
  {
   "cell_type": "markdown",
   "metadata": {},
   "source": [
    "## Getting basic information about a DataFrame"
   ]
  },
  {
   "cell_type": "code",
   "execution_count": null,
   "metadata": {
    "collapsed": false
   },
   "outputs": [],
   "source": [
    "size(SalariesFrame)"
   ]
  },
  {
   "cell_type": "code",
   "execution_count": null,
   "metadata": {
    "collapsed": false
   },
   "outputs": [],
   "source": [
    "names(SalariesFrame)"
   ]
  },
  {
   "cell_type": "code",
   "execution_count": 121,
   "metadata": {
    "collapsed": false
   },
   "outputs": [
    {
     "data": {
      "text/html": [
       "<table class=\"data-frame\"><tr><th></th><th>Rank</th><th>Discipline</th><th>YrsSincePhD</th><th>YrsService</th><th>Sex</th><th>Salary</th></tr><tr><th>1</th><td>AsstProf</td><td>B</td><td>1</td><td>0</td><td>Male</td><td>88000</td></tr><tr><th>2</th><td>AsstProf</td><td>B</td><td>1</td><td>0</td><td>Male</td><td>88795</td></tr><tr><th>3</th><td>AsstProf</td><td>B</td><td>2</td><td>0</td><td>Male</td><td>78000</td></tr><tr><th>4</th><td>AsstProf</td><td>A</td><td>2</td><td>0</td><td>Female</td><td>72500</td></tr><tr><th>5</th><td>AsstProf</td><td>A</td><td>2</td><td>0</td><td>Male</td><td>85000</td></tr><tr><th>6</th><td>AsstProf</td><td>B</td><td>4</td><td>0</td><td>Male</td><td>84000</td></tr><tr><th>7</th><td>AsstProf</td><td>B</td><td>4</td><td>0</td><td>Male</td><td>92000</td></tr><tr><th>8</th><td>AsstProf</td><td>B</td><td>5</td><td>0</td><td>Female</td><td>77000</td></tr><tr><th>9</th><td>AsstProf</td><td>A</td><td>5</td><td>0</td><td>Male</td><td>74000</td></tr><tr><th>10</th><td>AsstProf</td><td>B</td><td>11</td><td>0</td><td>Male</td><td>77000</td></tr></table>"
      ],
      "text/plain": [
       "10×6 DataFrames.DataFrame\n",
       "│ Row │ Rank       │ Discipline │ YrsSincePhD │ YrsService │ Sex      │ Salary │\n",
       "├─────┼────────────┼────────────┼─────────────┼────────────┼──────────┼────────┤\n",
       "│ 1   │ \"AsstProf\" │ \"B\"        │ 1           │ 0          │ \"Male\"   │ 88000  │\n",
       "│ 2   │ \"AsstProf\" │ \"B\"        │ 1           │ 0          │ \"Male\"   │ 88795  │\n",
       "│ 3   │ \"AsstProf\" │ \"B\"        │ 2           │ 0          │ \"Male\"   │ 78000  │\n",
       "│ 4   │ \"AsstProf\" │ \"A\"        │ 2           │ 0          │ \"Female\" │ 72500  │\n",
       "│ 5   │ \"AsstProf\" │ \"A\"        │ 2           │ 0          │ \"Male\"   │ 85000  │\n",
       "│ 6   │ \"AsstProf\" │ \"B\"        │ 4           │ 0          │ \"Male\"   │ 84000  │\n",
       "│ 7   │ \"AsstProf\" │ \"B\"        │ 4           │ 0          │ \"Male\"   │ 92000  │\n",
       "│ 8   │ \"AsstProf\" │ \"B\"        │ 5           │ 0          │ \"Female\" │ 77000  │\n",
       "│ 9   │ \"AsstProf\" │ \"A\"        │ 5           │ 0          │ \"Male\"   │ 74000  │\n",
       "│ 10  │ \"AsstProf\" │ \"B\"        │ 11          │ 0          │ \"Male\"   │ 77000  │"
      ]
     },
     "execution_count": 121,
     "metadata": {},
     "output_type": "execute_result"
    }
   ],
   "source": [
    "head(SalariesFrame, 10)"
   ]
  },
  {
   "cell_type": "code",
   "execution_count": null,
   "metadata": {
    "collapsed": false
   },
   "outputs": [],
   "source": [
    "tail(SalariesFrame)"
   ]
  },
  {
   "cell_type": "code",
   "execution_count": null,
   "metadata": {
    "collapsed": false
   },
   "outputs": [],
   "source": [
    "describe(SalariesFrame)"
   ]
  },
  {
   "cell_type": "markdown",
   "metadata": {},
   "source": [
    "## Basic manipulation of a DataFrame"
   ]
  },
  {
   "cell_type": "code",
   "execution_count": null,
   "metadata": {
    "collapsed": false
   },
   "outputs": [],
   "source": [
    "sort!(SalariesFrame, cols=[:YrsService, :YrsSincePhD])"
   ]
  },
  {
   "cell_type": "code",
   "execution_count": null,
   "metadata": {
    "collapsed": false
   },
   "outputs": [],
   "source": [
    "# pool!(SalariesFrame, [:Discipline, :Sex])"
   ]
  },
  {
   "cell_type": "code",
   "execution_count": null,
   "metadata": {
    "collapsed": false
   },
   "outputs": [],
   "source": [
    "levels(SalariesFrame[:Sex])"
   ]
  },
  {
   "cell_type": "markdown",
   "metadata": {
    "collapsed": true
   },
   "source": [
    "## Exploratory statistical analysis of professorial salaries"
   ]
  },
  {
   "cell_type": "code",
   "execution_count": null,
   "metadata": {
    "collapsed": false
   },
   "outputs": [],
   "source": [
    "by(SalariesFrame, :Rank) do df\n",
    "  DataFrame(\n",
    "    n = length(df[:Salary]),\n",
    "    mean = round(mean(df[:Salary]), 3),\n",
    "    std = round(std(df[:Salary]), 3)\n",
    "  )\n",
    "end"
   ]
  },
  {
   "cell_type": "code",
   "execution_count": null,
   "metadata": {
    "collapsed": false
   },
   "outputs": [],
   "source": [
    "by(SalariesFrame, :Discipline) do df\n",
    "  DataFrame(\n",
    "    n = length(df[:Salary]),\n",
    "    mean = round(mean(df[:Salary]), 3),\n",
    "    std = round(std(df[:Salary]), 3)\n",
    "  )\n",
    "end"
   ]
  },
  {
   "cell_type": "code",
   "execution_count": null,
   "metadata": {
    "collapsed": false
   },
   "outputs": [],
   "source": [
    "by(SalariesFrame, :Sex) do df\n",
    "  DataFrame(\n",
    "    n = length(df[:Salary]),\n",
    "    mean = round(mean(df[:Salary]), 3),\n",
    "    std = round(std(df[:Salary]), 3)\n",
    "  )\n",
    "end"
   ]
  },
  {
   "cell_type": "code",
   "execution_count": null,
   "metadata": {
    "collapsed": false
   },
   "outputs": [],
   "source": [
    "by(SalariesFrame, [:Rank, :Discipline]) do df\n",
    "  DataFrame(\n",
    "    n = length(df[:Salary]),\n",
    "    mean = round(mean(df[:Salary]), 3),\n",
    "    std = round(std(df[:Salary]), 3)\n",
    "  )\n",
    "end"
   ]
  },
  {
   "cell_type": "code",
   "execution_count": 120,
   "metadata": {
    "collapsed": false
   },
   "outputs": [
    {
     "data": {
      "text/html": [
       "<table class=\"data-frame\"><tr><th></th><th>Rank</th><th>Sex</th><th>n</th><th>mean</th><th>std</th></tr><tr><th>1</th><td>AsstProf</td><td>Female</td><td>11</td><td>78049.909</td><td>9371.996</td></tr><tr><th>2</th><td>AsstProf</td><td>Male</td><td>56</td><td>81311.464</td><td>7901.343</td></tr><tr><th>3</th><td>AssocProf</td><td>Female</td><td>10</td><td>88512.8</td><td>17965.286</td></tr><tr><th>4</th><td>AssocProf</td><td>Male</td><td>54</td><td>94869.704</td><td>12890.817</td></tr><tr><th>5</th><td>Prof</td><td>Female</td><td>18</td><td>121967.611</td><td>19619.583</td></tr><tr><th>6</th><td>Prof</td><td>Male</td><td>248</td><td>127120.823</td><td>28213.808</td></tr></table>"
      ],
      "text/plain": [
       "6×5 DataFrames.DataFrame\n",
       "│ Row │ Rank        │ Sex      │ n   │ mean      │ std     │\n",
       "├─────┼─────────────┼──────────┼─────┼───────────┼─────────┤\n",
       "│ 1   │ \"AsstProf\"  │ \"Female\" │ 11  │ 78049.9   │ 9372.0  │\n",
       "│ 2   │ \"AsstProf\"  │ \"Male\"   │ 56  │ 81311.5   │ 7901.34 │\n",
       "│ 3   │ \"AssocProf\" │ \"Female\" │ 10  │ 88512.8   │ 17965.3 │\n",
       "│ 4   │ \"AssocProf\" │ \"Male\"   │ 54  │ 94869.7   │ 12890.8 │\n",
       "│ 5   │ \"Prof\"      │ \"Female\" │ 18  │ 1.21968e5 │ 19619.6 │\n",
       "│ 6   │ \"Prof\"      │ \"Male\"   │ 248 │ 1.27121e5 │ 28213.8 │"
      ]
     },
     "execution_count": 120,
     "metadata": {},
     "output_type": "execute_result"
    }
   ],
   "source": [
    "by(SalariesFrame, [:Rank, :Sex]) do df\n",
    "  DataFrame(\n",
    "    n = length(df[:Salary]),\n",
    "    mean = round(mean(df[:Salary]), 3),\n",
    "    std = round(std(df[:Salary]), 3)\n",
    "  )\n",
    "end"
   ]
  },
  {
   "cell_type": "code",
   "execution_count": 119,
   "metadata": {
    "collapsed": false
   },
   "outputs": [
    {
     "data": {
      "text/html": [
       "<table class=\"data-frame\"><tr><th></th><th>Discipline</th><th>Sex</th><th>n</th><th>mean</th><th>std</th></tr><tr><th>1</th><td>A</td><td>Female</td><td>18</td><td>89064.944</td><td>21638.581</td></tr><tr><th>2</th><td>A</td><td>Male</td><td>163</td><td>110699.982</td><td>30663.119</td></tr><tr><th>3</th><td>B</td><td>Female</td><td>21</td><td>111234.524</td><td>25367.24</td></tr><tr><th>4</th><td>B</td><td>Male</td><td>195</td><td>118760.374</td><td>29831.315</td></tr></table>"
      ],
      "text/plain": [
       "4×5 DataFrames.DataFrame\n",
       "│ Row │ Discipline │ Sex      │ n   │ mean      │ std     │\n",
       "├─────┼────────────┼──────────┼─────┼───────────┼─────────┤\n",
       "│ 1   │ \"A\"        │ \"Female\" │ 18  │ 89064.9   │ 21638.6 │\n",
       "│ 2   │ \"A\"        │ \"Male\"   │ 163 │ 110700.0  │ 30663.1 │\n",
       "│ 3   │ \"B\"        │ \"Female\" │ 21  │ 1.11235e5 │ 25367.2 │\n",
       "│ 4   │ \"B\"        │ \"Male\"   │ 195 │ 1.1876e5  │ 29831.3 │"
      ]
     },
     "execution_count": 119,
     "metadata": {},
     "output_type": "execute_result"
    }
   ],
   "source": [
    "by(SalariesFrame, [:Discipline, :Sex]) do df\n",
    "  DataFrame(\n",
    "    n = length(df[:Salary]),\n",
    "    mean = round(mean(df[:Salary]), 3),\n",
    "    std = round(std(df[:Salary]), 3)\n",
    "  )\n",
    "end"
   ]
  },
  {
   "cell_type": "code",
   "execution_count": 118,
   "metadata": {
    "collapsed": false
   },
   "outputs": [
    {
     "data": {
      "text/html": [
       "<table class=\"data-frame\"><tr><th></th><th>Rank</th><th>Discipline</th><th>Sex</th><th>n</th><th>mean</th><th>std</th></tr><tr><th>1</th><td>AsstProf</td><td>A</td><td>Female</td><td>6</td><td>72933.333</td><td>5463.21</td></tr><tr><th>2</th><td>AsstProf</td><td>A</td><td>Male</td><td>18</td><td>74269.611</td><td>4580.125</td></tr><tr><th>3</th><td>AsstProf</td><td>B</td><td>Female</td><td>5</td><td>84189.8</td><td>9792.119</td></tr><tr><th>4</th><td>AsstProf</td><td>B</td><td>Male</td><td>38</td><td>84647.079</td><td>6900.293</td></tr><tr><th>5</th><td>AssocProf</td><td>A</td><td>Female</td><td>4</td><td>72128.5</td><td>6402.716</td></tr><tr><th>6</th><td>AssocProf</td><td>A</td><td>Male</td><td>22</td><td>85048.864</td><td>10611.885</td></tr><tr><th>7</th><td>AssocProf</td><td>B</td><td>Female</td><td>6</td><td>99435.667</td><td>14086.476</td></tr><tr><th>8</th><td>AssocProf</td><td>B</td><td>Male</td><td>32</td><td>101621.531</td><td>9607.891</td></tr><tr><th>9</th><td>Prof</td><td>A</td><td>Female</td><td>8</td><td>109631.875</td><td>15094.589</td></tr><tr><th>10</th><td>Prof</td><td>A</td><td>Male</td><td>123</td><td>120619.26</td><td>28504.875</td></tr><tr><th>11</th><td>Prof</td><td>B</td><td>Female</td><td>10</td><td>131836.2</td><td>17504.274</td></tr><tr><th>12</th><td>Prof</td><td>B</td><td>Male</td><td>125</td><td>133518.36</td><td>26514.294</td></tr></table>"
      ],
      "text/plain": [
       "12×6 DataFrames.DataFrame\n",
       "│ Row │ Rank        │ Discipline │ Sex      │ n   │ mean      │ std     │\n",
       "├─────┼─────────────┼────────────┼──────────┼─────┼───────────┼─────────┤\n",
       "│ 1   │ \"AsstProf\"  │ \"A\"        │ \"Female\" │ 6   │ 72933.3   │ 5463.21 │\n",
       "│ 2   │ \"AsstProf\"  │ \"A\"        │ \"Male\"   │ 18  │ 74269.6   │ 4580.13 │\n",
       "│ 3   │ \"AsstProf\"  │ \"B\"        │ \"Female\" │ 5   │ 84189.8   │ 9792.12 │\n",
       "│ 4   │ \"AsstProf\"  │ \"B\"        │ \"Male\"   │ 38  │ 84647.1   │ 6900.29 │\n",
       "│ 5   │ \"AssocProf\" │ \"A\"        │ \"Female\" │ 4   │ 72128.5   │ 6402.72 │\n",
       "│ 6   │ \"AssocProf\" │ \"A\"        │ \"Male\"   │ 22  │ 85048.9   │ 10611.9 │\n",
       "│ 7   │ \"AssocProf\" │ \"B\"        │ \"Female\" │ 6   │ 99435.7   │ 14086.5 │\n",
       "│ 8   │ \"AssocProf\" │ \"B\"        │ \"Male\"   │ 32  │ 1.01622e5 │ 9607.89 │\n",
       "│ 9   │ \"Prof\"      │ \"A\"        │ \"Female\" │ 8   │ 1.09632e5 │ 15094.6 │\n",
       "│ 10  │ \"Prof\"      │ \"A\"        │ \"Male\"   │ 123 │ 1.20619e5 │ 28504.9 │\n",
       "│ 11  │ \"Prof\"      │ \"B\"        │ \"Female\" │ 10  │ 1.31836e5 │ 17504.3 │\n",
       "│ 12  │ \"Prof\"      │ \"B\"        │ \"Male\"   │ 125 │ 1.33518e5 │ 26514.3 │"
      ]
     },
     "execution_count": 118,
     "metadata": {},
     "output_type": "execute_result"
    }
   ],
   "source": [
    "by(SalariesFrame, [:Rank, :Discipline, :Sex]) do df\n",
    "  DataFrame(\n",
    "    n = length(df[:Salary]),\n",
    "    mean = round(mean(df[:Salary]), 3),\n",
    "    std = round(std(df[:Salary]), 3)\n",
    "  )\n",
    "end"
   ]
  },
  {
   "cell_type": "code",
   "execution_count": null,
   "metadata": {
    "collapsed": false
   },
   "outputs": [],
   "source": [
    "plot(SalariesFrame, x=\"Rank\", y=\"Salary\", Geom.boxplot)"
   ]
  },
  {
   "cell_type": "code",
   "execution_count": null,
   "metadata": {
    "collapsed": false
   },
   "outputs": [],
   "source": [
    "plot(SalariesFrame, x=\"Discipline\", y=\"Salary\", Geom.boxplot)"
   ]
  },
  {
   "cell_type": "code",
   "execution_count": null,
   "metadata": {
    "collapsed": false
   },
   "outputs": [],
   "source": [
    "plot(SalariesFrame, x=\"Sex\", y=\"Salary\", Geom.boxplot)"
   ]
  },
  {
   "cell_type": "code",
   "execution_count": null,
   "metadata": {
    "collapsed": false
   },
   "outputs": [],
   "source": [
    "hstack(\n",
    "  plot(SalariesFrame, x=\"Rank\", y=\"Salary\", Geom.boxplot),\n",
    "  plot(SalariesFrame, x=\"Discipline\", y=\"Salary\", Geom.boxplot),\n",
    "  plot(SalariesFrame, x=\"Sex\", y=\"Salary\", Geom.boxplot)\n",
    ")"
   ]
  },
  {
   "cell_type": "code",
   "execution_count": null,
   "metadata": {
    "collapsed": false
   },
   "outputs": [],
   "source": [
    "plot(SalariesFrame, x=\"YrsSincePhD\", y=\"Salary\")"
   ]
  },
  {
   "cell_type": "code",
   "execution_count": null,
   "metadata": {
    "collapsed": false
   },
   "outputs": [],
   "source": [
    "plot(SalariesFrame, x=\"YrsService\", y=\"Salary\")"
   ]
  },
  {
   "cell_type": "code",
   "execution_count": null,
   "metadata": {
    "collapsed": false
   },
   "outputs": [],
   "source": [
    "plot(SalariesFrame, x=\"YrsSincePhD\", y=\"Salary\", color=\"Rank\")"
   ]
  },
  {
   "cell_type": "code",
   "execution_count": null,
   "metadata": {
    "collapsed": false
   },
   "outputs": [],
   "source": [
    "plot(SalariesFrame, x=\"YrsService\", y=\"Salary\", color=\"Rank\")"
   ]
  },
  {
   "cell_type": "code",
   "execution_count": null,
   "metadata": {
    "collapsed": false
   },
   "outputs": [],
   "source": [
    "plot(SalariesFrame, x=\"YrsSincePhD\", y=\"Salary\", color=\"Discipline\")"
   ]
  },
  {
   "cell_type": "code",
   "execution_count": null,
   "metadata": {
    "collapsed": false
   },
   "outputs": [],
   "source": [
    "plot(SalariesFrame, x=\"YrsService\", y=\"Salary\", color=\"Discipline\")"
   ]
  },
  {
   "cell_type": "code",
   "execution_count": null,
   "metadata": {
    "collapsed": false
   },
   "outputs": [],
   "source": [
    "plot(SalariesFrame, x=\"YrsSincePhD\", y=\"Salary\", color=\"Sex\")"
   ]
  },
  {
   "cell_type": "code",
   "execution_count": null,
   "metadata": {
    "collapsed": false
   },
   "outputs": [],
   "source": [
    "plot(SalariesFrame, x=\"YrsService\", y=\"Salary\", color=\"Sex\")"
   ]
  },
  {
   "cell_type": "code",
   "execution_count": null,
   "metadata": {
    "collapsed": false
   },
   "outputs": [],
   "source": [
    "plot(SalariesFrame, x=\"Salary\", Geom.histogram(bincount=50, density=true))"
   ]
  },
  {
   "cell_type": "code",
   "execution_count": null,
   "metadata": {
    "collapsed": false
   },
   "outputs": [],
   "source": [
    "salaries = kde(SalariesFrame[:Salary])\n",
    "\n",
    "plot(\n",
    "  x=salaries.x,\n",
    "  y=salaries.density,\n",
    "  Geom.line,\n",
    "  Guide.xlabel(\"Salary\"),\n",
    "  Guide.ylabel(\"\"),\n",
    "  Guide.title(\"Kernel density estimator\")\n",
    ")"
   ]
  },
  {
   "cell_type": "code",
   "execution_count": null,
   "metadata": {
    "collapsed": false
   },
   "outputs": [],
   "source": [
    "plot(SalariesFrame, x=\"Salary\", color=\"Discipline\", Geom.histogram(bincount=50, density=true))"
   ]
  },
  {
   "cell_type": "code",
   "execution_count": null,
   "metadata": {
    "collapsed": false
   },
   "outputs": [],
   "source": [
    "plot(SalariesFrame, x=\"Salary\", color=\"Rank\", Geom.histogram(bincount=50, density=true))"
   ]
  },
  {
   "cell_type": "code",
   "execution_count": null,
   "metadata": {
    "collapsed": false
   },
   "outputs": [],
   "source": [
    "kdes = [kde(@where(SalariesFrame, :Rank .== l)[:Salary]) for l in levels(SalariesFrame[:Rank])]"
   ]
  },
  {
   "cell_type": "code",
   "execution_count": null,
   "metadata": {
    "collapsed": false
   },
   "outputs": [],
   "source": [
    "plot(\n",
    "layer(x=kdes[1].x, y=kdes[1].density, Geom.line, Theme(default_color=colorant\"blue\")),\n",
    "layer(x=kdes[2].x, y=kdes[2].density, Geom.line, Theme(default_color=colorant\"red\")),\n",
    "layer(x=kdes[3].x, y=kdes[3].density, Geom.line, Theme(default_color=colorant\"green\")),\n",
    "Guide.manual_color_key(\"Rank\", [\"AsstProf\", \"AssocProf\", \"Prof\"], [\"blue\", \"red\", \"green\"]),\n",
    "Guide.xlabel(\"Salary\"), Guide.ylabel(\"\"), Guide.title(\"Kernel density estimators\")\n",
    ")"
   ]
  },
  {
   "cell_type": "code",
   "execution_count": null,
   "metadata": {
    "collapsed": false
   },
   "outputs": [],
   "source": [
    "plot(z=SalariesFrame[:Salary], Geom.contour, Guide.colorkey(\"Elevation\"))"
   ]
  },
  {
   "cell_type": "code",
   "execution_count": null,
   "metadata": {
    "collapsed": false
   },
   "outputs": [],
   "source": [
    "plot(SalariesFrame, x=\"YrsService\", y=\"Salary\", Geom.histogram2d(xbincount=30, ybincount=30))"
   ]
  }
 ],
 "metadata": {
  "kernelspec": {
   "display_name": "Julia 0.4.5",
   "language": "julia",
   "name": "julia-0.4"
  },
  "language_info": {
   "file_extension": ".jl",
   "mimetype": "application/julia",
   "name": "julia",
   "version": "0.4.5"
  }
 },
 "nbformat": 4,
 "nbformat_minor": 0
}
