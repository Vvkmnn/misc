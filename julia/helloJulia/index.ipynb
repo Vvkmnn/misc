{
 "cells": [
  {
   "cell_type": "markdown",
   "metadata": {},
   "source": [
    "# Introduction to Julia"
   ]
  },
  {
   "cell_type": "markdown",
   "metadata": {},
   "source": [
    "This section provides a short tutorial to get started with Julia.\n",
    "- [Getting Started](01-Introduction/01-01-GettingStarted.ipynb)\n",
    "- [Basic Scalar Types](01-Introduction/01-02-BasicScalarTypes.ipynb)\n",
    "- [Strings](01-Introduction/01-03-Strings.ipynb)\n",
    "- [Tuples and Ranges](01-Introduction/01-04-TuplesAndRanges.ipynb)\n",
    "- [Arrays](01-Introduction/01-05-Arrays.ipynb)\n",
    "- [Dictionaries](01-Introduction/01-06-Dictionaries.ipynb)\n",
    "- [Functions](01-Introduction/01-07-Functions.ipynb)\n",
    "- [Composite Types](01-Introduction/01-08-CompositeTypes.ipynb)\n",
    "- [Methods](01-Introduction/01-09-Methods.ipynb)\n",
    "- [Filesystem and Data I/O](01-Introduction/01-10-FilesystemAndDataIO.ipynb)\n",
    "- [Plotting](01-Introduction/01-11-Plotting.ipynb)\n",
    "- [Modules and Packages](01-Introduction/01-12-ModulesAndPackages.ipynb)"
   ]
  },
  {
   "cell_type": "markdown",
   "metadata": {},
   "source": [
    "# DataFrames"
   ]
  },
  {
   "cell_type": "markdown",
   "metadata": {
    "collapsed": true
   },
   "source": [
    "- [Introduction to DataFrames](02-DataFrames/02-01-DataFramesBasics.ipynb)\n",
    "- [Example: Salaries for Professors](02-DataFrames/02-02-Example-SalariesForProfessors.ipynb)\n",
    "- [Exercise: Suicide Rates in Germany](02-DataFrames/02-03-Exercise-SuicideRates.ipynb)"
   ]
  },
  {
   "cell_type": "markdown",
   "metadata": {},
   "source": [
    "# HypothesisTests"
   ]
  },
  {
   "cell_type": "markdown",
   "metadata": {
    "collapsed": true
   },
   "source": [
    "- [Example: Salaries for Professors](03-HypothesisTests/03-01-Example-SalariesForProfessors.ipynb)\n",
    "- [Example: Sprint Times](03-HypothesisTests/03-02-Example-SprintTimes.ipynb)"
   ]
  },
  {
   "cell_type": "markdown",
   "metadata": {},
   "source": [
    "# GLM"
   ]
  },
  {
   "cell_type": "markdown",
   "metadata": {
    "collapsed": true
   },
   "source": [
    "- [Example: Salaries for Professors](04-GLM/04-01-Example-SalariesForProfessors.ipynb)\n",
    "- [Example: Crab Satellites](04-GLM/04-02-Example-CrabSatellites.ipynb)\n",
    "- [Exercise: Car Road Tests](04-GLM/04-03-Exercise-CarRoadTests.ipynb)"
   ]
  },
  {
   "cell_type": "markdown",
   "metadata": {},
   "source": [
    "# Optimization"
   ]
  },
  {
   "cell_type": "markdown",
   "metadata": {
    "collapsed": true
   },
   "source": [
    "To be written up soon."
   ]
  },
  {
   "cell_type": "markdown",
   "metadata": {},
   "source": [
    "# MCMC"
   ]
  },
  {
   "cell_type": "markdown",
   "metadata": {
    "collapsed": true
   },
   "source": [
    "- [Example: Sampling from a Normal distribution](06-MCMC/06-01-Example-Normal.ipynb)\n",
    "- [Example: Sampling from a Gamma distribution](06-MCMC/06-02-Example-Gamma.ipynb)\n",
    "- [Example: Sampling from a Poisson distribution](06-MCMC/06-03-Example-Poisson.ipynb)"
   ]
  },
  {
   "cell_type": "markdown",
   "metadata": {},
   "source": [
    "# Machine Learning"
   ]
  },
  {
   "cell_type": "markdown",
   "metadata": {
    "collapsed": true
   },
   "source": [
    "- [Example: Iris Flowers](07-MachineLearning/07-01-Example-IrisFlowers.ipynb)"
   ]
  }
 ],
 "metadata": {
  "kernelspec": {
   "display_name": "Julia 0.4.6",
   "language": "julia",
   "name": "julia-0.4"
  },
  "language_info": {
   "file_extension": ".jl",
   "mimetype": "application/julia",
   "name": "julia",
   "version": "0.4.6"
  }
 },
 "nbformat": 4,
 "nbformat_minor": 0
}
