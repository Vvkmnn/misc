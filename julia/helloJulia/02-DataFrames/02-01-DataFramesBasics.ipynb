{
 "cells": [
  {
   "cell_type": "markdown",
   "metadata": {},
   "source": [
    "# Introduction to DataFrames"
   ]
  },
  {
   "cell_type": "code",
   "execution_count": null,
   "metadata": {
    "collapsed": true
   },
   "outputs": [],
   "source": [
    "using DataArrays\n",
    "using DataFrames"
   ]
  },
  {
   "cell_type": "markdown",
   "metadata": {},
   "source": [
    "## Missing values"
   ]
  },
  {
   "cell_type": "markdown",
   "metadata": {},
   "source": [
    "* A missing value is represented by ``NA`` in Julia.\n",
    "* ``NA`` is not part of Base, it is provided by the ``DataArrays`` package.\n",
    "* ``NA`` poisons other values."
   ]
  },
  {
   "cell_type": "code",
   "execution_count": null,
   "metadata": {
    "collapsed": false
   },
   "outputs": [],
   "source": [
    "# NA poisons other values\n",
    "1+NA"
   ]
  },
  {
   "cell_type": "code",
   "execution_count": null,
   "metadata": {
    "collapsed": false
   },
   "outputs": [],
   "source": [
    "# Check if the evaluation of an expression results in NA\n",
    "isna(1+NA)"
   ]
  },
  {
   "cell_type": "code",
   "execution_count": null,
   "metadata": {
    "collapsed": false
   },
   "outputs": [],
   "source": [
    "# Note the difference between NaN and NA\n",
    "(isa(NaN, Float64), isa(NA, Float64))"
   ]
  },
  {
   "cell_type": "markdown",
   "metadata": {},
   "source": [
    "## DataArrays"
   ]
  },
  {
   "cell_type": "markdown",
   "metadata": {
    "collapsed": false
   },
   "source": [
    "* ``DataArray``'s are used for representing arrays that contain missing values\n",
    "* ``DataArray{T}`` allows storing ``T`` or ``NA``\n",
    "* In other words, ``DataArray{T}`` adds ``NA``'s to ``Array{T}``\n",
    "* ``PooledDataArray{T}`` is used for storing data efficiently.\n",
    "* ``PooledDataArray{T}`` compresses ``DataArray{T}``."
   ]
  },
  {
   "cell_type": "markdown",
   "metadata": {},
   "source": [
    "### Constructing DataArrays"
   ]
  },
  {
   "cell_type": "code",
   "execution_count": null,
   "metadata": {
    "collapsed": false
   },
   "outputs": [],
   "source": [
    "# Call the DataArray() constructor by passing a Vector to it\n",
    "DataArray([0.1, 0.5, -2.4])"
   ]
  },
  {
   "cell_type": "code",
   "execution_count": null,
   "metadata": {
    "collapsed": false
   },
   "outputs": [],
   "source": [
    "# Construct a DataArray by calling the @data() macro with a Vector input argument\n",
    "@data([0.1, 0.5, -2.4])"
   ]
  },
  {
   "cell_type": "code",
   "execution_count": null,
   "metadata": {
    "collapsed": false
   },
   "outputs": [],
   "source": [
    "# Convert Vector to DataArray\n",
    "convert(DataArray, [0.1, 0.5, -2.4])"
   ]
  },
  {
   "cell_type": "code",
   "execution_count": null,
   "metadata": {
    "collapsed": false
   },
   "outputs": [],
   "source": [
    "# It is not possible to call DataArray() with NA in its input argument\n",
    "DataArray([0.1, NA, -2.4])"
   ]
  },
  {
   "cell_type": "code",
   "execution_count": null,
   "metadata": {
    "collapsed": false
   },
   "outputs": [],
   "source": [
    "# However, it is possible to pass NA to the @data() macro\n",
    "@data([0.1, NA, -2.4])"
   ]
  },
  {
   "cell_type": "code",
   "execution_count": null,
   "metadata": {
    "collapsed": false
   },
   "outputs": [],
   "source": [
    "# The DataArray() constructor can be called with a Matrix input argument\n",
    "DataArray([0.4 1.2; 3.5 7.2])"
   ]
  },
  {
   "cell_type": "code",
   "execution_count": null,
   "metadata": {
    "collapsed": false
   },
   "outputs": [],
   "source": [
    "# The @data() macro can also be called with a Matrix input argument\n",
    "@data([0.4 1.2; 3.5 7.2])"
   ]
  },
  {
   "cell_type": "code",
   "execution_count": null,
   "metadata": {
    "collapsed": false
   },
   "outputs": [],
   "source": [
    "# Convert a Matrix to DataArray\n",
    "convert(DataArray, [0.4 1.2; 3.5 7.2])"
   ]
  },
  {
   "cell_type": "markdown",
   "metadata": {},
   "source": [
    "### Numerical computing with DataArrays"
   ]
  },
  {
   "cell_type": "code",
   "execution_count": null,
   "metadata": {
    "collapsed": false
   },
   "outputs": [],
   "source": [
    "# Numerical computing can be done with data vectors\n",
    "x = @data([0.1, NA, -2.4])\n",
    "y = @data([-9.9, 0.5, 6.7])\n",
    "x+y"
   ]
  },
  {
   "cell_type": "code",
   "execution_count": null,
   "metadata": {
    "collapsed": false
   },
   "outputs": [],
   "source": [
    "# To remove missing values (NA), call dropna()\n",
    "x = @data([0.1, NA, -2.4])\n",
    "dropna(x)"
   ]
  },
  {
   "cell_type": "code",
   "execution_count": null,
   "metadata": {
    "collapsed": false
   },
   "outputs": [],
   "source": [
    "# Numerical computing can be done with data matrices and data vectors\n",
    "A = @data([0.4 1.2 4.4; NA 7.2 3.9; 5.1 1.8 4.5])\n",
    "y = @data([-9.9, 0.5, 6.7])\n",
    "A*y"
   ]
  },
  {
   "cell_type": "markdown",
   "metadata": {},
   "source": [
    "## DataFrames"
   ]
  },
  {
   "cell_type": "markdown",
   "metadata": {
    "collapsed": true
   },
   "source": [
    "* ``DataFrame``'s are used for representing data tables.\n",
    "* A ``DataFrame`` is a list of ``DataArray``'s.\n",
    "* So every ``DataArray`` of a  ``DataFrame`` represents a column of the corresponding data table.\n",
    "* ``DataFrame``'s accommodate heterogeneous data that might contain missing values.\n",
    "* Every column (``DataArray``) of a ``DataFrame`` has its own type."
   ]
  },
  {
   "cell_type": "markdown",
   "metadata": {},
   "source": [
    "### Example 02-01-01: NBA champions"
   ]
  },
  {
   "cell_type": "markdown",
   "metadata": {},
   "source": [
    "#### Constructing DataFrames"
   ]
  },
  {
   "cell_type": "code",
   "execution_count": null,
   "metadata": {
    "collapsed": false
   },
   "outputs": [],
   "source": [
    "# Call the DataFrame() constructor with keyword arguments (columns) of type Vector\n",
    "DataFrame(\n",
    "  player = [\"Larry Bird\", \"Magic Johnson\", \"Michael Jordan\", \"Scottie Pippen\"],\n",
    "  champions = [3, 5, 6, 6]\n",
    ")"
   ]
  },
  {
   "cell_type": "code",
   "execution_count": null,
   "metadata": {
    "collapsed": false
   },
   "outputs": [],
   "source": [
    "# Start with an empty DataFrame and populate it\n",
    "ChampionsFrame = DataFrame()\n",
    "ChampionsFrame[:player] = [\"Larry Bird\", \"Magic Johnson\", \"Michael Jordan\", \"Scottie Pippen\"]\n",
    "ChampionsFrame[:champions] = [3, 5, 6, 6]\n",
    "ChampionsFrame"
   ]
  },
  {
   "cell_type": "code",
   "execution_count": null,
   "metadata": {
    "collapsed": false
   },
   "outputs": [],
   "source": [
    "# Provide CSV-like tabular data to construct a new DataFrame\n",
    "csv\"\"\"\n",
    "  player,champions\n",
    "  Larry Bird,3\n",
    "  Magic Johnson,5\n",
    "  Michael Jordan,6\n",
    "  Scottie Pippen,6\n",
    "\"\"\""
   ]
  },
  {
   "cell_type": "code",
   "execution_count": null,
   "metadata": {
    "collapsed": false
   },
   "outputs": [],
   "source": [
    "# Call the DataFrame() constructor with keyword arguments (columns) of type DataArray\n",
    "player = @data([\"Larry Bird\", \"Magic Johnson\", \"Michael Jordan\", \"Scottie Pippen\"])\n",
    "champions = @data([3, 5, 6, 6])\n",
    "ChampionsFrame = DataFrame(player=player, champions=champions)"
   ]
  },
  {
   "cell_type": "code",
   "execution_count": null,
   "metadata": {
    "collapsed": false
   },
   "outputs": [],
   "source": [
    "# Construct a DataFrame by joining two existing DataFrames\n",
    "height = [2.06, 2.06, 1.98, 2.03]\n",
    "HeightsFrame = DataFrame(player=player, height=height)\n",
    "join(ChampionsFrame, HeightsFrame, on = :player)"
   ]
  },
  {
   "cell_type": "markdown",
   "metadata": {},
   "source": [
    "#### Quering basic information about DataFrames"
   ]
  },
  {
   "cell_type": "code",
   "execution_count": null,
   "metadata": {
    "collapsed": false
   },
   "outputs": [],
   "source": [
    "# Get number of rows of a DataFrame\n",
    "size(ChampionsFrame, 1)"
   ]
  },
  {
   "cell_type": "code",
   "execution_count": null,
   "metadata": {
    "collapsed": false
   },
   "outputs": [],
   "source": [
    "# Get number of columns of a DataFrame\n",
    "size(ChampionsFrame, 2)"
   ]
  },
  {
   "cell_type": "code",
   "execution_count": null,
   "metadata": {
    "collapsed": false
   },
   "outputs": [],
   "source": [
    "# Get a numeric summary of a DataFrame\n",
    "describe(ChampionsFrame)"
   ]
  },
  {
   "cell_type": "markdown",
   "metadata": {},
   "source": [
    "#### Indexing DataFrames"
   ]
  },
  {
   "cell_type": "code",
   "execution_count": null,
   "metadata": {
    "collapsed": false
   },
   "outputs": [],
   "source": [
    "# Index DataFrame by column name to get a specific column\n",
    "ChampionsFrame[:player]"
   ]
  },
  {
   "cell_type": "code",
   "execution_count": null,
   "metadata": {
    "collapsed": false
   },
   "outputs": [],
   "source": [
    "# Index DataFrame by row numbers to get specific rows\n",
    "ChampionsFrame[2:3, :]"
   ]
  }
 ],
 "metadata": {
  "kernelspec": {
   "display_name": "Julia 0.4.5",
   "language": "julia",
   "name": "julia-0.4"
  },
  "language_info": {
   "file_extension": ".jl",
   "mimetype": "application/julia",
   "name": "julia",
   "version": "0.4.5"
  }
 },
 "nbformat": 4,
 "nbformat_minor": 0
}
