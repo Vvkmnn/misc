{
 "cells": [
  {
   "cell_type": "markdown",
   "metadata": {},
   "source": [
    "# Functions"
   ]
  },
  {
   "cell_type": "markdown",
   "metadata": {},
   "source": [
    "As a working example, the variance $\\hat{\\sigma}^2$ of $n$ samples $x_1,x_2,\\dots,x_n$, will be computed\n",
    "$$\n",
    "\\hat{\\sigma}^2=\n",
    "\\frac{1}{n-1}\\sum_{i=1}^n (x_i-\\bar{x})^2=\n",
    "\\frac{1}{n-1}\\left(\n",
    "\\sum_{i=1}^n x_i^2-\\frac{\\left(\\sum_{i=1}^n x_i\\right)^2}{n}\n",
    "\\right)\n",
    "$$"
   ]
  },
  {
   "cell_type": "markdown",
   "metadata": {},
   "source": [
    "## Basic syntax for functions"
   ]
  },
  {
   "cell_type": "code",
   "execution_count": null,
   "metadata": {
    "collapsed": false,
    "scrolled": true
   },
   "outputs": [],
   "source": [
    "# Compute the variance of two floating point numbers\n",
    "function variance(x::Float64, y::Float64)\n",
    "  return x^2+y^2-(x+y)^2/2\n",
    "end"
   ]
  },
  {
   "cell_type": "code",
   "execution_count": null,
   "metadata": {
    "collapsed": false
   },
   "outputs": [],
   "source": [
    "# The dot implies a floating point number\n",
    "# Without the dots, the function call will fail due to input arguments of non-matching type\n",
    "# In other words, the numbers would be interpreted as integers without dots\n",
    "variance(2., 5.)"
   ]
  },
  {
   "cell_type": "code",
   "execution_count": null,
   "metadata": {
    "collapsed": false,
    "scrolled": true
   },
   "outputs": [],
   "source": [
    "# Compute the variance of two input arguments of any type\n",
    "function variance(x, y)\n",
    "  return x^2+y^2-(x+y)^2/2\n",
    "end"
   ]
  },
  {
   "cell_type": "code",
   "execution_count": null,
   "metadata": {
    "collapsed": false
   },
   "outputs": [],
   "source": [
    "# Now the dots are not necessary\n",
    "variance(2, 5)"
   ]
  },
  {
   "cell_type": "code",
   "execution_count": null,
   "metadata": {
    "collapsed": false,
    "scrolled": true
   },
   "outputs": [],
   "source": [
    "# The output of variance() is the same as the output of the built-in var() function\n",
    "var([2, 5])"
   ]
  },
  {
   "cell_type": "code",
   "execution_count": null,
   "metadata": {
    "collapsed": false,
    "scrolled": true
   },
   "outputs": [],
   "source": [
    "# More compact syntax for defining variance()\n",
    "variance(x, y) = x^2+y^2-(x+y)^2/2"
   ]
  },
  {
   "cell_type": "code",
   "execution_count": null,
   "metadata": {
    "collapsed": false
   },
   "outputs": [],
   "source": [
    "variance(2, 5)"
   ]
  },
  {
   "cell_type": "code",
   "execution_count": null,
   "metadata": {
    "collapsed": false,
    "scrolled": true
   },
   "outputs": [],
   "source": [
    "# Compute the variance of an array of values\n",
    "function variance(x)\n",
    "    n = length(x)\n",
    "    \n",
    "    (dot(x, x)-abs2(sum(x))/n)/(n-1)\n",
    "end"
   ]
  },
  {
   "cell_type": "code",
   "execution_count": null,
   "metadata": {
    "collapsed": false
   },
   "outputs": [],
   "source": [
    "variance([2, 5, 8, 6])"
   ]
  },
  {
   "cell_type": "markdown",
   "metadata": {
    "collapsed": true
   },
   "source": [
    "## Multiple return values"
   ]
  },
  {
   "cell_type": "code",
   "execution_count": null,
   "metadata": {
    "collapsed": false,
    "scrolled": true
   },
   "outputs": [],
   "source": [
    "# variance() returns two values, one by dividing by n-1 and one by dividing by n\n",
    "function variance(x)\n",
    "  n = length(x)\n",
    "  sumofsq = dot(x, x)\n",
    "  sqofsum = abs2(sum(x))/n\n",
    "    \n",
    "  return (sumofsq-sqofsum)/(n-1), (sumofsq-sqofsum)/n\n",
    "end"
   ]
  },
  {
   "cell_type": "code",
   "execution_count": null,
   "metadata": {
    "collapsed": false
   },
   "outputs": [],
   "source": [
    "variance([2, 5, 8, 6])"
   ]
  },
  {
   "cell_type": "markdown",
   "metadata": {},
   "source": [
    "## Optional arguments"
   ]
  },
  {
   "cell_type": "code",
   "execution_count": null,
   "metadata": {
    "collapsed": false,
    "scrolled": true
   },
   "outputs": [],
   "source": [
    "# A second input argument n is passed to variance()\n",
    "# This way, variance() does not need to calculate the length of x anymore\n",
    "variance(x, n) = (dot(x, x)-abs2(sum(x))/n)/(n-1)"
   ]
  },
  {
   "cell_type": "code",
   "execution_count": null,
   "metadata": {
    "collapsed": false
   },
   "outputs": [],
   "source": [
    "variance([2, 5, 8, 6], 4)"
   ]
  },
  {
   "cell_type": "code",
   "execution_count": null,
   "metadata": {
    "collapsed": false,
    "scrolled": true
   },
   "outputs": [],
   "source": [
    "# n has a sensible default value, the length of x\n",
    "# n has been turned into an optional argument by providing a default value for it\n",
    "variance(x, n=length(x)) = (dot(x, x)-abs2(sum(x))/n)/(n-1)"
   ]
  },
  {
   "cell_type": "code",
   "execution_count": null,
   "metadata": {
    "collapsed": false
   },
   "outputs": [],
   "source": [
    "variance([2, 5, 8, 6]), variance([2, 5, 8, 6], 4)"
   ]
  },
  {
   "cell_type": "markdown",
   "metadata": {},
   "source": [
    "## Keyword arguments"
   ]
  },
  {
   "cell_type": "code",
   "execution_count": null,
   "metadata": {
    "collapsed": false,
    "scrolled": true
   },
   "outputs": [],
   "source": [
    "# Alternatively, n can be set to be a keyword argument\n",
    "# n still has a default value, but now the argument is referred to by its name\n",
    "variance(x; n=length(x)) = (dot(x, x)-abs2(sum(x))/n)/(n-1)"
   ]
  },
  {
   "cell_type": "code",
   "execution_count": null,
   "metadata": {
    "collapsed": false
   },
   "outputs": [],
   "source": [
    "variance([2, 5, 8, 6]), variance([2, 5, 8, 6], n=4)"
   ]
  },
  {
   "cell_type": "markdown",
   "metadata": {
    "collapsed": true
   },
   "source": [
    "## Variable number of arguments"
   ]
  },
  {
   "cell_type": "code",
   "execution_count": null,
   "metadata": {
    "collapsed": false,
    "scrolled": true
   },
   "outputs": [],
   "source": [
    "# The three-dot syntax allows to pass a variable number of arguments\n",
    "function variance(x...)\n",
    "    n = length(x)\n",
    "    \n",
    "    (sum([v^2 for v in x])-abs2(sum(x))/n)/(n-1)\n",
    "end"
   ]
  },
  {
   "cell_type": "code",
   "execution_count": null,
   "metadata": {
    "collapsed": false
   },
   "outputs": [],
   "source": [
    "# Four input arguments (samples) are passed to variance() instead of a single array (dataset)\n",
    "variance(2, 5, 8, 6)"
   ]
  },
  {
   "cell_type": "markdown",
   "metadata": {},
   "source": [
    "## Anonymous functions and map"
   ]
  },
  {
   "cell_type": "code",
   "execution_count": null,
   "metadata": {
    "collapsed": false,
    "scrolled": true
   },
   "outputs": [],
   "source": [
    "# Consider a cell array consisting of two datasets\n",
    "# The variance of each dataset will be computed\n",
    "datasets = Any[[2, 5, 8, 6], [9, 8, 2, 5]]"
   ]
  },
  {
   "cell_type": "code",
   "execution_count": null,
   "metadata": {
    "collapsed": false
   },
   "outputs": [],
   "source": [
    "# The variance() function is defined as before \n",
    "variance(x, n=length(x)) = (dot(x, x)-abs2(sum(x))/n)/(n-1)"
   ]
  },
  {
   "cell_type": "code",
   "execution_count": null,
   "metadata": {
    "collapsed": false
   },
   "outputs": [],
   "source": [
    "# An anonymous function is also defined, which takes an array of data and returns its variance\n",
    "# map() applies this anonymous functions to each element (dataset) in the datasets cell array\n",
    "map(data -> variance(data), datasets)"
   ]
  }
 ],
 "metadata": {
  "kernelspec": {
   "display_name": "Julia 0.4.5",
   "language": "julia",
   "name": "julia-0.4"
  },
  "language_info": {
   "file_extension": ".jl",
   "mimetype": "application/julia",
   "name": "julia",
   "version": "0.4.5"
  }
 },
 "nbformat": 4,
 "nbformat_minor": 0
}
