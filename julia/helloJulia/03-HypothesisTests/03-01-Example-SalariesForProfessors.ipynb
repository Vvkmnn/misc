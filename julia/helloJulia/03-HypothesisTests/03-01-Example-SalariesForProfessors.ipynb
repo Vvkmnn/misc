{
 "cells": [
  {
   "cell_type": "markdown",
   "metadata": {},
   "source": [
    "# Example 03-01: Salaries for Professors"
   ]
  },
  {
   "cell_type": "code",
   "execution_count": null,
   "metadata": {
    "collapsed": false
   },
   "outputs": [],
   "source": [
    "using DataFramesMeta\n",
    "using HypothesisTests\n",
    "using RDatasets"
   ]
  },
  {
   "cell_type": "markdown",
   "metadata": {},
   "source": [
    "## One-sample t-test"
   ]
  },
  {
   "cell_type": "code",
   "execution_count": null,
   "metadata": {
    "collapsed": false
   },
   "outputs": [],
   "source": [
    "SalariesFrame = dataset(\"car\", \"Salaries\")"
   ]
  },
  {
   "cell_type": "code",
   "execution_count": null,
   "metadata": {
    "collapsed": false
   },
   "outputs": [],
   "source": [
    "describe(SalariesFrame[:Salary])"
   ]
  },
  {
   "cell_type": "code",
   "execution_count": null,
   "metadata": {
    "collapsed": false
   },
   "outputs": [],
   "source": [
    "ttest = OneSampleTTest(SalariesFrame[:Salary], 100000)"
   ]
  },
  {
   "cell_type": "code",
   "execution_count": null,
   "metadata": {
    "collapsed": false
   },
   "outputs": [],
   "source": [
    "pvalue(ttest)"
   ]
  },
  {
   "cell_type": "code",
   "execution_count": null,
   "metadata": {
    "collapsed": false
   },
   "outputs": [],
   "source": [
    "ci(ttest)"
   ]
  },
  {
   "cell_type": "code",
   "execution_count": null,
   "metadata": {
    "collapsed": false
   },
   "outputs": [],
   "source": [
    "ci(ttest, 0.01)"
   ]
  },
  {
   "cell_type": "markdown",
   "metadata": {
    "collapsed": true
   },
   "source": [
    "## Two-sample t-test (of unpaired data)"
   ]
  },
  {
   "cell_type": "code",
   "execution_count": null,
   "metadata": {
    "collapsed": false
   },
   "outputs": [],
   "source": [
    "by(SalariesFrame, :Sex) do df\n",
    "  DataFrame(\n",
    "    n = length(df[:Salary]),\n",
    "    mean = round(mean(df[:Salary]), 3),\n",
    "    std = round(std(df[:Salary]), 3)\n",
    "  )\n",
    "end"
   ]
  },
  {
   "cell_type": "code",
   "execution_count": null,
   "metadata": {
    "collapsed": false
   },
   "outputs": [],
   "source": [
    "by(SalariesFrame, [:Rank, :Sex]) do df\n",
    "  DataFrame(\n",
    "    n = length(df[:Salary]),\n",
    "    mean = round(mean(df[:Salary]), 3),\n",
    "    std = round(std(df[:Salary]), 3)\n",
    "  )\n",
    "end"
   ]
  },
  {
   "cell_type": "code",
   "execution_count": null,
   "metadata": {
    "collapsed": false
   },
   "outputs": [],
   "source": [
    "msalaries = @where(SalariesFrame, :Sex .== \"Male\")[:Salary];\n",
    "fsalaries = @where(SalariesFrame, :Sex .== \"Female\")[:Salary];"
   ]
  },
  {
   "cell_type": "code",
   "execution_count": null,
   "metadata": {
    "collapsed": false
   },
   "outputs": [],
   "source": [
    "EqualVarianceTTest(msalaries, fsalaries)"
   ]
  },
  {
   "cell_type": "code",
   "execution_count": null,
   "metadata": {
    "collapsed": false
   },
   "outputs": [],
   "source": [
    "UnequalVarianceTTest(msalaries, fsalaries)"
   ]
  },
  {
   "cell_type": "code",
   "execution_count": null,
   "metadata": {
    "collapsed": false
   },
   "outputs": [],
   "source": [
    "EqualVarianceTTest(\n",
    "  @where(SalariesFrame, :Sex .== \"Male\", :Rank .== \"AsstProf\")[:Salary],\n",
    "  @where(SalariesFrame, :Sex .== \"Female\", :Rank .== \"AsstProf\")[:Salary]\n",
    ")"
   ]
  },
  {
   "cell_type": "code",
   "execution_count": null,
   "metadata": {
    "collapsed": false
   },
   "outputs": [],
   "source": [
    "EqualVarianceTTest(\n",
    "  @where(SalariesFrame, :Sex .== \"Male\", :Rank .== \"AssocProf\")[:Salary],\n",
    "  @where(SalariesFrame, :Sex .== \"Female\", :Rank .== \"AssocProf\")[:Salary]\n",
    ")"
   ]
  },
  {
   "cell_type": "code",
   "execution_count": null,
   "metadata": {
    "collapsed": false
   },
   "outputs": [],
   "source": [
    "EqualVarianceTTest(\n",
    "  @where(SalariesFrame, :Sex .== \"Male\", :Rank .== \"Prof\")[:Salary],\n",
    "  @where(SalariesFrame, :Sex .== \"Female\", :Rank .== \"Prof\")[:Salary]\n",
    ")"
   ]
  }
 ],
 "metadata": {
  "kernelspec": {
   "display_name": "Julia 0.4.5",
   "language": "julia",
   "name": "julia-0.4"
  },
  "language_info": {
   "file_extension": ".jl",
   "mimetype": "application/julia",
   "name": "julia",
   "version": "0.4.5"
  }
 },
 "nbformat": 4,
 "nbformat_minor": 0
}
