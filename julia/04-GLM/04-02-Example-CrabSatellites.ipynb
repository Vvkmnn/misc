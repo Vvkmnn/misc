{
 "cells": [
  {
   "cell_type": "markdown",
   "metadata": {},
   "source": [
    "# Example 04-02: Crab Satellites"
   ]
  },
  {
   "cell_type": "markdown",
   "metadata": {},
   "source": [
    "[External link to example](https://onlinecourses.science.psu.edu/stat504/book/export/html/169)"
   ]
  },
  {
   "cell_type": "code",
   "execution_count": null,
   "metadata": {
    "collapsed": false
   },
   "outputs": [],
   "source": [
    "using DataFrames\n",
    "using Gadfly\n",
    "using GLM"
   ]
  },
  {
   "cell_type": "code",
   "execution_count": null,
   "metadata": {
    "collapsed": false
   },
   "outputs": [],
   "source": [
    "pwd()"
   ]
  },
  {
   "cell_type": "code",
   "execution_count": null,
   "metadata": {
    "collapsed": false
   },
   "outputs": [],
   "source": [
    "CrabFrame = readtable(\"crab.csv\", header=false, names=[:C, :S, :W, :Wt, :Sa])"
   ]
  },
  {
   "cell_type": "code",
   "execution_count": null,
   "metadata": {
    "collapsed": false
   },
   "outputs": [],
   "source": [
    "model01 = glm(Sa ~ W, CrabFrame, Poisson())"
   ]
  },
  {
   "cell_type": "code",
   "execution_count": null,
   "metadata": {
    "collapsed": false
   },
   "outputs": [],
   "source": [
    "model01coef = coef(model01)"
   ]
  },
  {
   "cell_type": "code",
   "execution_count": null,
   "metadata": {
    "collapsed": false
   },
   "outputs": [],
   "source": [
    "confint(model01)"
   ]
  },
  {
   "cell_type": "code",
   "execution_count": null,
   "metadata": {
    "collapsed": false
   },
   "outputs": [],
   "source": [
    "x = collect(linspace(\n",
    "  minimum(convert(Vector{Float64}, CrabFrame[:W])),\n",
    "  maximum(convert(Vector{Float64}, CrabFrame[:W])),\n",
    "  1000\n",
    "))\n",
    "\n",
    "plot(\n",
    "  layer(x=x, y=exp(model01coef[1]+model01coef[2]*x), Geom.line, Theme(default_color=colorant\"red\")),\n",
    "  layer(CrabFrame, x=\"W\", y=\"Sa\", Geom.point),\n",
    "  Guide.xlabel(\"W (carapace width)\"),\n",
    "  Guide.ylabel(\"Sa (number of satellites)\")\n",
    ")"
   ]
  },
  {
   "cell_type": "code",
   "execution_count": null,
   "metadata": {
    "collapsed": false
   },
   "outputs": [],
   "source": [
    "model01pred = predict(model01)"
   ]
  },
  {
   "cell_type": "code",
   "execution_count": null,
   "metadata": {
    "collapsed": false
   },
   "outputs": [],
   "source": [
    "model01cost = (model01pred-CrabFrame[:Sa]).^2\n",
    "\n",
    "plot(\n",
    "  x=collect(1:length(model01cost)),\n",
    "  y=model01cost,\n",
    "  Guide.xlabel(\"\"),\n",
    "  Guide.ylabel(\"Cost\")\n",
    ")"
   ]
  },
  {
   "cell_type": "code",
   "execution_count": null,
   "metadata": {
    "collapsed": false
   },
   "outputs": [],
   "source": [
    "deviance(model01)"
   ]
  },
  {
   "cell_type": "code",
   "execution_count": null,
   "metadata": {
    "collapsed": false
   },
   "outputs": [],
   "source": [
    "aic(model01)"
   ]
  }
 ],
 "metadata": {
  "kernelspec": {
   "display_name": "Julia 0.4.6",
   "language": "julia",
   "name": "julia-0.4"
  },
  "language_info": {
   "file_extension": ".jl",
   "mimetype": "application/julia",
   "name": "julia",
   "version": "0.4.6"
  }
 },
 "nbformat": 4,
 "nbformat_minor": 0
}
