{
 "cells": [
  {
   "cell_type": "markdown",
   "metadata": {},
   "source": [
    "# Why Julia"
   ]
  },
  {
   "cell_type": "markdown",
   "metadata": {},
   "source": [
    "Julia is a valuable programming language for a number of reasons:\n",
    "- ease of programming and high performance,\n",
    "- no need to write computationally intensive parts of code in another lower-level language,\n",
    "- quick turnaround from idea or model to their prototyping, \n",
    "- integration of mature C and Fortran libraries for linear algebra, signal processing and random number generation,\n",
    "- idiomatic parallel computing paradigm that facilitates parallel development and execution,\n",
    "- interfaces for MPI, OpenCL, CUDA, and GPU libraries,\n",
    "- suitable for scientific computing more generally,\n",
    "- metaprogramming capabilities,\n",
    "- user-defined types,\n",
    "- multiple dispatch,\n",
    "- type inference,\n",
    "- development tools consisting of debugger, profiler and help system,\n",
    "- built-in foreign function interface for C,\n",
    "- bindings for a range of mature C libraries such as GSL, NLopt and Sundials,\n",
    "- integration with other languages such as Java, MATLAB, Mathematica, Python and R,\n",
    "- built-in git-based package manager,\n",
    "- open source (MIT licensed)."
   ]
  },
  {
   "cell_type": "markdown",
   "metadata": {},
   "source": [
    "# Environments for Coding in Julia"
   ]
  },
  {
   "cell_type": "markdown",
   "metadata": {},
   "source": [
    "There are various environments for coding in Julia:\n",
    "- [Juno](http://junolab.org/), a Julia IDE built upon the [Atom](https://atom.io/) editor,\n",
    "- [IJulia](https://github.com/JuliaLang/IJulia.jl), a Julia backend based on the [Jupyter Notebook](http://jupyter.org/),\n",
    "- [JuliaDT](https://github.com/JuliaComputing/JuliaDT), a Julia development toolkit for [Eclipse](https://eclipse.org/),\n",
    "- [Sublime-IJulia](https://github.com/quinnj/Sublime-IJulia), a Julia plugin for [Sublime](https://www.sublimetext.com/),\n",
    "- [emacs-ess](https://github.com/emacs-ess/ESS/wiki/Julia), [ESS](http://ess.r-project.org/) support Julia in [emacs](https://www.gnu.org/software/emacs/),\n",
    "- the Julia REPL, a shell-alike interactive environment,\n",
    "- the command line (`julia script.jl [arg1 arg2...]`)."
   ]
  }
 ],
 "metadata": {
  "kernelspec": {
   "display_name": "Julia 0.4.5",
   "language": "julia",
   "name": "julia-0.4"
  },
  "language_info": {
   "file_extension": ".jl",
   "mimetype": "application/julia",
   "name": "julia",
   "version": "0.4.5"
  }
 },
 "nbformat": 4,
 "nbformat_minor": 0
}
