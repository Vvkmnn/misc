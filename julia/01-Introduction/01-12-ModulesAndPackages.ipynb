{
 "cells": [
  {
   "cell_type": "markdown",
   "metadata": {},
   "source": [
    "# Modules and Packages"
   ]
  },
  {
   "cell_type": "markdown",
   "metadata": {
    "collapsed": false
   },
   "source": [
    "## Including code from a file"
   ]
  },
  {
   "cell_type": "markdown",
   "metadata": {
    "collapsed": true
   },
   "source": [
    "It is possible to invoke Julia code from a file `myfile.jl` by calling ``include(\"myfile.jl\")``."
   ]
  },
  {
   "cell_type": "markdown",
   "metadata": {},
   "source": [
    "## Creating a module"
   ]
  },
  {
   "cell_type": "markdown",
   "metadata": {},
   "source": [
    "Furthermore, it is possible to create modules that export desired functionality. For example, a module called ``Shapes`` will be created, which defines some shape types and methods for shapes."
   ]
  },
  {
   "cell_type": "code",
   "execution_count": null,
   "metadata": {
    "collapsed": false
   },
   "outputs": [],
   "source": [
    "# Define a module called Shapes\n",
    "module Shapes\n",
    "\n",
    "# Export some functionality (types and methods)\n",
    "export Point, Circle, Rectangle, area\n",
    "\n",
    "# Define shape-related types\n",
    "abstract Shape\n",
    "\n",
    "abstract ConicSection <: Shape\n",
    "\n",
    "type Point{T<:Real}\n",
    "  x::T\n",
    "  y::T\n",
    "end\n",
    "\n",
    "type Circle{T<:Real} <: ConicSection\n",
    "  centre::Point{T} # Circle center is of type Point{T}\n",
    "  radius::T # Circle radius is of type T\n",
    "end\n",
    "\n",
    "type Rectangle{T<:Real} <: Shape\n",
    "  ll::Point{T} # Lower left vertex of rectangle is of type Point{T}\n",
    "  ur::Point{T} # Upper right vertex of rectangle is of type Point{T}\n",
    "end\n",
    "\n",
    "# Define shape-related methods\n",
    "area(shape::Circle) = pi*abs2(shape.radius)\n",
    "\n",
    "area(shape::Rectangle) = abs(shape.ll.y-shape.ur.y)*abs(shape.ll.x-shape.ur.x)\n",
    "\n",
    "resize(shape::Circle, c::Real) = Circle(shape.centre, c*shape.radius)\n",
    "\n",
    "end"
   ]
  },
  {
   "cell_type": "code",
   "execution_count": null,
   "metadata": {
    "collapsed": false
   },
   "outputs": [],
   "source": [
    "# Load Shapes module\n",
    "using Shapes"
   ]
  },
  {
   "cell_type": "code",
   "execution_count": null,
   "metadata": {
    "collapsed": false
   },
   "outputs": [],
   "source": [
    "# Create a circle of center (0, 0) and radius 2\n",
    "circle = Circle(Point(0.0, 0.0), 2.0)"
   ]
  },
  {
   "cell_type": "code",
   "execution_count": null,
   "metadata": {
    "collapsed": false
   },
   "outputs": [],
   "source": [
    "# Compute the area of the circle using area() method from Shapes\n",
    "area(circle)"
   ]
  },
  {
   "cell_type": "code",
   "execution_count": null,
   "metadata": {
    "collapsed": false
   },
   "outputs": [],
   "source": [
    "# Suppose you want to rescale the circle by scaling its radius by a factor of 2\n",
    "# The following function call fails because the resize() method has not been exported\n",
    "resize(circle, 2)"
   ]
  },
  {
   "cell_type": "code",
   "execution_count": null,
   "metadata": {
    "collapsed": false
   },
   "outputs": [],
   "source": [
    "# It is still possible to call resize() by prefixing it by the module names it lives in\n",
    "Shapes.resize(circle, 2)"
   ]
  },
  {
   "cell_type": "markdown",
   "metadata": {},
   "source": [
    "If the ``resize()`` method was meant to be exported, it is not sufficient to update the ``Shapes`` module and reload it by calling ``using Shapes``. It is required to clean the current namespace by calling the ``workspace()`` function."
   ]
  },
  {
   "cell_type": "code",
   "execution_count": null,
   "metadata": {
    "collapsed": true
   },
   "outputs": [],
   "source": [
    "# Clean the current namespace by calling the workspace() function\n",
    "workspace()"
   ]
  },
  {
   "cell_type": "code",
   "execution_count": null,
   "metadata": {
    "collapsed": false
   },
   "outputs": [],
   "source": [
    "# Define a module called Shapes, this time by exporting its resize() method\n",
    "module Shapes\n",
    "\n",
    "# Export desired functionality (types and methods)\n",
    "export Point, Circle, Rectangle, area, resize\n",
    "\n",
    "# Define shape-related types\n",
    "abstract Shape\n",
    "\n",
    "abstract ConicSection <: Shape\n",
    "\n",
    "type Point{T<:Real}\n",
    "  x::T\n",
    "  y::T\n",
    "end\n",
    "\n",
    "type Circle{T<:Real} <: ConicSection\n",
    "  centre::Point{T} # Circle center is of type Point{T}\n",
    "  radius::T # Circle radius is of type T\n",
    "end\n",
    "\n",
    "type Rectangle{T<:Real} <: Shape\n",
    "  ll::Point{T} # Lower left vertex of rectangle is of type Point{T}\n",
    "  ur::Point{T} # Upper right vertex of rectangle is of type Point{T}\n",
    "end\n",
    "\n",
    "# Define shape-related methods\n",
    "area(shape::Circle) = pi*abs2(shape.radius)\n",
    "\n",
    "area(shape::Rectangle) = abs(shape.ll.y-shape.ur.y)*abs(shape.ll.x-shape.ur.x)\n",
    "\n",
    "resize(shape::Circle, c::Real) = Circle(shape.centre, c*shape.radius)\n",
    "\n",
    "end"
   ]
  },
  {
   "cell_type": "code",
   "execution_count": null,
   "metadata": {
    "collapsed": false
   },
   "outputs": [],
   "source": [
    "# Reload Shapes module\n",
    "using Shapes"
   ]
  },
  {
   "cell_type": "code",
   "execution_count": null,
   "metadata": {
    "collapsed": false
   },
   "outputs": [],
   "source": [
    "# Create a circle of center (0, 0) and radius 2\n",
    "circle = Circle(Point(0.0, 0.0), 2.0)"
   ]
  },
  {
   "cell_type": "code",
   "execution_count": null,
   "metadata": {
    "collapsed": false
   },
   "outputs": [],
   "source": [
    "# Compute the area of the circle using area() method from Shapes\n",
    "area(circle)"
   ]
  },
  {
   "cell_type": "code",
   "execution_count": null,
   "metadata": {
    "collapsed": false
   },
   "outputs": [],
   "source": [
    "# resize() can now be called directly, since it has been exported by Shapes\n",
    "resize(circle, 2)"
   ]
  },
  {
   "cell_type": "markdown",
   "metadata": {},
   "source": [
    "## Creating packages"
   ]
  },
  {
   "cell_type": "markdown",
   "metadata": {
    "collapsed": true
   },
   "source": [
    "Julia has a [built-in git-based package manager](http://docs.julialang.org/en/release-0.4/manual/packages/). You may consult the official Julia documentation to find out how to [develop and register a new package](http://docs.julialang.org/en/release-0.4/manual/packages/#package-development)."
   ]
  }
 ],
 "metadata": {
  "kernelspec": {
   "display_name": "Julia 0.4.5",
   "language": "julia",
   "name": "julia-0.4"
  },
  "language_info": {
   "file_extension": ".jl",
   "mimetype": "application/julia",
   "name": "julia",
   "version": "0.4.5"
  }
 },
 "nbformat": 4,
 "nbformat_minor": 0
}
