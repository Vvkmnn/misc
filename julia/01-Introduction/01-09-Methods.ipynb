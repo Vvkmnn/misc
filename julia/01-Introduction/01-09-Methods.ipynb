{
 "cells": [
  {
   "cell_type": "markdown",
   "metadata": {},
   "source": [
    "# Methods"
   ]
  },
  {
   "cell_type": "markdown",
   "metadata": {},
   "source": [
    "The behaviour of a function depends on the type of its input arguments. In other words, it is possible to define several functions, called *methods*, with the same name but with different input arguments. When a function is invoked, Julia decides which method to call on the basis of the function's input arguments, a mechanism known as *multiple dispatch*."
   ]
  },
  {
   "cell_type": "markdown",
   "metadata": {},
   "source": [
    "## Follow-up example using user-defined shape types"
   ]
  },
  {
   "cell_type": "code",
   "execution_count": null,
   "metadata": {
    "collapsed": false
   },
   "outputs": [],
   "source": [
    "abstract Shape\n",
    "abstract ConicSection <: Shape"
   ]
  },
  {
   "cell_type": "code",
   "execution_count": null,
   "metadata": {
    "collapsed": false
   },
   "outputs": [],
   "source": [
    "type Point{T<:Real}\n",
    "  x::T\n",
    "  y::T\n",
    "end"
   ]
  },
  {
   "cell_type": "code",
   "execution_count": null,
   "metadata": {
    "collapsed": false
   },
   "outputs": [],
   "source": [
    "type Circle{T<:Real} <: ConicSection\n",
    "  centre::Point{T} # Circle center is of type Point{T}\n",
    "  radius::T # Circle radius is of type T\n",
    "end"
   ]
  },
  {
   "cell_type": "code",
   "execution_count": null,
   "metadata": {
    "collapsed": false
   },
   "outputs": [],
   "source": [
    "# Define Rectangle to be a sub-type of the abstract Shape type\n",
    "type Rectangle{T<:Real} <: Shape\n",
    "  ll::Point{T} # Lower left vertex of rectangle is of type Point{T}\n",
    "  ur::Point{T} # Upper right vertex of rectangle is of type Point{T}\n",
    "end"
   ]
  },
  {
   "cell_type": "code",
   "execution_count": null,
   "metadata": {
    "collapsed": false
   },
   "outputs": [],
   "source": [
    "# Construct a circle with centre (0.0, 0.0) and radius 2\n",
    "circle = Circle(Point(0.0, 0.0), 2.0)"
   ]
  },
  {
   "cell_type": "code",
   "execution_count": null,
   "metadata": {
    "collapsed": false
   },
   "outputs": [],
   "source": [
    "# Construct a rectangle with lower left vertex (0.0, 0.0) and upper right vertex (2.0, 1.0)\n",
    "rectangle = Rectangle(Point(0.0, 0.0), Point(2.0, 1.0))"
   ]
  },
  {
   "cell_type": "markdown",
   "metadata": {},
   "source": [
    "## Multiple dispatch"
   ]
  },
  {
   "cell_type": "code",
   "execution_count": null,
   "metadata": {
    "collapsed": false
   },
   "outputs": [],
   "source": [
    "# Define the area() function for Circle arguments, giving the circle's area\n",
    "area(shape::Circle) = pi*abs2(shape.radius)"
   ]
  },
  {
   "cell_type": "code",
   "execution_count": null,
   "metadata": {
    "collapsed": false
   },
   "outputs": [],
   "source": [
    "area(circle)"
   ]
  },
  {
   "cell_type": "code",
   "execution_count": null,
   "metadata": {
    "collapsed": false
   },
   "outputs": [],
   "source": [
    "# Define the area() function for Rectangle arguments\n",
    "# The function name area() is the same for different input arguments\n",
    "# This is called multiple dispatch\n",
    "area(shape::Rectangle) = abs(shape.ll.y-shape.ur.y)*abs(shape.ll.x-shape.ur.x)"
   ]
  },
  {
   "cell_type": "code",
   "execution_count": null,
   "metadata": {
    "collapsed": false
   },
   "outputs": [],
   "source": [
    "area(rectangle)"
   ]
  },
  {
   "cell_type": "markdown",
   "metadata": {},
   "source": [
    "## Parametric functions and type inference on input arguments"
   ]
  },
  {
   "cell_type": "code",
   "execution_count": null,
   "metadata": {
    "collapsed": false
   },
   "outputs": [],
   "source": [
    "# resize() function returns a new circle with the same centre and radius rescaled by some coefficient c \n",
    "resize(shape::Circle, c) = Circle(shape.centre, c*shape.radius)"
   ]
  },
  {
   "cell_type": "code",
   "execution_count": null,
   "metadata": {
    "collapsed": false
   },
   "outputs": [],
   "source": [
    "# Resize circle by halving its radius\n",
    "resize(circle, 0.5)"
   ]
  },
  {
   "cell_type": "code",
   "execution_count": null,
   "metadata": {
    "collapsed": false
   },
   "outputs": [],
   "source": [
    "# The type of c was previously omitted\n",
    "# It is now stated explicitly that c is of type Float64\n",
    "resize(shape::Circle, c::Float64) = Circle(shape.centre, c*shape.radius)"
   ]
  },
  {
   "cell_type": "code",
   "execution_count": null,
   "metadata": {
    "collapsed": false
   },
   "outputs": [],
   "source": [
    "# Resize circle by halving its radius using the redefined resize function\n",
    "resize(circle, 0.5)"
   ]
  },
  {
   "cell_type": "code",
   "execution_count": null,
   "metadata": {
    "collapsed": false
   },
   "outputs": [],
   "source": [
    "# Define a resize() method in which c is of type Int64\n",
    "resize(shape::Circle, c::Int16) = Circle(shape.centre, 10*c*shape.radius)"
   ]
  },
  {
   "cell_type": "code",
   "execution_count": null,
   "metadata": {
    "collapsed": false
   },
   "outputs": [],
   "source": [
    "# Multiple dispatch picks the resize() method to call depending on the type of c\n",
    "resize(circle, 1.), resize(circle, 1)"
   ]
  },
  {
   "cell_type": "code",
   "execution_count": null,
   "metadata": {
    "collapsed": false
   },
   "outputs": [],
   "source": [
    "# Now resize is a parametric function with type parameter T shared between its input arguments\n",
    "resize{T}(shape::Circle{T}, c::T) = Circle(shape.centre, c*shape.radius)"
   ]
  },
  {
   "cell_type": "code",
   "execution_count": null,
   "metadata": {
    "collapsed": false
   },
   "outputs": [],
   "source": [
    "# Resize circle by halving its radius using the redefined resize function\n",
    "resize(circle, 1.)"
   ]
  },
  {
   "cell_type": "markdown",
   "metadata": {},
   "source": [
    "## Optional arguments"
   ]
  },
  {
   "cell_type": "code",
   "execution_count": null,
   "metadata": {
    "collapsed": false
   },
   "outputs": [],
   "source": [
    "# Provide the scaling factor c as an optional argument\n",
    "# The default value of c is set to return a circle of radius 1\n",
    "resize(shape::Circle, c=1/shape.radius) = Circle(shape.centre, c*shape.radius)"
   ]
  },
  {
   "cell_type": "code",
   "execution_count": null,
   "metadata": {
    "collapsed": false
   },
   "outputs": [],
   "source": [
    "# Call resize with one argument (the second argument takes its default value)\n",
    "resize(circle)"
   ]
  },
  {
   "cell_type": "markdown",
   "metadata": {},
   "source": [
    "## Keyword arguments"
   ]
  },
  {
   "cell_type": "code",
   "execution_count": null,
   "metadata": {
    "collapsed": false
   },
   "outputs": [],
   "source": [
    "# Provide the scaling factor as the named argument scaling\n",
    "# The default value of scaling is set to return a circle of radius 1\n",
    "resize(shape::Circle; scaling=1/shape.radius) = Circle(shape.centre, scaling*shape.radius)"
   ]
  },
  {
   "cell_type": "code",
   "execution_count": null,
   "metadata": {
    "collapsed": false
   },
   "outputs": [],
   "source": [
    "# Call resize with scaling=2\n",
    "resize(circle, scaling=2)"
   ]
  },
  {
   "cell_type": "markdown",
   "metadata": {},
   "source": [
    "## Functions changing their input"
   ]
  },
  {
   "cell_type": "code",
   "execution_count": null,
   "metadata": {
    "collapsed": false
   },
   "outputs": [],
   "source": [
    "# resize! is defined in Base already, so import it to extend it\n",
    "import Base.resize!\n",
    "\n",
    "# resize function returns a new circle with the same centre and radius rescaled by some coefficient c\n",
    "# Names of functions changing their input are conventionally suffixed by \"!\"\n",
    "function resize!(shape::Circle, c)\n",
    "  shape.radius = c*shape.radius\n",
    "  shape\n",
    "end"
   ]
  },
  {
   "cell_type": "code",
   "execution_count": null,
   "metadata": {
    "collapsed": false
   },
   "outputs": [],
   "source": [
    "resize!(circle, 0.5)\n",
    "\n",
    "circle"
   ]
  },
  {
   "cell_type": "markdown",
   "metadata": {},
   "source": [
    "## Inner constructors"
   ]
  },
  {
   "cell_type": "code",
   "execution_count": null,
   "metadata": {
    "collapsed": false
   },
   "outputs": [],
   "source": [
    "# It is possible to call the default Circle constructor with a negative radius\n",
    "Circle(Point(0.0, 0.0), -1.0)"
   ]
  },
  {
   "cell_type": "code",
   "execution_count": null,
   "metadata": {
    "collapsed": false
   },
   "outputs": [],
   "source": [
    "# This is one way of prohibiting negative radius\n",
    "type CircleWithCheck{T<:Real} <: ConicSection\n",
    "  centre::Point{T} # Circle center is of type Point{T}\n",
    "  radius::T # Circle radius is of type T\n",
    "    \n",
    "  function CircleWithCheck(centre, radius)\n",
    "    radius > zero(radius) || error(\"Circle radius must be positive.\")\n",
    "    new(centre, radius)\n",
    "  end\n",
    "end"
   ]
  },
  {
   "cell_type": "code",
   "execution_count": null,
   "metadata": {
    "collapsed": false
   },
   "outputs": [],
   "source": [
    "# Outer constructor for CircleWithCheck\n",
    "CircleWithCheck{T<:Real}(centre::Point{T}, radius::T) = CircleWithCheck{T}(centre, radius)"
   ]
  },
  {
   "cell_type": "code",
   "execution_count": null,
   "metadata": {
    "collapsed": false
   },
   "outputs": [],
   "source": [
    "# Passing a negative radius to the new constructor throws an error\n",
    "CircleWithCheck(Point(0.0, 0.0), -1.0)"
   ]
  },
  {
   "cell_type": "markdown",
   "metadata": {},
   "source": [
    "## Outer constructors"
   ]
  },
  {
   "cell_type": "code",
   "execution_count": null,
   "metadata": {
    "collapsed": false
   },
   "outputs": [],
   "source": [
    "# Constructors can be provided outside the type definition\n",
    "# The following constructor facilitates defining a unit circle with fewer arguments\n",
    "Circle() = Circle(Point(0.0, 0.0), 1.0)"
   ]
  },
  {
   "cell_type": "code",
   "execution_count": null,
   "metadata": {
    "collapsed": false
   },
   "outputs": [],
   "source": [
    "# Call the outer constructor to define a unit circle\n",
    "Circle()"
   ]
  }
 ],
 "metadata": {
  "kernelspec": {
   "display_name": "Julia 0.4.5",
   "language": "julia",
   "name": "julia-0.4"
  },
  "language_info": {
   "file_extension": ".jl",
   "mimetype": "application/julia",
   "name": "julia",
   "version": "0.4.5"
  }
 },
 "nbformat": 4,
 "nbformat_minor": 0
}
