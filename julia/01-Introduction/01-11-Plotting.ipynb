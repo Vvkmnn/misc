{
 "cells": [
  {
   "cell_type": "markdown",
   "metadata": {},
   "source": [
    "# Plotting"
   ]
  },
  {
   "cell_type": "markdown",
   "metadata": {},
   "source": [
    "## Julia packages for plotting"
   ]
  },
  {
   "cell_type": "markdown",
   "metadata": {},
   "source": [
    "- [Gadfly](https://github.com/dcjones/Gadfly.jl), a plotting system written in Julia,\n",
    "- [Winston](https://github.com/nolta/Winston.jl), yet another plotting system written in Julia,\n",
    "- [Gaston](https://github.com/mbaz/Gaston.jl), gnuplot wrapper,\n",
    "- [PyPlot](https://github.com/stevengj/PyPlot.jl), interface to the Python matplotlib plotting library,\n",
    "- [Plotly](https://github.com/plotly/Plotly-Julia), interface to the Plotly API,\n",
    "- [Vega](https://github.com/johnmyleswhite/Vega.jl), interface to the Vega visualization grammar."
   ]
  },
  {
   "cell_type": "markdown",
   "metadata": {},
   "source": [
    "## Gadfly examples"
   ]
  },
  {
   "cell_type": "markdown",
   "metadata": {},
   "source": [
    "Gadfly will be used throughout this tutorial. To start with, preliminary Gadfly plotting examples are provided to demonstrate usage."
   ]
  },
  {
   "cell_type": "code",
   "execution_count": null,
   "metadata": {
    "collapsed": false
   },
   "outputs": [],
   "source": [
    "using Gadfly"
   ]
  },
  {
   "cell_type": "markdown",
   "metadata": {},
   "source": [
    "### Example 01-11-01: time series plot"
   ]
  },
  {
   "cell_type": "code",
   "execution_count": null,
   "metadata": {
    "collapsed": false
   },
   "outputs": [],
   "source": [
    "data = [0.12, -0.04, 0.15, -0.34, -0.52, 0.01, 0.46, 0.74, 0.55, -0.78];\n",
    "n = length(data);"
   ]
  },
  {
   "cell_type": "code",
   "execution_count": null,
   "metadata": {
    "collapsed": false
   },
   "outputs": [],
   "source": [
    "plot(\n",
    "  x=collect(1:n),\n",
    "  y=data,\n",
    "  Geom.point,\n",
    "  Geom.line,\n",
    "  Coord.Cartesian(xmin=1, xmax=n),\n",
    "  Guide.xlabel(\"x label\"),\n",
    "  Guide.ylabel(\"y label\"),\n",
    "  Guide.title(\"Plot title\")\n",
    ")"
   ]
  },
  {
   "cell_type": "markdown",
   "metadata": {
    "collapsed": true
   },
   "source": [
    "### Example 01-11-02: scatter plot"
   ]
  },
  {
   "cell_type": "code",
   "execution_count": null,
   "metadata": {
    "collapsed": false
   },
   "outputs": [],
   "source": [
    "data = [\n",
    "  1.97 2.97;\n",
    "  2.01 4.54;\n",
    "  2.67 3.81;\n",
    "  3.12 2.49;\n",
    "  3.31 3.13;\n",
    "  3.42 3.82;\n",
    "  3.72 1.91;\n",
    "  4.29 4.67;\n",
    "  4.74 5.61;\n",
    "  5.44 4.66;\n",
    "  5.57 3.21;\n",
    "  7.18 6.83;\n",
    "  7.34 7.45;\n",
    "  7.43 7.19;\n",
    "  7.86 6.18;\n",
    "  8.51 7.67;\n",
    "  9.12 8.53;\n",
    "  9.55 9.31;\n",
    "  9.62 7.98;\n",
    "  9.78 8.63\n",
    "];"
   ]
  },
  {
   "cell_type": "code",
   "execution_count": null,
   "metadata": {
    "collapsed": false
   },
   "outputs": [],
   "source": [
    "plot(\n",
    "  x=data[:, 1],\n",
    "  y=data[:, 2],\n",
    "  Theme(default_color=colorant\"green\")\n",
    ")"
   ]
  },
  {
   "cell_type": "markdown",
   "metadata": {},
   "source": [
    "### Example 01-11-03: histogram"
   ]
  },
  {
   "cell_type": "code",
   "execution_count": null,
   "metadata": {
    "collapsed": false
   },
   "outputs": [],
   "source": [
    "data = [\n",
    "   1.367,\n",
    "  -1.0,\n",
    "  -0.678,\n",
    "   1.436,\n",
    "  -0.248,\n",
    "  -0.653,\n",
    "  -0.514,\n",
    "   1.508,\n",
    "  -0.682,\n",
    "   0.532,\n",
    "  -2.768,\n",
    "  -0.557,\n",
    "  -0.184,\n",
    "  -0.517,\n",
    "  -0.183,\n",
    "  -0.67, \n",
    "  -1.298,\n",
    "   0.231,\n",
    "  -1.827,\n",
    "  -0.024,\n",
    "  -0.143,\n",
    "  -0.056,\n",
    "  -1.519,\n",
    "  -0.194,\n",
    "  -1.232,\n",
    "  -0.988,\n",
    "  -0.409,\n",
    "  -0.494,\n",
    "   0.405,\n",
    "   1.484,\n",
    "  -0.573,\n",
    "  -1.301,\n",
    "  -1.041,\n",
    "   0.732,\n",
    "  -1.223\n",
    "];"
   ]
  },
  {
   "cell_type": "code",
   "execution_count": null,
   "metadata": {
    "collapsed": false
   },
   "outputs": [],
   "source": [
    "plot(\n",
    "  x=data,\n",
    "  Geom.histogram(bincount=15, density=true),\n",
    "  Guide.xlabel(\"x label\"),\n",
    "  Guide.title(\"Plot title\"),\n",
    "  Theme(default_color=colorant\"orange\")\n",
    ")"
   ]
  },
  {
   "cell_type": "markdown",
   "metadata": {
    "collapsed": true
   },
   "source": [
    "### Example 01-11-04: overlaid time series"
   ]
  },
  {
   "cell_type": "code",
   "execution_count": null,
   "metadata": {
    "collapsed": true
   },
   "outputs": [],
   "source": [
    "data = [\n",
    "   0.12 -0.52;\n",
    "  -0.04  1.04;\n",
    "   0.15  0.65;\n",
    "  -0.34 -0.74;\n",
    "  -0.52  0.62;\n",
    "   0.01  0.41;\n",
    "   0.46  0.32;\n",
    "   0.74  0.44;\n",
    "   0.55  0.21;\n",
    "  -0.78  0.28;\n",
    "];"
   ]
  },
  {
   "cell_type": "code",
   "execution_count": null,
   "metadata": {
    "collapsed": true
   },
   "outputs": [],
   "source": [
    "set_default_plot_size(14cm, 7cm)"
   ]
  },
  {
   "cell_type": "code",
   "execution_count": null,
   "metadata": {
    "collapsed": false
   },
   "outputs": [],
   "source": [
    "plot(\n",
    "  layer(\n",
    "    x=collect(1:n),\n",
    "    y=data[:, 1],\n",
    "    Geom.point,\n",
    "    Geom.line,\n",
    "    Theme(default_color=colorant\"red\")\n",
    "  ),\n",
    "  layer(\n",
    "    x=collect(1:n),\n",
    "    y=data[:, 2],\n",
    "    Geom.point,\n",
    "    Geom.line,\n",
    "    Theme(default_color=colorant\"green\")\n",
    "  ),\n",
    "  Coord.Cartesian(xmin=1, xmax=n),\n",
    "  Guide.xlabel(\"x label\"),\n",
    "  Guide.ylabel(\"y label\"),\n",
    "  Guide.title(\"Plot title\")\n",
    ")"
   ]
  }
 ],
 "metadata": {
  "kernelspec": {
   "display_name": "Julia 0.4.5",
   "language": "julia",
   "name": "julia-0.4"
  },
  "language_info": {
   "file_extension": ".jl",
   "mimetype": "application/julia",
   "name": "julia",
   "version": "0.4.5"
  }
 },
 "nbformat": 4,
 "nbformat_minor": 0
}
